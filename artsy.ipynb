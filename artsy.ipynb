{
 "cells": [
  {
   "cell_type": "markdown",
   "metadata": {},
   "source": [
    "# artsy"
   ]
  },
  {
   "cell_type": "code",
   "execution_count": 5,
   "metadata": {
    "collapsed": true
   },
   "outputs": [],
   "source": [
    "import json\n",
    "\n",
    "import requests\n",
    "\n",
    "import credentials"
   ]
  },
  {
   "cell_type": "markdown",
   "metadata": {},
   "source": [
    "### app data"
   ]
  },
  {
   "cell_type": "code",
   "execution_count": 6,
   "metadata": {
    "collapsed": true
   },
   "outputs": [],
   "source": [
    "app_name = credentials.artsy_app_name\n",
    "client_id = credentials.artsy_client_id\n",
    "client_secret = credentials.artsy_client_secret"
   ]
  },
  {
   "cell_type": "markdown",
   "metadata": {},
   "source": [
    "### token"
   ]
  },
  {
   "cell_type": "code",
   "execution_count": 7,
   "metadata": {
    "collapsed": true
   },
   "outputs": [],
   "source": [
    "BASE_URL = 'https://api.artsy.net/api'"
   ]
  },
  {
   "cell_type": "code",
   "execution_count": 21,
   "metadata": {
    "collapsed": false
   },
   "outputs": [],
   "source": [
    "token_url = BASE_URL + '/tokens/xapp_token'\n",
    "payload = {'client_id': client_id, 'client_secret': client_secret}\n",
    "response = requests.post(token_url, payload)\n",
    "token = response.json()['token']"
   ]
  },
  {
   "cell_type": "markdown",
   "metadata": {},
   "source": [
    "## search"
   ]
  },
  {
   "cell_type": "code",
   "execution_count": 31,
   "metadata": {
    "collapsed": true
   },
   "outputs": [],
   "source": [
    "search_term = 'Andy Warhol'"
   ]
  },
  {
   "cell_type": "code",
   "execution_count": 32,
   "metadata": {
    "collapsed": false
   },
   "outputs": [],
   "source": [
    "search_url = BASE_URL + '/search'\n",
    "headers = {'X-Xapp-Token': token}\n",
    "payload = {'q': search_term}\n",
    "response = requests.get(search_url, params=payload, headers=headers)"
   ]
  },
  {
   "cell_type": "code",
   "execution_count": 33,
   "metadata": {
    "collapsed": false
   },
   "outputs": [
    {
     "data": {
      "text/plain": [
       "<Response [200]>"
      ]
     },
     "execution_count": 33,
     "metadata": {},
     "output_type": "execute_result"
    }
   ],
   "source": [
    "response"
   ]
  },
  {
   "cell_type": "code",
   "execution_count": 34,
   "metadata": {
    "collapsed": false
   },
   "outputs": [
    {
     "data": {
      "text/plain": [
       "{'_embedded': {'results': [{'_links': {'permalink': {'href': 'https://www.artsy.net/artist/andy-warhol'},\n",
       "     'self': {'href': 'https://api.artsy.net/api/artists/andy-warhol'},\n",
       "     'thumbnail': {'href': 'https://d32dm0rphc51dk.cloudfront.net/PFufT6nMKNwLOpPEezf4Ww/large.jpg'}},\n",
       "    'description': 'Dec 5, 2015 ... Browse the best of Andy Warhol art, including paintings and artwork for sale (with \\nprices), upcoming shows, and exclusive Andy Warhol articles\\xa0...',\n",
       "    'og_type': 'artsyinc:artist',\n",
       "    'title': 'Andy Warhol Art - 1161 Artworks, Biography & Shows on Artsy',\n",
       "    'type': 'Artist'},\n",
       "   {'_links': {'permalink': {'href': 'https://www.artsy.net/artist/andy-warhol/works'},\n",
       "     'self': {'href': 'https://api.artsy.net/api/artists/andy-warhol'},\n",
       "     'thumbnail': {'href': 'https://i.embed.ly/1/display/resize?height=300&quality=95&grow=false&url=https%3A%2F%2Fd32dm0rphc51dk.cloudfront.net%2FVFelegc1J0GFxkS2LSJdRg%2Flarger.jpg&key=a1f82558d8134f6cbebceb9e67d04980'}},\n",
       "    'description': 'Browse the best of Andy Warhol art, including paintings and artwork for sale (with \\nprices), upcoming shows, and exclusive Andy Warhol articles on Artsy.',\n",
       "    'og_type': 'artsyinc:artist',\n",
       "    'title': 'Andy Warhol Art - 1161 Artworks, Biography & Shows on Artsy',\n",
       "    'type': 'Artist'},\n",
       "   {'_links': {'permalink': {'href': 'https://www.artsy.net/gene/pop-art'},\n",
       "     'self': {'href': 'https://api.artsy.net/api/genes/pop-art'},\n",
       "     'thumbnail': {'href': 'https://encrypted-tbn2.gstatic.com/images?q=tbn:ANd9GcQA-k4-pliSmYX4BRe48DYbQ9tCDJE0yOLo0nlLlwSOxuHW69a3YbaMS_k'}},\n",
       "    'description': '–Andy Warhol Pop Art was the dominant movement in early-1960s American art. \\nShort for “popular art,” it featured common household objects and consumer\\xa0...',\n",
       "    'og_type': 'artsyinc:gene',\n",
       "    'title': 'Pop Art',\n",
       "    'type': 'Gene'},\n",
       "   {'_links': {'permalink': {'href': 'https://www.artsy.net/show/frye-art-museum-andy-warhol-little-red-book-number-178'},\n",
       "     'self': {'href': 'https://api.artsy.net/api/shows/frye-art-museum-andy-warhol-little-red-book-number-178'},\n",
       "     'thumbnail': {'href': 'https://encrypted-tbn0.gstatic.com/images?q=tbn:ANd9GcRelUnGqenWtQP1PLKE44_b2tMkEhRYBEOaZKWSOjFnpx4rlC9kDiZezPM'}},\n",
       "    'description': 'Past show featuring works by Andy Warhol at Frye Art Museum Seattle, 704 Terry \\nAvenue Seattle May 16th – Sep. 13th.',\n",
       "    'og_type': 'artsyinc:exhibition',\n",
       "    'title': 'Andy Warhol: Little Red Book #178',\n",
       "    'type': 'Show'},\n",
       "   {'_links': {'permalink': {'href': 'https://www.artsy.net/artwork/andy-warhol-campbells-soup-series'},\n",
       "     'self': {'href': 'https://api.artsy.net/api/artworks/andy-warhol-campbells-soup-series'},\n",
       "     'thumbnail': {'href': 'https://d32dm0rphc51dk.cloudfront.net/vMMZip2LZdwqRH-To5dUXg/large.jpg'}},\n",
       "    'description': \"Available for sale from Guy Hepner, Andy Warhol, Campbell's Soup Series (1968\\n), 35 × 23 in.\",\n",
       "    'og_type': 'artsyinc:artwork',\n",
       "    'title': \"Andy Warhol, Campbell's Soup Series (1968), Available for Sale ...\",\n",
       "    'type': 'Artwork'},\n",
       "   {'_links': {'permalink': {'href': 'https://www.artsy.net/artwork/andy-warhol-flowers-1968'},\n",
       "     'self': {'href': 'https://api.artsy.net/api/artworks/andy-warhol-flowers-1968'},\n",
       "     'thumbnail': {'href': 'https://encrypted-tbn0.gstatic.com/images?q=tbn:ANd9GcRDgNkfP9P8GhuscIM2g6IO6_-EzQrJ-pKJBaAnPcNNJg9FWcCnRs1Lpn0'}},\n",
       "    'description': 'From Yale University Art Gallery, Andy Warhol, Flowers (1964), Silkscreen on \\ncanvas, 119.7 × 117.2 × 2.5 cm.',\n",
       "    'og_type': 'artsyinc:artwork',\n",
       "    'title': 'Andy Warhol, Flowers (1964)',\n",
       "    'type': 'Artwork'},\n",
       "   {'_links': {'permalink': {'href': 'https://www.artsy.net/artist/andy-warhol/auction-results'},\n",
       "     'self': {'href': 'https://api.artsy.net/api/artists/andy-warhol'},\n",
       "     'thumbnail': {'href': 'https://encrypted-tbn1.gstatic.com/images?q=tbn:ANd9GcQQkNEqiPuBFXfh7bPustLW-EnXCFjk9jfCnb3p9XxlX1Iw-ZaaRGo6FVY'}},\n",
       "    'description': 'See details of Andy Warhol auction results from recent, past, and upcoming sales\\n. Let Artsy be your price guide to Andy Warhol.',\n",
       "    'og_type': 'artsyinc:artist',\n",
       "    'title': 'Auction Results for Andy Warhol on Artsy',\n",
       "    'type': 'Artist'},\n",
       "   {'_links': {'permalink': {'href': 'https://www.artsy.net/artwork/andy-warhol-marilyn-33'},\n",
       "     'self': {'href': 'https://api.artsy.net/api/artworks/andy-warhol-marilyn-33'},\n",
       "     'thumbnail': {'href': 'https://encrypted-tbn0.gstatic.com/images?q=tbn:ANd9GcRa0-zQo4-jtRLOgxYw1r2b-UIaLHLGfv9MCs7B-_6Gim37sS6Vv2XZQs0'}},\n",
       "    'description': 'From Seattle Art Museum, Andy Warhol, Marilyn (1967), Screenprint on paper, 36 \\n× 36 in.',\n",
       "    'og_type': 'artsyinc:artwork',\n",
       "    'title': 'Andy Warhol, Marilyn (1967)',\n",
       "    'type': 'Artwork'},\n",
       "   {'_links': {'permalink': {'href': 'https://www.artsy.net/article/editorial-andy-warhols-greatest-love-cats'},\n",
       "     'thumbnail': {'href': 'https://encrypted-tbn0.gstatic.com/images?q=tbn:ANd9GcRg_mw-uRPIFBwoai6ASSflAnZaASKzAHyAamDKXJUBg8JJRq1uoT5Zv2y0'}},\n",
       "    'description': 'Jun 22, 2013 ... To call Andy Warhol a “cat person” would be an understatement. The ever-\\nquotable Pop artist openly proclaimed his love for money, fame, and\\xa0...',\n",
       "    'og_type': 'article',\n",
       "    'title': \"Andy Warhol's Greatest Love: Cats\",\n",
       "    'type': None},\n",
       "   {'_links': {'permalink': {'href': 'https://www.artsy.net/article/editorial-warhol-in-the-words-of-10-artists'},\n",
       "     'thumbnail': {'href': 'https://encrypted-tbn2.gstatic.com/images?q=tbn:ANd9GcTWTo5EGEMEAHMghKxLBnsjIo6roT0plxBEhLQDxCdP633PY6lhQ8fnBX5j'}},\n",
       "    'description': 'Jun 22, 2013 ... Ryan McGinness: “We prefer our art to look like art and our artists to behave like \\nartists. Andy courageously ignored those expectations.',\n",
       "    'og_type': 'article',\n",
       "    'title': 'Warhol in the Words of 10 Artists',\n",
       "    'type': None}]},\n",
       " '_links': {'next': {'href': 'https://api.artsy.net/api/search?offset=10&q=Andy+Warhol'},\n",
       "  'self': {'href': 'https://api.artsy.net/api/search?q=Andy+Warhol'}},\n",
       " 'offset': None,\n",
       " 'q': 'Andy Warhol',\n",
       " 'total_count': 8550}"
      ]
     },
     "execution_count": 34,
     "metadata": {},
     "output_type": "execute_result"
    }
   ],
   "source": [
    "response.json()"
   ]
  },
  {
   "cell_type": "code",
   "execution_count": 26,
   "metadata": {
    "collapsed": false
   },
   "outputs": [
    {
     "data": {
      "text/plain": [
       "'JvTPWe4WsQO-xqX6Bts49p9StMhGBkSV_qt-rywOd8KTgnM2FL7UaC2PMlYKJqwkc9iCmLWSx21fG3cIikJmBWlot_AGZqFzCVFrK4UFGrFwP9NYxf1MujKzWU589ACCBlwsff8MVm39aV-Lj1wOmaTVYHeP89FMsAwZTkMnVIFKwL2WyXaoDU17pzn2HRv2hc6O0Yx5SafVyDohig8nth-mUPSPUbXkriJWOkca07E='"
      ]
     },
     "execution_count": 26,
     "metadata": {},
     "output_type": "execute_result"
    }
   ],
   "source": [
    "token"
   ]
  },
  {
   "cell_type": "code",
   "execution_count": null,
   "metadata": {
    "collapsed": true
   },
   "outputs": [],
   "source": []
  }
 ],
 "metadata": {
  "kernelspec": {
   "display_name": "Python 3",
   "language": "python",
   "name": "python3"
  },
  "language_info": {
   "codemirror_mode": {
    "name": "ipython",
    "version": 3
   },
   "file_extension": ".py",
   "mimetype": "text/x-python",
   "name": "python",
   "nbconvert_exporter": "python",
   "pygments_lexer": "ipython3",
   "version": "3.4.3"
  }
 },
 "nbformat": 4,
 "nbformat_minor": 0
}
