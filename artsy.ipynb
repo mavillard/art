{
 "cells": [
  {
   "cell_type": "markdown",
   "metadata": {},
   "source": [
    "# artsy"
   ]
  },
  {
   "cell_type": "code",
   "execution_count": 1,
   "metadata": {
    "collapsed": true
   },
   "outputs": [],
   "source": [
    "import json\n",
    "\n",
    "from pymongo import MongoClient\n",
    "import requests\n",
    "\n",
    "import credentials"
   ]
  },
  {
   "cell_type": "markdown",
   "metadata": {},
   "source": [
    "## setup"
   ]
  },
  {
   "cell_type": "markdown",
   "metadata": {},
   "source": [
    "### database"
   ]
  },
  {
   "cell_type": "code",
   "execution_count": 2,
   "metadata": {
    "collapsed": false
   },
   "outputs": [],
   "source": [
    "client = MongoClient()\n",
    "client.drop_database('artsy')\n",
    "db = client.artsy"
   ]
  },
  {
   "cell_type": "markdown",
   "metadata": {},
   "source": [
    "### base url"
   ]
  },
  {
   "cell_type": "code",
   "execution_count": 3,
   "metadata": {
    "collapsed": true
   },
   "outputs": [],
   "source": [
    "BASE_URL = 'https://api.artsy.net/api'"
   ]
  },
  {
   "cell_type": "markdown",
   "metadata": {},
   "source": [
    "### app"
   ]
  },
  {
   "cell_type": "code",
   "execution_count": 4,
   "metadata": {
    "collapsed": true
   },
   "outputs": [],
   "source": [
    "app_name = credentials.artsy_app_name\n",
    "client_id = credentials.artsy_client_id\n",
    "client_secret = credentials.artsy_client_secret"
   ]
  },
  {
   "cell_type": "markdown",
   "metadata": {},
   "source": [
    "### token"
   ]
  },
  {
   "cell_type": "code",
   "execution_count": 5,
   "metadata": {
    "collapsed": true
   },
   "outputs": [],
   "source": [
    "headers = {}\n",
    "payload = {'client_id': client_id, 'client_secret': client_secret}\n",
    "url = BASE_URL + '/tokens/xapp_token'\n",
    "response = requests.post(url, params=payload, headers=headers)\n",
    "token = response.json()['token']"
   ]
  },
  {
   "cell_type": "markdown",
   "metadata": {},
   "source": [
    "### auxiliar"
   ]
  },
  {
   "cell_type": "code",
   "execution_count": 6,
   "metadata": {
    "collapsed": false
   },
   "outputs": [],
   "source": [
    "def change_id_field(d):\n",
    "    d['_id'] = d.pop('id')"
   ]
  },
  {
   "cell_type": "markdown",
   "metadata": {},
   "source": [
    "### test"
   ]
  },
  {
   "cell_type": "code",
   "execution_count": 7,
   "metadata": {
    "collapsed": false,
    "scrolled": false
   },
   "outputs": [],
   "source": [
    "# headers = {'X-Xapp-Token': token}x\n",
    "# payload = {'total_count': 1}\n",
    "# url = BASE_URL + '/'\n",
    "# response = requests.get(url, params=payload, headers=headers)\n",
    "# # total_count = response.json()['total_count']\n",
    "# print(response.json())"
   ]
  },
  {
   "cell_type": "markdown",
   "metadata": {},
   "source": [
    "## artsy resources\n",
    "* Status\n",
    "* Artists\n",
    "* Artworks\n",
    "* Editions\n",
    "* Genes\n",
    "* Profiles\n",
    "* Partners\n",
    "* Shows\n",
    "* Fairs\n",
    "* Applications\n",
    "* Users\n",
    "* User Details\n",
    "* Collections\n",
    "* Collection Items\n",
    "* Images\n",
    "* Search"
   ]
  },
  {
   "cell_type": "markdown",
   "metadata": {},
   "source": [
    "## status"
   ]
  },
  {
   "cell_type": "code",
   "execution_count": null,
   "metadata": {
    "collapsed": false,
    "scrolled": false
   },
   "outputs": [
    {
     "name": "stdout",
     "output_type": "stream",
     "text": [
      "Status: good\n"
     ]
    }
   ],
   "source": [
    "headers = {}\n",
    "payload = {'total_count': 1}\n",
    "url = BASE_URL + '/status'\n",
    "response = requests.get(url, params=payload, headers=headers)\n",
    "status = response.json()['status']\n",
    "print('Status: %s' % status)"
   ]
  },
  {
   "cell_type": "markdown",
   "metadata": {},
   "source": [
    "## resources\n",
    "artists, artworks, genes, profiles, partners, shows, fairs"
   ]
  },
  {
   "cell_type": "code",
   "execution_count": null,
   "metadata": {
    "collapsed": false,
    "scrolled": false
   },
   "outputs": [
    {
     "name": "stdout",
     "output_type": "stream",
     "text": [
      "Processing artists...\n",
      "Total artists: 49934"
     ]
    }
   ],
   "source": [
    "resources = ['artists', 'artworks', 'genes', 'profiles', 'partners', 'shows', 'fairs']\n",
    "for resource in resources:\n",
    "    print('Processing %s...' % resource)\n",
    "    url = BASE_URL + '/' + resource\n",
    "    headers = {'X-Xapp-Token': token}\n",
    "    \n",
    "    # total count\n",
    "    payload = {'total_count': 1}\n",
    "    response = requests.get(url, params=payload, headers=headers)\n",
    "    total_count = response.json()['total_count']\n",
    "    print('Total %s: %d' % (resource, total_count))\n",
    "    \n",
    "    # data\n",
    "    payload = {}\n",
    "    count = 0\n",
    "    while True:\n",
    "        response = requests.get(url, params=payload, headers=headers)\n",
    "        data = response.json()['_embedded'][resource]\n",
    "        if not data:\n",
    "            break\n",
    "        [change_id_field(d) for d in data]\n",
    "        db[resource].insert_many(data)\n",
    "        url = response.json()['_links']['next']['href']\n",
    "        if not url:\n",
    "            break\n",
    "        count += len(data)\n",
    "        if count % (total_count / 10) < len(data):\n",
    "            print('%d %s processed.' % (resource, count))"
   ]
  },
  {
   "cell_type": "markdown",
   "metadata": {},
   "source": [
    "## search"
   ]
  },
  {
   "cell_type": "code",
   "execution_count": null,
   "metadata": {
    "collapsed": true
   },
   "outputs": [],
   "source": [
    "search_term = 'Andy Warhol'"
   ]
  },
  {
   "cell_type": "code",
   "execution_count": null,
   "metadata": {
    "collapsed": false
   },
   "outputs": [],
   "source": [
    "search_url = BASE_URL + '/search'\n",
    "headers = {'X-Xapp-Token': token}\n",
    "payload = {'q': search_term}\n",
    "response = requests.get(search_url, params=payload, headers=headers)"
   ]
  },
  {
   "cell_type": "code",
   "execution_count": null,
   "metadata": {
    "collapsed": false
   },
   "outputs": [],
   "source": [
    "response"
   ]
  },
  {
   "cell_type": "code",
   "execution_count": null,
   "metadata": {
    "collapsed": false
   },
   "outputs": [],
   "source": [
    "response.json()"
   ]
  },
  {
   "cell_type": "code",
   "execution_count": null,
   "metadata": {
    "collapsed": true
   },
   "outputs": [],
   "source": []
  }
 ],
 "metadata": {
  "kernelspec": {
   "display_name": "Python 3",
   "language": "python",
   "name": "python3"
  },
  "language_info": {
   "codemirror_mode": {
    "name": "ipython",
    "version": 3
   },
   "file_extension": ".py",
   "mimetype": "text/x-python",
   "name": "python",
   "nbconvert_exporter": "python",
   "pygments_lexer": "ipython3",
   "version": "3.4.3"
  }
 },
 "nbformat": 4,
 "nbformat_minor": 0
}
