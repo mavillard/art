{
 "cells": [
  {
   "cell_type": "markdown",
   "metadata": {},
   "source": [
    "# artsy"
   ]
  },
  {
   "cell_type": "code",
   "execution_count": 1,
   "metadata": {
    "collapsed": true
   },
   "outputs": [],
   "source": [
    "import json\n",
    "\n",
    "from pymongo import MongoClient\n",
    "import requests\n",
    "\n",
    "import credentials"
   ]
  },
  {
   "cell_type": "markdown",
   "metadata": {},
   "source": [
    "## setup"
   ]
  },
  {
   "cell_type": "markdown",
   "metadata": {},
   "source": [
    "### database"
   ]
  },
  {
   "cell_type": "code",
   "execution_count": 23,
   "metadata": {
    "collapsed": false
   },
   "outputs": [],
   "source": [
    "client = MongoClient()\n",
    "client.drop_database('artsy')\n",
    "db = client.artsy"
   ]
  },
  {
   "cell_type": "markdown",
   "metadata": {},
   "source": [
    "### base url"
   ]
  },
  {
   "cell_type": "code",
   "execution_count": 3,
   "metadata": {
    "collapsed": true
   },
   "outputs": [],
   "source": [
    "BASE_URL = 'https://api.artsy.net/api'"
   ]
  },
  {
   "cell_type": "markdown",
   "metadata": {},
   "source": [
    "### app"
   ]
  },
  {
   "cell_type": "code",
   "execution_count": 4,
   "metadata": {
    "collapsed": true
   },
   "outputs": [],
   "source": [
    "app_name = credentials.artsy_app_name\n",
    "client_id = credentials.artsy_client_id\n",
    "client_secret = credentials.artsy_client_secret"
   ]
  },
  {
   "cell_type": "markdown",
   "metadata": {},
   "source": [
    "### token"
   ]
  },
  {
   "cell_type": "code",
   "execution_count": 5,
   "metadata": {
    "collapsed": true
   },
   "outputs": [],
   "source": [
    "headers = {}\n",
    "payload = {'client_id': client_id, 'client_secret': client_secret}\n",
    "url = BASE_URL + '/tokens/xapp_token'\n",
    "response = requests.post(url, params=payload, headers=headers)\n",
    "token = response.json()['token']"
   ]
  },
  {
   "cell_type": "markdown",
   "metadata": {},
   "source": [
    "### auxiliar"
   ]
  },
  {
   "cell_type": "code",
   "execution_count": 43,
   "metadata": {
    "collapsed": false
   },
   "outputs": [],
   "source": [
    "def change_id_field(d):\n",
    "    d['_id'] = d.pop('id')"
   ]
  },
  {
   "cell_type": "markdown",
   "metadata": {},
   "source": [
    "### test"
   ]
  },
  {
   "cell_type": "code",
   "execution_count": 44,
   "metadata": {
    "collapsed": false,
    "scrolled": false
   },
   "outputs": [
    {
     "ename": "SyntaxError",
     "evalue": "invalid syntax (<ipython-input-44-11a72e4efb48>, line 1)",
     "output_type": "error",
     "traceback": [
      "\u001b[1;36m  File \u001b[1;32m\"<ipython-input-44-11a72e4efb48>\"\u001b[1;36m, line \u001b[1;32m1\u001b[0m\n\u001b[1;33m    headers = {'X-Xapp-Token': token}x\u001b[0m\n\u001b[1;37m                                     ^\u001b[0m\n\u001b[1;31mSyntaxError\u001b[0m\u001b[1;31m:\u001b[0m invalid syntax\n"
     ]
    }
   ],
   "source": [
    "# headers = {'X-Xapp-Token': token}x\n",
    "# payload = {'total_count': 1}\n",
    "# url = BASE_URL + '/'\n",
    "# response = requests.get(url, params=payload, headers=headers)\n",
    "# # total_count = response.json()['total_count']\n",
    "# print(response.json())"
   ]
  },
  {
   "cell_type": "markdown",
   "metadata": {},
   "source": [
    "## artsy resources\n",
    "* Status\n",
    "* Artists\n",
    "* Artworks\n",
    "* Editions\n",
    "* Genes\n",
    "* Profiles\n",
    "* Partners\n",
    "* Shows\n",
    "* Fairs\n",
    "* Applications\n",
    "* Users\n",
    "* User Details\n",
    "* Collections\n",
    "* Collection Items\n",
    "* Images\n",
    "* Search"
   ]
  },
  {
   "cell_type": "markdown",
   "metadata": {},
   "source": [
    "## status"
   ]
  },
  {
   "cell_type": "code",
   "execution_count": 48,
   "metadata": {
    "collapsed": false,
    "scrolled": false
   },
   "outputs": [
    {
     "name": "stdout",
     "output_type": "stream",
     "text": [
      "Status: good\n"
     ]
    }
   ],
   "source": [
    "headers = {}\n",
    "payload = {'total_count': 1}\n",
    "url = BASE_URL + '/status'\n",
    "response = requests.get(url, params=payload, headers=headers)\n",
    "status = response.json()['status']\n",
    "print('Status: %s' % status)"
   ]
  },
  {
   "cell_type": "markdown",
   "metadata": {},
   "source": [
    "## resources\n",
    "artists, artworks, genes, profiles, partners, shows, fairs"
   ]
  },
  {
   "cell_type": "code",
   "execution_count": 73,
   "metadata": {
    "collapsed": false,
    "scrolled": false
   },
   "outputs": [
    {
     "ename": "KeyError",
     "evalue": "'total_count'",
     "output_type": "error",
     "traceback": [
      "\u001b[1;31m---------------------------------------------------------------------------\u001b[0m",
      "\u001b[1;31mKeyError\u001b[0m                                  Traceback (most recent call last)",
      "\u001b[1;32m<ipython-input-73-d345bb03a70f>\u001b[0m in \u001b[0;36m<module>\u001b[1;34m()\u001b[0m\n\u001b[0;32m      4\u001b[0m \u001b[0murl\u001b[0m \u001b[1;33m=\u001b[0m \u001b[0mBASE_URL\u001b[0m \u001b[1;33m+\u001b[0m \u001b[1;34m'/'\u001b[0m \u001b[1;33m+\u001b[0m \u001b[0mr\u001b[0m\u001b[1;33m\u001b[0m\u001b[0m\n\u001b[0;32m      5\u001b[0m \u001b[0mresponse\u001b[0m \u001b[1;33m=\u001b[0m \u001b[0mrequests\u001b[0m\u001b[1;33m.\u001b[0m\u001b[0mget\u001b[0m\u001b[1;33m(\u001b[0m\u001b[0murl\u001b[0m\u001b[1;33m,\u001b[0m \u001b[0mparams\u001b[0m\u001b[1;33m=\u001b[0m\u001b[0mpayload\u001b[0m\u001b[1;33m,\u001b[0m \u001b[0mheaders\u001b[0m\u001b[1;33m=\u001b[0m\u001b[0mheaders\u001b[0m\u001b[1;33m)\u001b[0m\u001b[1;33m\u001b[0m\u001b[0m\n\u001b[1;32m----> 6\u001b[1;33m \u001b[0mtotal_count\u001b[0m \u001b[1;33m=\u001b[0m \u001b[0mresponse\u001b[0m\u001b[1;33m.\u001b[0m\u001b[0mjson\u001b[0m\u001b[1;33m(\u001b[0m\u001b[1;33m)\u001b[0m\u001b[1;33m[\u001b[0m\u001b[1;34m'total_count'\u001b[0m\u001b[1;33m]\u001b[0m\u001b[1;33m\u001b[0m\u001b[0m\n\u001b[0m\u001b[0;32m      7\u001b[0m \u001b[0mprint\u001b[0m\u001b[1;33m(\u001b[0m\u001b[1;34m'Total artists: %d'\u001b[0m \u001b[1;33m%\u001b[0m \u001b[0mtotal_count\u001b[0m\u001b[1;33m)\u001b[0m\u001b[1;33m\u001b[0m\u001b[0m\n",
      "\u001b[1;31mKeyError\u001b[0m: 'total_count'"
     ]
    }
   ],
   "source": [
    "resources = ['artists', 'artworks', 'genes', 'profiles', 'partners', 'shows', 'fairs']\n",
    "for resource in resources:\n",
    "    print('Processing %s...', resource)\n",
    "    url = BASE_URL + '/' + resource\n",
    "    headers = {'X-Xapp-Token': token}\n",
    "    \n",
    "    # total count\n",
    "    payload = {'total_count': 1}\n",
    "    response = requests.get(url, params=payload, headers=headers)\n",
    "    total_count = response.json()['total_count']\n",
    "    print('Total %s: %d' % (resource, total_count))\n",
    "    \n",
    "    # data\n",
    "    payload = {}\n",
    "    count = 0\n",
    "    while True:\n",
    "        response = requests.get(url, params=payload, headers=headers)\n",
    "        data = response.json()['_embedded'][resource]\n",
    "        if not data:\n",
    "            break\n",
    "        [change_id_field(d) for d in data]\n",
    "        db.artists.insert_many(data)\n",
    "        url = response.json()['_links']['next']['href']\n",
    "        if not url:\n",
    "            break\n",
    "        count += len(data)\n",
    "        if count % (total_count / 10) < len(data):\n",
    "            print('%d %s processed.' % (resource, count))"
   ]
  },
  {
   "cell_type": "markdown",
   "metadata": {},
   "source": [
    "## search"
   ]
  },
  {
   "cell_type": "code",
   "execution_count": 31,
   "metadata": {
    "collapsed": true
   },
   "outputs": [],
   "source": [
    "search_term = 'Andy Warhol'"
   ]
  },
  {
   "cell_type": "code",
   "execution_count": 32,
   "metadata": {
    "collapsed": false
   },
   "outputs": [],
   "source": [
    "search_url = BASE_URL + '/search'\n",
    "headers = {'X-Xapp-Token': token}\n",
    "payload = {'q': search_term}\n",
    "response = requests.get(search_url, params=payload, headers=headers)"
   ]
  },
  {
   "cell_type": "code",
   "execution_count": 33,
   "metadata": {
    "collapsed": false
   },
   "outputs": [
    {
     "data": {
      "text/plain": [
       "<Response [200]>"
      ]
     },
     "execution_count": 33,
     "metadata": {},
     "output_type": "execute_result"
    }
   ],
   "source": [
    "response"
   ]
  },
  {
   "cell_type": "code",
   "execution_count": 34,
   "metadata": {
    "collapsed": false
   },
   "outputs": [
    {
     "data": {
      "text/plain": [
       "{'_embedded': {'results': [{'_links': {'permalink': {'href': 'https://www.artsy.net/artist/andy-warhol'},\n",
       "     'self': {'href': 'https://api.artsy.net/api/artists/andy-warhol'},\n",
       "     'thumbnail': {'href': 'https://d32dm0rphc51dk.cloudfront.net/PFufT6nMKNwLOpPEezf4Ww/large.jpg'}},\n",
       "    'description': 'Dec 5, 2015 ... Browse the best of Andy Warhol art, including paintings and artwork for sale (with \\nprices), upcoming shows, and exclusive Andy Warhol articles\\xa0...',\n",
       "    'og_type': 'artsyinc:artist',\n",
       "    'title': 'Andy Warhol Art - 1161 Artworks, Biography & Shows on Artsy',\n",
       "    'type': 'Artist'},\n",
       "   {'_links': {'permalink': {'href': 'https://www.artsy.net/artist/andy-warhol/works'},\n",
       "     'self': {'href': 'https://api.artsy.net/api/artists/andy-warhol'},\n",
       "     'thumbnail': {'href': 'https://i.embed.ly/1/display/resize?height=300&quality=95&grow=false&url=https%3A%2F%2Fd32dm0rphc51dk.cloudfront.net%2FVFelegc1J0GFxkS2LSJdRg%2Flarger.jpg&key=a1f82558d8134f6cbebceb9e67d04980'}},\n",
       "    'description': 'Browse the best of Andy Warhol art, including paintings and artwork for sale (with \\nprices), upcoming shows, and exclusive Andy Warhol articles on Artsy.',\n",
       "    'og_type': 'artsyinc:artist',\n",
       "    'title': 'Andy Warhol Art - 1161 Artworks, Biography & Shows on Artsy',\n",
       "    'type': 'Artist'},\n",
       "   {'_links': {'permalink': {'href': 'https://www.artsy.net/gene/pop-art'},\n",
       "     'self': {'href': 'https://api.artsy.net/api/genes/pop-art'},\n",
       "     'thumbnail': {'href': 'https://encrypted-tbn2.gstatic.com/images?q=tbn:ANd9GcQA-k4-pliSmYX4BRe48DYbQ9tCDJE0yOLo0nlLlwSOxuHW69a3YbaMS_k'}},\n",
       "    'description': '–Andy Warhol Pop Art was the dominant movement in early-1960s American art. \\nShort for “popular art,” it featured common household objects and consumer\\xa0...',\n",
       "    'og_type': 'artsyinc:gene',\n",
       "    'title': 'Pop Art',\n",
       "    'type': 'Gene'},\n",
       "   {'_links': {'permalink': {'href': 'https://www.artsy.net/show/frye-art-museum-andy-warhol-little-red-book-number-178'},\n",
       "     'self': {'href': 'https://api.artsy.net/api/shows/frye-art-museum-andy-warhol-little-red-book-number-178'},\n",
       "     'thumbnail': {'href': 'https://encrypted-tbn0.gstatic.com/images?q=tbn:ANd9GcRelUnGqenWtQP1PLKE44_b2tMkEhRYBEOaZKWSOjFnpx4rlC9kDiZezPM'}},\n",
       "    'description': 'Past show featuring works by Andy Warhol at Frye Art Museum Seattle, 704 Terry \\nAvenue Seattle May 16th – Sep. 13th.',\n",
       "    'og_type': 'artsyinc:exhibition',\n",
       "    'title': 'Andy Warhol: Little Red Book #178',\n",
       "    'type': 'Show'},\n",
       "   {'_links': {'permalink': {'href': 'https://www.artsy.net/artwork/andy-warhol-campbells-soup-series'},\n",
       "     'self': {'href': 'https://api.artsy.net/api/artworks/andy-warhol-campbells-soup-series'},\n",
       "     'thumbnail': {'href': 'https://d32dm0rphc51dk.cloudfront.net/vMMZip2LZdwqRH-To5dUXg/large.jpg'}},\n",
       "    'description': \"Available for sale from Guy Hepner, Andy Warhol, Campbell's Soup Series (1968\\n), 35 × 23 in.\",\n",
       "    'og_type': 'artsyinc:artwork',\n",
       "    'title': \"Andy Warhol, Campbell's Soup Series (1968), Available for Sale ...\",\n",
       "    'type': 'Artwork'},\n",
       "   {'_links': {'permalink': {'href': 'https://www.artsy.net/artwork/andy-warhol-flowers-1968'},\n",
       "     'self': {'href': 'https://api.artsy.net/api/artworks/andy-warhol-flowers-1968'},\n",
       "     'thumbnail': {'href': 'https://encrypted-tbn0.gstatic.com/images?q=tbn:ANd9GcRDgNkfP9P8GhuscIM2g6IO6_-EzQrJ-pKJBaAnPcNNJg9FWcCnRs1Lpn0'}},\n",
       "    'description': 'From Yale University Art Gallery, Andy Warhol, Flowers (1964), Silkscreen on \\ncanvas, 119.7 × 117.2 × 2.5 cm.',\n",
       "    'og_type': 'artsyinc:artwork',\n",
       "    'title': 'Andy Warhol, Flowers (1964)',\n",
       "    'type': 'Artwork'},\n",
       "   {'_links': {'permalink': {'href': 'https://www.artsy.net/artist/andy-warhol/auction-results'},\n",
       "     'self': {'href': 'https://api.artsy.net/api/artists/andy-warhol'},\n",
       "     'thumbnail': {'href': 'https://encrypted-tbn1.gstatic.com/images?q=tbn:ANd9GcQQkNEqiPuBFXfh7bPustLW-EnXCFjk9jfCnb3p9XxlX1Iw-ZaaRGo6FVY'}},\n",
       "    'description': 'See details of Andy Warhol auction results from recent, past, and upcoming sales\\n. Let Artsy be your price guide to Andy Warhol.',\n",
       "    'og_type': 'artsyinc:artist',\n",
       "    'title': 'Auction Results for Andy Warhol on Artsy',\n",
       "    'type': 'Artist'},\n",
       "   {'_links': {'permalink': {'href': 'https://www.artsy.net/artwork/andy-warhol-marilyn-33'},\n",
       "     'self': {'href': 'https://api.artsy.net/api/artworks/andy-warhol-marilyn-33'},\n",
       "     'thumbnail': {'href': 'https://encrypted-tbn0.gstatic.com/images?q=tbn:ANd9GcRa0-zQo4-jtRLOgxYw1r2b-UIaLHLGfv9MCs7B-_6Gim37sS6Vv2XZQs0'}},\n",
       "    'description': 'From Seattle Art Museum, Andy Warhol, Marilyn (1967), Screenprint on paper, 36 \\n× 36 in.',\n",
       "    'og_type': 'artsyinc:artwork',\n",
       "    'title': 'Andy Warhol, Marilyn (1967)',\n",
       "    'type': 'Artwork'},\n",
       "   {'_links': {'permalink': {'href': 'https://www.artsy.net/article/editorial-andy-warhols-greatest-love-cats'},\n",
       "     'thumbnail': {'href': 'https://encrypted-tbn0.gstatic.com/images?q=tbn:ANd9GcRg_mw-uRPIFBwoai6ASSflAnZaASKzAHyAamDKXJUBg8JJRq1uoT5Zv2y0'}},\n",
       "    'description': 'Jun 22, 2013 ... To call Andy Warhol a “cat person” would be an understatement. The ever-\\nquotable Pop artist openly proclaimed his love for money, fame, and\\xa0...',\n",
       "    'og_type': 'article',\n",
       "    'title': \"Andy Warhol's Greatest Love: Cats\",\n",
       "    'type': None},\n",
       "   {'_links': {'permalink': {'href': 'https://www.artsy.net/article/editorial-warhol-in-the-words-of-10-artists'},\n",
       "     'thumbnail': {'href': 'https://encrypted-tbn2.gstatic.com/images?q=tbn:ANd9GcTWTo5EGEMEAHMghKxLBnsjIo6roT0plxBEhLQDxCdP633PY6lhQ8fnBX5j'}},\n",
       "    'description': 'Jun 22, 2013 ... Ryan McGinness: “We prefer our art to look like art and our artists to behave like \\nartists. Andy courageously ignored those expectations.',\n",
       "    'og_type': 'article',\n",
       "    'title': 'Warhol in the Words of 10 Artists',\n",
       "    'type': None}]},\n",
       " '_links': {'next': {'href': 'https://api.artsy.net/api/search?offset=10&q=Andy+Warhol'},\n",
       "  'self': {'href': 'https://api.artsy.net/api/search?q=Andy+Warhol'}},\n",
       " 'offset': None,\n",
       " 'q': 'Andy Warhol',\n",
       " 'total_count': 8550}"
      ]
     },
     "execution_count": 34,
     "metadata": {},
     "output_type": "execute_result"
    }
   ],
   "source": [
    "response.json()"
   ]
  },
  {
   "cell_type": "code",
   "execution_count": null,
   "metadata": {
    "collapsed": true
   },
   "outputs": [],
   "source": []
  }
 ],
 "metadata": {
  "kernelspec": {
   "display_name": "Python 3",
   "language": "python",
   "name": "python3"
  },
  "language_info": {
   "codemirror_mode": {
    "name": "ipython",
    "version": 3
   },
   "file_extension": ".py",
   "mimetype": "text/x-python",
   "name": "python",
   "nbconvert_exporter": "python",
   "pygments_lexer": "ipython3",
   "version": "3.4.3"
  }
 },
 "nbformat": 4,
 "nbformat_minor": 0
}
