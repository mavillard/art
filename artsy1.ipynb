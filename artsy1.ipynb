{
 "cells": [
  {
   "cell_type": "markdown",
   "metadata": {},
   "source": [
    "# artsy"
   ]
  },
  {
   "cell_type": "code",
   "execution_count": 1,
   "metadata": {
    "collapsed": true
   },
   "outputs": [],
   "source": [
    "from pymongo import MongoClient\n",
    "import requests\n",
    "\n",
    "import credentials"
   ]
  },
  {
   "cell_type": "markdown",
   "metadata": {},
   "source": [
    "## setup"
   ]
  },
  {
   "cell_type": "markdown",
   "metadata": {},
   "source": [
    "### database"
   ]
  },
  {
   "cell_type": "code",
   "execution_count": 2,
   "metadata": {
    "collapsed": false
   },
   "outputs": [],
   "source": [
    "client = MongoClient()\n",
    "# client.drop_database('artsy')\n",
    "db = client.artsy"
   ]
  },
  {
   "cell_type": "markdown",
   "metadata": {},
   "source": [
    "### base url"
   ]
  },
  {
   "cell_type": "code",
   "execution_count": 3,
   "metadata": {
    "collapsed": true
   },
   "outputs": [],
   "source": [
    "BASE_URL = 'https://api.artsy.net/api'"
   ]
  },
  {
   "cell_type": "markdown",
   "metadata": {},
   "source": [
    "### app"
   ]
  },
  {
   "cell_type": "code",
   "execution_count": 4,
   "metadata": {
    "collapsed": true
   },
   "outputs": [],
   "source": [
    "app_name = credentials.artsy_app_name\n",
    "client_id = credentials.artsy_client_id\n",
    "client_secret = credentials.artsy_client_secret"
   ]
  },
  {
   "cell_type": "markdown",
   "metadata": {},
   "source": [
    "### token"
   ]
  },
  {
   "cell_type": "code",
   "execution_count": 5,
   "metadata": {
    "collapsed": true
   },
   "outputs": [],
   "source": [
    "headers = {}\n",
    "payload = {'client_id': client_id, 'client_secret': client_secret}\n",
    "url = BASE_URL + '/tokens/xapp_token'\n",
    "response = requests.post(url, params=payload, headers=headers)\n",
    "token = response.json()['token']"
   ]
  },
  {
   "cell_type": "markdown",
   "metadata": {},
   "source": [
    "### auxiliar"
   ]
  },
  {
   "cell_type": "code",
   "execution_count": 6,
   "metadata": {
    "collapsed": false
   },
   "outputs": [],
   "source": [
    "def change_id_field(d):\n",
    "    d['_id'] = d.pop('id')"
   ]
  },
  {
   "cell_type": "markdown",
   "metadata": {},
   "source": [
    "## artsy resources\n",
    "* Status\n",
    "* Artists\n",
    "* Artworks\n",
    "* Editions\n",
    "* Genes\n",
    "* Profiles\n",
    "* Partners\n",
    "* Shows\n",
    "* Fairs\n",
    "* Applications\n",
    "* Users\n",
    "* User Details\n",
    "* Collections\n",
    "* Collection Items\n",
    "* Images\n",
    "* Search"
   ]
  },
  {
   "cell_type": "markdown",
   "metadata": {},
   "source": [
    "## status"
   ]
  },
  {
   "cell_type": "code",
   "execution_count": 8,
   "metadata": {
    "collapsed": false,
    "scrolled": false
   },
   "outputs": [
    {
     "name": "stdout",
     "output_type": "stream",
     "text": [
      "Status: good\n"
     ]
    }
   ],
   "source": [
    "headers = {}\n",
    "payload = {}\n",
    "url = BASE_URL + '/status'\n",
    "response = requests.get(url, params=payload, headers=headers)\n",
    "status = response.json()['status']\n",
    "print('Status: %s' % status)"
   ]
  },
  {
   "cell_type": "markdown",
   "metadata": {},
   "source": [
    "## resources"
   ]
  },
  {
   "cell_type": "markdown",
   "metadata": {},
   "source": [
    "### artists, artworks, genes, profiles, partners, shows, fairs"
   ]
  },
  {
   "cell_type": "code",
   "execution_count": 9,
   "metadata": {
    "collapsed": false,
    "scrolled": false
   },
   "outputs": [
    {
     "name": "stdout",
     "output_type": "stream",
     "text": [
      "\n",
      "Processing artists...\n",
      "Total artists: 49934\n",
      "4995 artists processed.\n",
      "9990 artists processed.\n",
      "14985 artists processed.\n",
      "19975 artists processed.\n",
      "24970 artists processed.\n",
      "29965 artists processed.\n",
      "34955 artists processed.\n",
      "39950 artists processed.\n",
      "44945 artists processed.\n",
      "49934 artists processed.\n",
      "\n",
      "Processing artworks...\n",
      "Total artworks: 26074\n",
      "2610 artworks processed.\n",
      "5215 artworks processed.\n",
      "7825 artworks processed.\n",
      "10430 artworks processed.\n",
      "13040 artworks processed.\n",
      "15645 artworks processed.\n",
      "18255 artworks processed.\n",
      "20860 artworks processed.\n",
      "23470 artworks processed.\n",
      "\n",
      "Processing genes...\n",
      "Total genes: 921\n",
      "95 genes processed.\n",
      "185 genes processed.\n",
      "280 genes processed.\n",
      "370 genes processed.\n",
      "465 genes processed.\n",
      "555 genes processed.\n",
      "645 genes processed.\n",
      "740 genes processed.\n",
      "830 genes processed.\n",
      "921 genes processed.\n",
      "\n",
      "Processing profiles...\n",
      "Total profiles: 2466\n",
      "250 profiles processed.\n",
      "495 profiles processed.\n",
      "740 profiles processed.\n",
      "990 profiles processed.\n",
      "1235 profiles processed.\n",
      "1480 profiles processed.\n",
      "1730 profiles processed.\n",
      "1975 profiles processed.\n",
      "2220 profiles processed.\n",
      "2466 profiles processed.\n",
      "\n",
      "Processing partners...\n",
      "Total partners: 1461\n",
      "150 partners processed.\n",
      "295 partners processed.\n",
      "440 partners processed.\n",
      "585 partners processed.\n",
      "735 partners processed.\n",
      "880 partners processed.\n",
      "1025 partners processed.\n",
      "1170 partners processed.\n",
      "1315 partners processed.\n",
      "1461 partners processed.\n",
      "\n",
      "Processing shows...\n",
      "Total shows: 7902\n",
      "795 shows processed.\n",
      "1585 shows processed.\n",
      "2375 shows processed.\n",
      "3165 shows processed.\n",
      "3955 shows processed.\n",
      "4745 shows processed.\n",
      "5535 shows processed.\n",
      "6325 shows processed.\n",
      "7115 shows processed.\n",
      "\n",
      "Processing fairs...\n",
      "Total fairs: 443\n",
      "45 fairs processed.\n",
      "90 fairs processed.\n",
      "135 fairs processed.\n",
      "180 fairs processed.\n",
      "225 fairs processed.\n",
      "270 fairs processed.\n",
      "315 fairs processed.\n",
      "355 fairs processed.\n",
      "400 fairs processed.\n",
      "443 fairs processed.\n"
     ]
    }
   ],
   "source": [
    "headers = {'X-Xapp-Token': token}\n",
    "resources = ['artists', 'artworks', 'genes', 'profiles', 'partners', 'shows', 'fairs']\n",
    "for resource in resources:\n",
    "    print()\n",
    "    print('Processing %s...' % resource)\n",
    "    url = BASE_URL + '/' + resource\n",
    "    \n",
    "    # total count\n",
    "    payload = {'total_count': 1}\n",
    "    response = requests.get(url, params=payload, headers=headers)\n",
    "    total_count = response.json()['total_count']\n",
    "    print('Total %s: %d' % (resource, total_count))\n",
    "    \n",
    "    # data\n",
    "    payload = {}\n",
    "    count = 0\n",
    "    while True:\n",
    "        response = requests.get(url, params=payload, headers=headers)\n",
    "        data = response.json()['_embedded'][resource]\n",
    "        if not data:\n",
    "            break\n",
    "        [change_id_field(d) for d in data]\n",
    "        db[resource].insert_many(data)\n",
    "        url = response.json()['_links']['next']['href']\n",
    "        if not url:\n",
    "            break\n",
    "        count += len(data)\n",
    "        if count % (total_count / 10) < len(data):\n",
    "            print('%d %s processed.' % (count, resource))"
   ]
  },
  {
   "cell_type": "code",
   "execution_count": null,
   "metadata": {
    "collapsed": true
   },
   "outputs": [],
   "source": []
  }
 ],
 "metadata": {
  "kernelspec": {
   "display_name": "Python 3",
   "language": "python",
   "name": "python3"
  },
  "language_info": {
   "codemirror_mode": {
    "name": "ipython",
    "version": 3
   },
   "file_extension": ".py",
   "mimetype": "text/x-python",
   "name": "python",
   "nbconvert_exporter": "python",
   "pygments_lexer": "ipython3",
   "version": "3.4.3"
  }
 },
 "nbformat": 4,
 "nbformat_minor": 0
}
