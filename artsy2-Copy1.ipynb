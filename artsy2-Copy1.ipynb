{
 "cells": [
  {
   "cell_type": "markdown",
   "metadata": {},
   "source": [
    "# artsy"
   ]
  },
  {
   "cell_type": "code",
   "execution_count": 56,
   "metadata": {
    "collapsed": true
   },
   "outputs": [],
   "source": [
    "from pymongo import MongoClient\n",
    "import requests\n",
    "\n",
    "import credentials"
   ]
  },
  {
   "cell_type": "markdown",
   "metadata": {},
   "source": [
    "## setup"
   ]
  },
  {
   "cell_type": "markdown",
   "metadata": {},
   "source": [
    "### database"
   ]
  },
  {
   "cell_type": "code",
   "execution_count": 2,
   "metadata": {
    "collapsed": false
   },
   "outputs": [],
   "source": [
    "client = MongoClient()\n",
    "# client.drop_database('artsy')\n",
    "db = client.artsy"
   ]
  },
  {
   "cell_type": "code",
   "execution_count": 23,
   "metadata": {
    "collapsed": false,
    "scrolled": true
   },
   "outputs": [
    {
     "data": {
      "text/plain": [
       "{'_id': '4d8b92724eb68a1b2c000108',\n",
       " '_links': {'artworks': {'href': 'https://api.artsy.net/api/artworks?artist_id=4d8b92724eb68a1b2c000108'},\n",
       "  'curies': [{'href': 'https://d32dm0rphc51dk.cloudfront.net/3VUm07DpKQNQdA_QfCrPcA/{rel}',\n",
       "    'name': 'image',\n",
       "    'templated': True}],\n",
       "  'genes': {'href': 'https://api.artsy.net/api/genes?artist_id=4d8b92724eb68a1b2c000108'},\n",
       "  'image:self': {'href': '{?image_version}.jpg', 'templated': True},\n",
       "  'permalink': {'href': 'http://www.artsy.net/artist/james-rosenquist'},\n",
       "  'published_artworks': {'href': 'https://api.artsy.net/api/artworks?artist_id=4d8b92724eb68a1b2c000108&published=true'},\n",
       "  'self': {'href': 'https://api.artsy.net/api/artists/4d8b92724eb68a1b2c000108'},\n",
       "  'similar_artists': {'href': 'https://api.artsy.net/api/artists?similar_to_artist_id=4d8b92724eb68a1b2c000108'},\n",
       "  'similar_contemporary_artists': {'href': 'https://api.artsy.net/api/artists?similar_to_artist_id=4d8b92724eb68a1b2c000108&similarity_type=contemporary'},\n",
       "  'thumbnail': {'href': 'https://d32dm0rphc51dk.cloudfront.net/3VUm07DpKQNQdA_QfCrPcA/four_thirds.jpg'}},\n",
       " 'birthday': '1933',\n",
       " 'created_at': '2010-08-24T20:50:12+00:00',\n",
       " 'gender': 'male',\n",
       " 'hometown': 'Grand Forks, North Dakota',\n",
       " 'image_versions': ['four_thirds', 'large', 'square', 'tall'],\n",
       " 'location': 'Aripeka, Florida',\n",
       " 'name': 'James Rosenquist',\n",
       " 'nationality': 'American',\n",
       " 'sortable_name': 'Rosenquist James',\n",
       " 'updated_at': '2015-12-25T06:05:44+00:00'}"
      ]
     },
     "execution_count": 23,
     "metadata": {},
     "output_type": "execute_result"
    }
   ],
   "source": [
    "a"
   ]
  },
  {
   "cell_type": "markdown",
   "metadata": {},
   "source": [
    "### base url"
   ]
  },
  {
   "cell_type": "code",
   "execution_count": 14,
   "metadata": {
    "collapsed": true
   },
   "outputs": [],
   "source": [
    "BASE_URL = 'https://api.artsy.net/api'"
   ]
  },
  {
   "cell_type": "markdown",
   "metadata": {},
   "source": [
    "### app"
   ]
  },
  {
   "cell_type": "code",
   "execution_count": 15,
   "metadata": {
    "collapsed": true
   },
   "outputs": [],
   "source": [
    "app_name = credentials.artsy_app_name\n",
    "client_id = credentials.artsy_client_id\n",
    "client_secret = credentials.artsy_client_secret"
   ]
  },
  {
   "cell_type": "markdown",
   "metadata": {},
   "source": [
    "### token"
   ]
  },
  {
   "cell_type": "code",
   "execution_count": 16,
   "metadata": {
    "collapsed": false
   },
   "outputs": [],
   "source": [
    "headers = {}\n",
    "payload = {'client_id': client_id, 'client_secret': client_secret}\n",
    "url = BASE_URL + '/tokens/xapp_token'\n",
    "response = requests.post(url, params=payload, headers=headers)\n",
    "token = response.json()['token']"
   ]
  },
  {
   "cell_type": "markdown",
   "metadata": {},
   "source": [
    "### auxiliar"
   ]
  },
  {
   "cell_type": "code",
   "execution_count": 17,
   "metadata": {
    "collapsed": false
   },
   "outputs": [],
   "source": [
    "def change_id_field(d):\n",
    "    d['_id'] = d.pop('id')"
   ]
  },
  {
   "cell_type": "markdown",
   "metadata": {},
   "source": [
    "### test"
   ]
  },
  {
   "cell_type": "code",
   "execution_count": 76,
   "metadata": {
    "collapsed": false,
    "scrolled": false
   },
   "outputs": [
    {
     "name": "stdout",
     "output_type": "stream",
     "text": [
      "[{'birthday': '1933', 'name': 'James Rosenquist', 'location': 'Aripeka, Florida', 'image_versions': ['four_thirds', 'large', 'square', 'tall'], 'id': '4d8b92724eb68a1b2c000108', 'nationality': 'American', 'updated_at': '2015-12-26T21:03:09+00:00', 'gender': 'male', 'sortable_name': 'Rosenquist James', 'hometown': 'Grand Forks, North Dakota', '_links': {'published_artworks': {'href': 'https://api.artsy.net/api/artworks?artist_id=4d8b92724eb68a1b2c000108&published=true'}, 'image:self': {'templated': True, 'href': '{?image_version}.jpg'}, 'similar_contemporary_artists': {'href': 'https://api.artsy.net/api/artists?similar_to_artist_id=4d8b92724eb68a1b2c000108&similarity_type=contemporary'}, 'thumbnail': {'href': 'https://d32dm0rphc51dk.cloudfront.net/3VUm07DpKQNQdA_QfCrPcA/four_thirds.jpg'}, 'artworks': {'href': 'https://api.artsy.net/api/artworks?artist_id=4d8b92724eb68a1b2c000108'}, 'self': {'href': 'https://api.artsy.net/api/artists/4d8b92724eb68a1b2c000108'}, 'curies': [{'templated': True, 'name': 'image', 'href': 'https://d32dm0rphc51dk.cloudfront.net/3VUm07DpKQNQdA_QfCrPcA/{rel}'}], 'similar_artists': {'href': 'https://api.artsy.net/api/artists?similar_to_artist_id=4d8b92724eb68a1b2c000108'}, 'genes': {'href': 'https://api.artsy.net/api/genes?artist_id=4d8b92724eb68a1b2c000108'}, 'permalink': {'href': 'http://www.artsy.net/artist/james-rosenquist'}}, 'created_at': '2010-08-24T20:50:12+00:00'}, {'birthday': '1922', 'name': 'Richard Hamilton', 'location': None, 'image_versions': ['four_thirds', 'large', 'square', 'tall'], 'id': '4dbd5bfadb8e5401d80001ac', 'nationality': 'British', 'updated_at': '2015-12-26T18:01:51+00:00', 'gender': 'male', 'sortable_name': 'Hamilton Richard', 'hometown': 'London, United Kingdom', '_links': {'published_artworks': {'href': 'https://api.artsy.net/api/artworks?artist_id=4dbd5bfadb8e5401d80001ac&published=true'}, 'image:self': {'templated': True, 'href': '{?image_version}.jpg'}, 'similar_contemporary_artists': {'href': 'https://api.artsy.net/api/artists?similar_to_artist_id=4dbd5bfadb8e5401d80001ac&similarity_type=contemporary'}, 'thumbnail': {'href': 'https://d32dm0rphc51dk.cloudfront.net/CqLm5-pqOP2wlCcXoxTkhw/four_thirds.jpg'}, 'artworks': {'href': 'https://api.artsy.net/api/artworks?artist_id=4dbd5bfadb8e5401d80001ac'}, 'self': {'href': 'https://api.artsy.net/api/artists/4dbd5bfadb8e5401d80001ac'}, 'curies': [{'templated': True, 'name': 'image', 'href': 'https://d32dm0rphc51dk.cloudfront.net/CqLm5-pqOP2wlCcXoxTkhw/{rel}'}], 'similar_artists': {'href': 'https://api.artsy.net/api/artists?similar_to_artist_id=4dbd5bfadb8e5401d80001ac'}, 'genes': {'href': 'https://api.artsy.net/api/genes?artist_id=4dbd5bfadb8e5401d80001ac'}, 'permalink': {'href': 'http://www.artsy.net/artist/richard-hamilton'}}, 'created_at': '2011-05-01T13:11:22+00:00'}, {'birthday': '1923', 'name': 'Roy Lichtenstein', 'location': 'New York and Southampton, New York', 'image_versions': ['four_thirds', 'large', 'square', 'tall'], 'id': '4d8b92734eb68a1b2c00010c', 'nationality': 'American', 'updated_at': '2015-12-27T03:26:03+00:00', 'gender': 'male', 'sortable_name': 'Lichtenstein Roy', 'hometown': 'New York, New York', '_links': {'published_artworks': {'href': 'https://api.artsy.net/api/artworks?artist_id=4d8b92734eb68a1b2c00010c&published=true'}, 'image:self': {'templated': True, 'href': '{?image_version}.jpg'}, 'similar_contemporary_artists': {'href': 'https://api.artsy.net/api/artists?similar_to_artist_id=4d8b92734eb68a1b2c00010c&similarity_type=contemporary'}, 'thumbnail': {'href': 'https://d32dm0rphc51dk.cloudfront.net/C25F9VNs5Us3qv70AuYmKA/four_thirds.jpg'}, 'artworks': {'href': 'https://api.artsy.net/api/artworks?artist_id=4d8b92734eb68a1b2c00010c'}, 'self': {'href': 'https://api.artsy.net/api/artists/4d8b92734eb68a1b2c00010c'}, 'curies': [{'templated': True, 'name': 'image', 'href': 'https://d32dm0rphc51dk.cloudfront.net/C25F9VNs5Us3qv70AuYmKA/{rel}'}], 'similar_artists': {'href': 'https://api.artsy.net/api/artists?similar_to_artist_id=4d8b92734eb68a1b2c00010c'}, 'genes': {'href': 'https://api.artsy.net/api/genes?artist_id=4d8b92734eb68a1b2c00010c'}, 'permalink': {'href': 'http://www.artsy.net/artist/roy-lichtenstein'}}, 'created_at': '2010-09-20T21:58:27+00:00'}, {'birthday': '1935', 'name': 'Mel Ramos', 'location': 'Oakland, California', 'image_versions': ['four_thirds', 'large', 'square', 'tall'], 'id': '4e94a66bc889080001003ff4', 'nationality': 'American', 'updated_at': '2015-12-27T03:29:31+00:00', 'gender': 'male', 'sortable_name': 'Ramos Mel', 'hometown': 'Sacramento, California', '_links': {'published_artworks': {'href': 'https://api.artsy.net/api/artworks?artist_id=4e94a66bc889080001003ff4&published=true'}, 'image:self': {'templated': True, 'href': '{?image_version}.jpg'}, 'similar_contemporary_artists': {'href': 'https://api.artsy.net/api/artists?similar_to_artist_id=4e94a66bc889080001003ff4&similarity_type=contemporary'}, 'thumbnail': {'href': 'https://d32dm0rphc51dk.cloudfront.net/zRIrcfojWmxXOleolo3nNw/four_thirds.jpg'}, 'artworks': {'href': 'https://api.artsy.net/api/artworks?artist_id=4e94a66bc889080001003ff4'}, 'self': {'href': 'https://api.artsy.net/api/artists/4e94a66bc889080001003ff4'}, 'curies': [{'templated': True, 'name': 'image', 'href': 'https://d32dm0rphc51dk.cloudfront.net/zRIrcfojWmxXOleolo3nNw/{rel}'}], 'similar_artists': {'href': 'https://api.artsy.net/api/artists?similar_to_artist_id=4e94a66bc889080001003ff4'}, 'genes': {'href': 'https://api.artsy.net/api/genes?artist_id=4e94a66bc889080001003ff4'}, 'permalink': {'href': 'http://www.artsy.net/artist/mel-ramos'}}, 'created_at': '2011-10-11T20:26:19+00:00'}, {'birthday': '1931', 'name': 'Tom Wesselmann', 'location': 'New York, New York', 'image_versions': ['four_thirds', 'large', 'square', 'tall'], 'id': '4d8b927b4eb68a1b2c000148', 'nationality': 'American', 'updated_at': '2015-12-27T03:29:32+00:00', 'gender': 'male', 'sortable_name': 'Wesselmann Tom', 'hometown': 'Cincinnati, Ohio', '_links': {'published_artworks': {'href': 'https://api.artsy.net/api/artworks?artist_id=4d8b927b4eb68a1b2c000148&published=true'}, 'image:self': {'templated': True, 'href': '{?image_version}.jpg'}, 'similar_contemporary_artists': {'href': 'https://api.artsy.net/api/artists?similar_to_artist_id=4d8b927b4eb68a1b2c000148&similarity_type=contemporary'}, 'thumbnail': {'href': 'https://d32dm0rphc51dk.cloudfront.net/8smV519M1L352CTihrfW7A/four_thirds.jpg'}, 'artworks': {'href': 'https://api.artsy.net/api/artworks?artist_id=4d8b927b4eb68a1b2c000148'}, 'self': {'href': 'https://api.artsy.net/api/artists/4d8b927b4eb68a1b2c000148'}, 'curies': [{'templated': True, 'name': 'image', 'href': 'https://d32dm0rphc51dk.cloudfront.net/8smV519M1L352CTihrfW7A/{rel}'}], 'similar_artists': {'href': 'https://api.artsy.net/api/artists?similar_to_artist_id=4d8b927b4eb68a1b2c000148'}, 'genes': {'href': 'https://api.artsy.net/api/genes?artist_id=4d8b927b4eb68a1b2c000148'}, 'permalink': {'href': 'http://www.artsy.net/artist/tom-wesselmann'}}, 'created_at': '2010-07-22T20:18:18+00:00'}, {'birthday': '1928', 'name': 'Robert Indiana', 'location': 'New York, New York', 'image_versions': ['four_thirds', 'large', 'square', 'tall'], 'id': '4d8b92784eb68a1b2c00013e', 'nationality': 'American', 'updated_at': '2015-12-26T21:34:17+00:00', 'gender': 'male', 'sortable_name': 'Indiana Robert', 'hometown': 'New Castle, Indiana', '_links': {'published_artworks': {'href': 'https://api.artsy.net/api/artworks?artist_id=4d8b92784eb68a1b2c00013e&published=true'}, 'image:self': {'templated': True, 'href': '{?image_version}.jpg'}, 'similar_contemporary_artists': {'href': 'https://api.artsy.net/api/artists?similar_to_artist_id=4d8b92784eb68a1b2c00013e&similarity_type=contemporary'}, 'thumbnail': {'href': 'https://d32dm0rphc51dk.cloudfront.net/xPV7zLtiKJPPxRVJTEtHIA/four_thirds.jpg'}, 'artworks': {'href': 'https://api.artsy.net/api/artworks?artist_id=4d8b92784eb68a1b2c00013e'}, 'self': {'href': 'https://api.artsy.net/api/artists/4d8b92784eb68a1b2c00013e'}, 'curies': [{'templated': True, 'name': 'image', 'href': 'https://d32dm0rphc51dk.cloudfront.net/xPV7zLtiKJPPxRVJTEtHIA/{rel}'}], 'similar_artists': {'href': 'https://api.artsy.net/api/artists?similar_to_artist_id=4d8b92784eb68a1b2c00013e'}, 'genes': {'href': 'https://api.artsy.net/api/genes?artist_id=4d8b92784eb68a1b2c00013e'}, 'permalink': {'href': 'http://www.artsy.net/artist/robert-indiana'}}, 'created_at': '2010-09-20T22:05:58+00:00'}, {'birthday': '1935', 'name': 'Jim Dine', 'location': 'New York, Paris and Walla Walla, Washington', 'image_versions': ['four_thirds', 'large', 'square', 'tall'], 'id': '4d8d1266876c697ae1000050', 'nationality': 'American', 'updated_at': '2015-12-26T19:30:59+00:00', 'gender': 'male', 'sortable_name': 'Dine Jim', 'hometown': 'Cincinnati, Ohio', '_links': {'published_artworks': {'href': 'https://api.artsy.net/api/artworks?artist_id=4d8d1266876c697ae1000050&published=true'}, 'image:self': {'templated': True, 'href': '{?image_version}.jpg'}, 'similar_contemporary_artists': {'href': 'https://api.artsy.net/api/artists?similar_to_artist_id=4d8d1266876c697ae1000050&similarity_type=contemporary'}, 'thumbnail': {'href': 'https://d32dm0rphc51dk.cloudfront.net/Ll4gMf_OsLMehbgv05H6mw/four_thirds.jpg'}, 'artworks': {'href': 'https://api.artsy.net/api/artworks?artist_id=4d8d1266876c697ae1000050'}, 'self': {'href': 'https://api.artsy.net/api/artists/4d8d1266876c697ae1000050'}, 'curies': [{'templated': True, 'name': 'image', 'href': 'https://d32dm0rphc51dk.cloudfront.net/Ll4gMf_OsLMehbgv05H6mw/{rel}'}], 'similar_artists': {'href': 'https://api.artsy.net/api/artists?similar_to_artist_id=4d8d1266876c697ae1000050'}, 'genes': {'href': 'https://api.artsy.net/api/genes?artist_id=4d8d1266876c697ae1000050'}, 'permalink': {'href': 'http://www.artsy.net/artist/jim-dine'}}, 'created_at': '2011-03-25T22:08:38+00:00'}, {'birthday': '1929', 'name': 'Claes Oldenburg', 'location': 'New York, New York', 'image_versions': ['four_thirds', 'large', 'square', 'tall'], 'id': '4dd18f297568e50001002546', 'nationality': 'Swedish', 'updated_at': '2015-12-26T20:17:22+00:00', 'gender': 'male', 'sortable_name': 'Oldenburg Claes', 'hometown': 'Stockholm, Sweden', '_links': {'published_artworks': {'href': 'https://api.artsy.net/api/artworks?artist_id=4dd18f297568e50001002546&published=true'}, 'image:self': {'templated': True, 'href': '{?image_version}.jpg'}, 'similar_contemporary_artists': {'href': 'https://api.artsy.net/api/artists?similar_to_artist_id=4dd18f297568e50001002546&similarity_type=contemporary'}, 'thumbnail': {'href': 'https://d32dm0rphc51dk.cloudfront.net/6q6LeyKvA_vpT5YzHRSNUA/four_thirds.jpg'}, 'artworks': {'href': 'https://api.artsy.net/api/artworks?artist_id=4dd18f297568e50001002546'}, 'self': {'href': 'https://api.artsy.net/api/artists/4dd18f297568e50001002546'}, 'curies': [{'templated': True, 'name': 'image', 'href': 'https://d32dm0rphc51dk.cloudfront.net/6q6LeyKvA_vpT5YzHRSNUA/{rel}'}], 'similar_artists': {'href': 'https://api.artsy.net/api/artists?similar_to_artist_id=4dd18f297568e50001002546'}, 'genes': {'href': 'https://api.artsy.net/api/genes?artist_id=4dd18f297568e50001002546'}, 'permalink': {'href': 'http://www.artsy.net/artist/claes-oldenburg'}}, 'created_at': '2011-05-16T20:55:05+00:00'}, {'birthday': '1929 and 1942', 'name': 'Claes Oldenburg & Coosje van Bruggen', 'location': 'New York, New York', 'image_versions': ['four_thirds', 'large', 'square', 'tall'], 'id': '4e4e7b6b96c2e00001011766', 'nationality': 'American', 'updated_at': '2015-12-25T05:37:51+00:00', 'gender': None, 'sortable_name': 'Claes Oldenburg & Coosje van Bruggen', 'hometown': 'Stockholm and Groningen, Netherlands', '_links': {'published_artworks': {'href': 'https://api.artsy.net/api/artworks?artist_id=4e4e7b6b96c2e00001011766&published=true'}, 'image:self': {'templated': True, 'href': '{?image_version}.jpg'}, 'similar_contemporary_artists': {'href': 'https://api.artsy.net/api/artists?similar_to_artist_id=4e4e7b6b96c2e00001011766&similarity_type=contemporary'}, 'thumbnail': {'href': 'https://d32dm0rphc51dk.cloudfront.net/lnJopeqKO7np6fvqpegQpQ/four_thirds.jpg'}, 'artworks': {'href': 'https://api.artsy.net/api/artworks?artist_id=4e4e7b6b96c2e00001011766'}, 'self': {'href': 'https://api.artsy.net/api/artists/4e4e7b6b96c2e00001011766'}, 'curies': [{'templated': True, 'name': 'image', 'href': 'https://d32dm0rphc51dk.cloudfront.net/lnJopeqKO7np6fvqpegQpQ/{rel}'}], 'similar_artists': {'href': 'https://api.artsy.net/api/artists?similar_to_artist_id=4e4e7b6b96c2e00001011766'}, 'genes': {'href': 'https://api.artsy.net/api/genes?artist_id=4e4e7b6b96c2e00001011766'}, 'permalink': {'href': 'http://www.artsy.net/artist/claes-oldenburg-and-coosje-van-bruggen'}}, 'created_at': '2011-08-19T15:04:11+00:00'}, {'birthday': '1925', 'name': 'Duane Hanson', 'location': None, 'image_versions': ['four_thirds', 'large', 'square', 'tall'], 'id': '4dff9136471d4d0001003cd4', 'nationality': 'American', 'updated_at': '2015-12-27T00:46:15+00:00', 'gender': 'male', 'sortable_name': 'Hanson Duane', 'hometown': None, '_links': {'published_artworks': {'href': 'https://api.artsy.net/api/artworks?artist_id=4dff9136471d4d0001003cd4&published=true'}, 'image:self': {'templated': True, 'href': '{?image_version}.jpg'}, 'similar_contemporary_artists': {'href': 'https://api.artsy.net/api/artists?similar_to_artist_id=4dff9136471d4d0001003cd4&similarity_type=contemporary'}, 'thumbnail': {'href': 'https://d32dm0rphc51dk.cloudfront.net/vqmGCFGPFerXXKagG7udQA/four_thirds.jpg'}, 'artworks': {'href': 'https://api.artsy.net/api/artworks?artist_id=4dff9136471d4d0001003cd4'}, 'self': {'href': 'https://api.artsy.net/api/artists/4dff9136471d4d0001003cd4'}, 'curies': [{'templated': True, 'name': 'image', 'href': 'https://d32dm0rphc51dk.cloudfront.net/vqmGCFGPFerXXKagG7udQA/{rel}'}], 'similar_artists': {'href': 'https://api.artsy.net/api/artists?similar_to_artist_id=4dff9136471d4d0001003cd4'}, 'genes': {'href': 'https://api.artsy.net/api/genes?artist_id=4dff9136471d4d0001003cd4'}, 'permalink': {'href': 'http://www.artsy.net/artist/duane-hanson'}}, 'created_at': '2011-06-20T18:28:06+00:00'}, {'birthday': '1962', 'name': 'Richard Phillips', 'location': 'New York, New York', 'image_versions': ['four_thirds', 'large', 'square', 'tall'], 'id': '4d8b92bb4eb68a1b2c000458', 'nationality': 'American', 'updated_at': '2015-12-26T19:06:34+00:00', 'gender': 'male', 'sortable_name': 'Phillips Richard', 'hometown': 'Marblehead, Massachusetts', '_links': {'published_artworks': {'href': 'https://api.artsy.net/api/artworks?artist_id=4d8b92bb4eb68a1b2c000458&published=true'}, 'image:self': {'templated': True, 'href': '{?image_version}.jpg'}, 'similar_contemporary_artists': {'href': 'https://api.artsy.net/api/artists?similar_to_artist_id=4d8b92bb4eb68a1b2c000458&similarity_type=contemporary'}, 'thumbnail': {'href': 'https://d32dm0rphc51dk.cloudfront.net/PibzWeSAt4ZHGV_f1dgd1A/four_thirds.jpg'}, 'artworks': {'href': 'https://api.artsy.net/api/artworks?artist_id=4d8b92bb4eb68a1b2c000458'}, 'self': {'href': 'https://api.artsy.net/api/artists/4d8b92bb4eb68a1b2c000458'}, 'curies': [{'templated': True, 'name': 'image', 'href': 'https://d32dm0rphc51dk.cloudfront.net/PibzWeSAt4ZHGV_f1dgd1A/{rel}'}], 'similar_artists': {'href': 'https://api.artsy.net/api/artists?similar_to_artist_id=4d8b92bb4eb68a1b2c000458'}, 'genes': {'href': 'https://api.artsy.net/api/genes?artist_id=4d8b92bb4eb68a1b2c000458'}, 'permalink': {'href': 'http://www.artsy.net/artist/richard-phillips'}}, 'created_at': '2010-11-15T16:32:38+00:00'}, {'birthday': '1966', 'name': 'Douglas Gordon', 'location': 'Berlin, Germany', 'image_versions': ['four_thirds', 'large', 'square', 'tall'], 'id': '4d8b92934eb68a1b2c000260', 'nationality': 'Scottish', 'updated_at': '2015-12-25T05:31:39+00:00', 'gender': 'male', 'sortable_name': 'Gordon Douglas', 'hometown': 'Glasgow, United Kingdom', '_links': {'published_artworks': {'href': 'https://api.artsy.net/api/artworks?artist_id=4d8b92934eb68a1b2c000260&published=true'}, 'image:self': {'templated': True, 'href': '{?image_version}.jpg'}, 'similar_contemporary_artists': {'href': 'https://api.artsy.net/api/artists?similar_to_artist_id=4d8b92934eb68a1b2c000260&similarity_type=contemporary'}, 'thumbnail': {'href': 'https://d32dm0rphc51dk.cloudfront.net/ch_oRiKm766yqAST0_jtWQ/four_thirds.jpg'}, 'artworks': {'href': 'https://api.artsy.net/api/artworks?artist_id=4d8b92934eb68a1b2c000260'}, 'self': {'href': 'https://api.artsy.net/api/artists/4d8b92934eb68a1b2c000260'}, 'curies': [{'templated': True, 'name': 'image', 'href': 'https://d32dm0rphc51dk.cloudfront.net/ch_oRiKm766yqAST0_jtWQ/{rel}'}], 'similar_artists': {'href': 'https://api.artsy.net/api/artists?similar_to_artist_id=4d8b92934eb68a1b2c000260'}, 'genes': {'href': 'https://api.artsy.net/api/genes?artist_id=4d8b92934eb68a1b2c000260'}, 'permalink': {'href': 'http://www.artsy.net/artist/douglas-gordon'}}, 'created_at': '2010-11-09T17:05:35+00:00'}, {'birthday': '1937', 'name': 'David Hockney', 'location': 'Yorkshire, United Kingdom', 'image_versions': ['four_thirds', 'large', 'square', 'tall'], 'id': '4d8b92854eb68a1b2c0001b6', 'nationality': 'British', 'updated_at': '2015-12-26T07:15:41+00:00', 'gender': 'male', 'sortable_name': 'Hockney David', 'hometown': 'Bradford, United Kingdom', '_links': {'published_artworks': {'href': 'https://api.artsy.net/api/artworks?artist_id=4d8b92854eb68a1b2c0001b6&published=true'}, 'image:self': {'templated': True, 'href': '{?image_version}.jpg'}, 'similar_contemporary_artists': {'href': 'https://api.artsy.net/api/artists?similar_to_artist_id=4d8b92854eb68a1b2c0001b6&similarity_type=contemporary'}, 'thumbnail': {'href': 'https://d32dm0rphc51dk.cloudfront.net/K2NO54ZE0spe7zLv9-wkBQ/four_thirds.jpg'}, 'artworks': {'href': 'https://api.artsy.net/api/artworks?artist_id=4d8b92854eb68a1b2c0001b6'}, 'self': {'href': 'https://api.artsy.net/api/artists/4d8b92854eb68a1b2c0001b6'}, 'curies': [{'templated': True, 'name': 'image', 'href': 'https://d32dm0rphc51dk.cloudfront.net/K2NO54ZE0spe7zLv9-wkBQ/{rel}'}], 'similar_artists': {'href': 'https://api.artsy.net/api/artists?similar_to_artist_id=4d8b92854eb68a1b2c0001b6'}, 'genes': {'href': 'https://api.artsy.net/api/genes?artist_id=4d8b92854eb68a1b2c0001b6'}, 'permalink': {'href': 'http://www.artsy.net/artist/david-hockney'}}, 'created_at': '2010-05-23T07:46:12+00:00'}, {'birthday': '1971', 'name': 'Francesco Vezzoli', 'location': 'Milan, Italy', 'image_versions': ['four_thirds', 'large', 'square', 'tall'], 'id': '4d8b92bd4eb68a1b2c000474', 'nationality': 'Italian', 'updated_at': '2015-12-25T05:31:37+00:00', 'gender': 'male', 'sortable_name': 'Vezzoli Francesco', 'hometown': 'Brescia, Italy', '_links': {'published_artworks': {'href': 'https://api.artsy.net/api/artworks?artist_id=4d8b92bd4eb68a1b2c000474&published=true'}, 'image:self': {'templated': True, 'href': '{?image_version}.jpg'}, 'similar_contemporary_artists': {'href': 'https://api.artsy.net/api/artists?similar_to_artist_id=4d8b92bd4eb68a1b2c000474&similarity_type=contemporary'}, 'thumbnail': {'href': 'https://d32dm0rphc51dk.cloudfront.net/1Zcgsh4l_Iopv8tdw8OQ7Q/four_thirds.jpg'}, 'artworks': {'href': 'https://api.artsy.net/api/artworks?artist_id=4d8b92bd4eb68a1b2c000474'}, 'self': {'href': 'https://api.artsy.net/api/artists/4d8b92bd4eb68a1b2c000474'}, 'curies': [{'templated': True, 'name': 'image', 'href': 'https://d32dm0rphc51dk.cloudfront.net/1Zcgsh4l_Iopv8tdw8OQ7Q/{rel}'}], 'similar_artists': {'href': 'https://api.artsy.net/api/artists?similar_to_artist_id=4d8b92bd4eb68a1b2c000474'}, 'genes': {'href': 'https://api.artsy.net/api/genes?artist_id=4d8b92bd4eb68a1b2c000474'}, 'permalink': {'href': 'http://www.artsy.net/artist/francesco-vezzoli'}}, 'created_at': '2010-11-15T16:32:39+00:00'}, {'birthday': '1938', 'name': 'Jim Nutt', 'location': 'Chicago, Illinois', 'image_versions': ['four_thirds', 'large', 'square', 'tall'], 'id': '4deeaf7d3090130001010472', 'nationality': 'American', 'updated_at': '2015-12-26T13:50:18+00:00', 'gender': 'male', 'sortable_name': 'Nutt Jim', 'hometown': 'Pittsfield, Massachusetts', '_links': {'published_artworks': {'href': 'https://api.artsy.net/api/artworks?artist_id=4deeaf7d3090130001010472&published=true'}, 'image:self': {'templated': True, 'href': '{?image_version}.jpg'}, 'similar_contemporary_artists': {'href': 'https://api.artsy.net/api/artists?similar_to_artist_id=4deeaf7d3090130001010472&similarity_type=contemporary'}, 'thumbnail': {'href': 'https://d32dm0rphc51dk.cloudfront.net/-AIa43HixxWFVBOMx1KbXw/four_thirds.jpg'}, 'artworks': {'href': 'https://api.artsy.net/api/artworks?artist_id=4deeaf7d3090130001010472'}, 'self': {'href': 'https://api.artsy.net/api/artists/4deeaf7d3090130001010472'}, 'curies': [{'templated': True, 'name': 'image', 'href': 'https://d32dm0rphc51dk.cloudfront.net/-AIa43HixxWFVBOMx1KbXw/{rel}'}], 'similar_artists': {'href': 'https://api.artsy.net/api/artists?similar_to_artist_id=4deeaf7d3090130001010472'}, 'genes': {'href': 'https://api.artsy.net/api/genes?artist_id=4deeaf7d3090130001010472'}, 'permalink': {'href': 'http://www.artsy.net/artist/jim-nutt'}}, 'created_at': '2011-06-07T23:08:45+00:00'}, {'birthday': '1937', 'name': 'Thomas Bayrle', 'location': None, 'image_versions': ['four_thirds', 'large', 'square', 'tall'], 'id': '4df12e1ef835520001004911', 'nationality': 'German', 'updated_at': '2015-12-25T05:31:30+00:00', 'gender': 'male', 'sortable_name': 'Bayrle Thomas', 'hometown': 'Berlin, Germany', '_links': {'published_artworks': {'href': 'https://api.artsy.net/api/artworks?artist_id=4df12e1ef835520001004911&published=true'}, 'image:self': {'templated': True, 'href': '{?image_version}.jpg'}, 'similar_contemporary_artists': {'href': 'https://api.artsy.net/api/artists?similar_to_artist_id=4df12e1ef835520001004911&similarity_type=contemporary'}, 'thumbnail': {'href': 'https://d32dm0rphc51dk.cloudfront.net/9E9IlDgMD7NQ99X9c2yW0Q/four_thirds.jpg'}, 'artworks': {'href': 'https://api.artsy.net/api/artworks?artist_id=4df12e1ef835520001004911'}, 'self': {'href': 'https://api.artsy.net/api/artists/4df12e1ef835520001004911'}, 'curies': [{'templated': True, 'name': 'image', 'href': 'https://d32dm0rphc51dk.cloudfront.net/9E9IlDgMD7NQ99X9c2yW0Q/{rel}'}], 'similar_artists': {'href': 'https://api.artsy.net/api/artists?similar_to_artist_id=4df12e1ef835520001004911'}, 'genes': {'href': 'https://api.artsy.net/api/genes?artist_id=4df12e1ef835520001004911'}, 'permalink': {'href': 'http://www.artsy.net/artist/thomas-bayrle'}}, 'created_at': '2011-06-09T20:33:34+00:00'}, {'birthday': 'March 7, 1924', 'name': 'Eduardo Paolozzi', 'location': 'London, United Kingdom', 'image_versions': ['four_thirds', 'large', 'square', 'tall'], 'id': '50576d602a5b750002000520', 'nationality': 'Scottish', 'updated_at': '2015-12-25T05:31:49+00:00', 'gender': 'male', 'sortable_name': 'Paolozzi Eduardo', 'hometown': 'Leith, United Kingdom', '_links': {'published_artworks': {'href': 'https://api.artsy.net/api/artworks?artist_id=50576d602a5b750002000520&published=true'}, 'image:self': {'templated': True, 'href': '{?image_version}.jpg'}, 'similar_contemporary_artists': {'href': 'https://api.artsy.net/api/artists?similar_to_artist_id=50576d602a5b750002000520&similarity_type=contemporary'}, 'thumbnail': {'href': 'https://d32dm0rphc51dk.cloudfront.net/yaAsZQfBYRdg3b-Sr4apVg/four_thirds.jpg'}, 'artworks': {'href': 'https://api.artsy.net/api/artworks?artist_id=50576d602a5b750002000520'}, 'self': {'href': 'https://api.artsy.net/api/artists/50576d602a5b750002000520'}, 'curies': [{'templated': True, 'name': 'image', 'href': 'https://d32dm0rphc51dk.cloudfront.net/yaAsZQfBYRdg3b-Sr4apVg/{rel}'}], 'similar_artists': {'href': 'https://api.artsy.net/api/artists?similar_to_artist_id=50576d602a5b750002000520'}, 'genes': {'href': 'https://api.artsy.net/api/genes?artist_id=50576d602a5b750002000520'}, 'permalink': {'href': 'http://www.artsy.net/artist/eduardo-paolozzi'}}, 'created_at': '2012-09-17T18:35:13+00:00'}, {'birthday': '', 'name': 'Mark Shaw', 'location': '', 'image_versions': ['four_thirds', 'large', 'square', 'tall'], 'id': '53179062cb4c279083000190', 'nationality': '', 'updated_at': '2015-12-25T05:38:04+00:00', 'gender': None, 'sortable_name': 'Shaw Mark', 'hometown': '', '_links': {'published_artworks': {'href': 'https://api.artsy.net/api/artworks?artist_id=53179062cb4c279083000190&published=true'}, 'image:self': {'templated': True, 'href': '{?image_version}.jpg'}, 'similar_contemporary_artists': {'href': 'https://api.artsy.net/api/artists?similar_to_artist_id=53179062cb4c279083000190&similarity_type=contemporary'}, 'thumbnail': {'href': 'https://d32dm0rphc51dk.cloudfront.net/EwDSe2w-Cl0xtrxH5Q4tGA/four_thirds.jpg'}, 'artworks': {'href': 'https://api.artsy.net/api/artworks?artist_id=53179062cb4c279083000190'}, 'self': {'href': 'https://api.artsy.net/api/artists/53179062cb4c279083000190'}, 'curies': [{'templated': True, 'name': 'image', 'href': 'https://d32dm0rphc51dk.cloudfront.net/EwDSe2w-Cl0xtrxH5Q4tGA/{rel}'}], 'similar_artists': {'href': 'https://api.artsy.net/api/artists?similar_to_artist_id=53179062cb4c279083000190'}, 'genes': {'href': 'https://api.artsy.net/api/genes?artist_id=53179062cb4c279083000190'}, 'permalink': {'href': 'http://www.artsy.net/artist/mark-shaw'}}, 'created_at': '2014-03-05T21:00:18+00:00'}]\n"
     ]
    }
   ],
   "source": [
    "headers = {'X-Xapp-Token': token}\n",
    "payload = {'total_count': 1}\n",
    "url = 'https://api.artsy.net/api/artists?similar_to_artist_id=4d8b92b34eb68a1b2c0003f4'\n",
    "response = requests.get(url, params=payload, headers=headers)\n",
    "# total_count = response.json()['total_count']\n",
    "d=response.json()['_embedded']['artists']\n",
    "print(d)"
   ]
  },
  {
   "cell_type": "code",
   "execution_count": 38,
   "metadata": {
    "collapsed": false
   },
   "outputs": [
    {
     "data": {
      "text/plain": [
       "{'_links': {'artworks': {'href': 'https://api.artsy.net/api/artworks?artist_id=4d8b92724eb68a1b2c000108'},\n",
       "  'curies': [{'href': 'https://d32dm0rphc51dk.cloudfront.net/3VUm07DpKQNQdA_QfCrPcA/{rel}',\n",
       "    'name': 'image',\n",
       "    'templated': True}],\n",
       "  'genes': {'href': 'https://api.artsy.net/api/genes?artist_id=4d8b92724eb68a1b2c000108'},\n",
       "  'image:self': {'href': '{?image_version}.jpg', 'templated': True},\n",
       "  'permalink': {'href': 'http://www.artsy.net/artist/james-rosenquist'},\n",
       "  'published_artworks': {'href': 'https://api.artsy.net/api/artworks?artist_id=4d8b92724eb68a1b2c000108&published=true'},\n",
       "  'self': {'href': 'https://api.artsy.net/api/artists/4d8b92724eb68a1b2c000108'},\n",
       "  'similar_artists': {'href': 'https://api.artsy.net/api/artists?similar_to_artist_id=4d8b92724eb68a1b2c000108'},\n",
       "  'similar_contemporary_artists': {'href': 'https://api.artsy.net/api/artists?similar_to_artist_id=4d8b92724eb68a1b2c000108&similarity_type=contemporary'},\n",
       "  'thumbnail': {'href': 'https://d32dm0rphc51dk.cloudfront.net/3VUm07DpKQNQdA_QfCrPcA/four_thirds.jpg'}},\n",
       " 'birthday': '1933',\n",
       " 'created_at': '2010-08-24T20:50:12+00:00',\n",
       " 'gender': 'male',\n",
       " 'hometown': 'Grand Forks, North Dakota',\n",
       " 'id': '4d8b92724eb68a1b2c000108',\n",
       " 'image_versions': ['four_thirds', 'large', 'square', 'tall'],\n",
       " 'location': 'Aripeka, Florida',\n",
       " 'name': 'James Rosenquist',\n",
       " 'nationality': 'American',\n",
       " 'sortable_name': 'Rosenquist James',\n",
       " 'updated_at': '2015-12-26T21:03:09+00:00'}"
      ]
     },
     "execution_count": 38,
     "metadata": {},
     "output_type": "execute_result"
    }
   ],
   "source": [
    "{'_links': {'artworks': {'href': 'https://api.artsy.net/api/artworks?artist_id=4d8b92724eb68a1b2c000108'},\n",
    "     'curies': [{'href': 'https://d32dm0rphc51dk.cloudfront.net/3VUm07DpKQNQdA_QfCrPcA/{rel}',\n",
    "       'name': 'image',\n",
    "       'templated': True}],\n",
    "     'genes': {'href': 'https://api.artsy.net/api/genes?artist_id=4d8b92724eb68a1b2c000108'},\n",
    "     'image:self': {'href': '{?image_version}.jpg', 'templated': True},\n",
    "     'permalink': {'href': 'http://www.artsy.net/artist/james-rosenquist'},\n",
    "     'published_artworks': {'href': 'https://api.artsy.net/api/artworks?artist_id=4d8b92724eb68a1b2c000108&published=true'},\n",
    "     'self': {'href': 'https://api.artsy.net/api/artists/4d8b92724eb68a1b2c000108'},\n",
    "     'similar_artists': {'href': 'https://api.artsy.net/api/artists?similar_to_artist_id=4d8b92724eb68a1b2c000108'},\n",
    "     'similar_contemporary_artists': {'href': 'https://api.artsy.net/api/artists?similar_to_artist_id=4d8b92724eb68a1b2c000108&similarity_type=contemporary'},\n",
    "     'thumbnail': {'href': 'https://d32dm0rphc51dk.cloudfront.net/3VUm07DpKQNQdA_QfCrPcA/four_thirds.jpg'}},\n",
    "    'birthday': '1933',\n",
    "    'created_at': '2010-08-24T20:50:12+00:00',\n",
    "    'gender': 'male',\n",
    "    'hometown': 'Grand Forks, North Dakota',\n",
    "    'id': '4d8b92724eb68a1b2c000108',\n",
    "    'image_versions': ['four_thirds', 'large', 'square', 'tall'],\n",
    "    'location': 'Aripeka, Florida',\n",
    "    'name': 'James Rosenquist',\n",
    "    'nationality': 'American',\n",
    "    'sortable_name': 'Rosenquist James',\n",
    "    'updated_at': '2015-12-26T21:03:09+00:00'}"
   ]
  },
  {
   "cell_type": "markdown",
   "metadata": {},
   "source": [
    "## artsy resources\n",
    "* Status\n",
    "* Artists\n",
    "* Artworks\n",
    "* Editions\n",
    "* Genes\n",
    "* Profiles\n",
    "* Partners\n",
    "* Shows\n",
    "* Fairs\n",
    "* Applications\n",
    "* Users\n",
    "* User Details\n",
    "* Collections\n",
    "* Collection Items\n",
    "* Images\n",
    "* Search"
   ]
  },
  {
   "cell_type": "markdown",
   "metadata": {},
   "source": [
    "## status"
   ]
  },
  {
   "cell_type": "code",
   "execution_count": 8,
   "metadata": {
    "collapsed": false,
    "scrolled": false
   },
   "outputs": [
    {
     "name": "stdout",
     "output_type": "stream",
     "text": [
      "Status: good\n"
     ]
    }
   ],
   "source": [
    "headers = {}\n",
    "payload = {'total_count': 1}\n",
    "url = BASE_URL + '/status'\n",
    "response = requests.get(url, params=payload, headers=headers)\n",
    "status = response.json()['status']\n",
    "print('Status: %s' % status)"
   ]
  },
  {
   "cell_type": "markdown",
   "metadata": {},
   "source": [
    "## resources\n",
    "similar artists\n",
    "Status, Artists, Artworks, Editions, Genes, Profiles, Partners, Shows, Fairs, Applications, Users, User Details, Collections, Collection Items, Images, Search\n",
    "        artists, artworks,           genes, profiles, partners, shows, fairs"
   ]
  },
  {
   "cell_type": "code",
   "execution_count": 48,
   "metadata": {
    "collapsed": false
   },
   "outputs": [
    {
     "name": "stdout",
     "output_type": "stream",
     "text": [
      "dict_keys(['href'])\n",
      "52c721e5b202a3edf1000072\n"
     ]
    }
   ],
   "source": [
    "for artist in db.artists.find():\n",
    "    print(artist['_links']['similar_artists'].keys())\n",
    "    print(artist['_id'])\n",
    "    break"
   ]
  },
  {
   "cell_type": "code",
   "execution_count": 79,
   "metadata": {
    "collapsed": false
   },
   "outputs": [
    {
     "ename": "KeyboardInterrupt",
     "evalue": "",
     "output_type": "error",
     "traceback": [
      "\u001b[1;31m---------------------------------------------------------------------------\u001b[0m",
      "\u001b[1;31mTypeError\u001b[0m                                 Traceback (most recent call last)",
      "\u001b[1;32m/home/antonio/virtualenvs/art/lib/python3.4/site-packages/requests/packages/urllib3/connectionpool.py\u001b[0m in \u001b[0;36m_make_request\u001b[1;34m(self, conn, method, url, timeout, **httplib_request_kw)\u001b[0m\n\u001b[0;32m    375\u001b[0m             \u001b[1;32mtry\u001b[0m\u001b[1;33m:\u001b[0m  \u001b[1;31m# Python 2.7, use buffering of HTTP responses\u001b[0m\u001b[1;33m\u001b[0m\u001b[0m\n\u001b[1;32m--> 376\u001b[1;33m                 \u001b[0mhttplib_response\u001b[0m \u001b[1;33m=\u001b[0m \u001b[0mconn\u001b[0m\u001b[1;33m.\u001b[0m\u001b[0mgetresponse\u001b[0m\u001b[1;33m(\u001b[0m\u001b[0mbuffering\u001b[0m\u001b[1;33m=\u001b[0m\u001b[1;32mTrue\u001b[0m\u001b[1;33m)\u001b[0m\u001b[1;33m\u001b[0m\u001b[0m\n\u001b[0m\u001b[0;32m    377\u001b[0m             \u001b[1;32mexcept\u001b[0m \u001b[0mTypeError\u001b[0m\u001b[1;33m:\u001b[0m  \u001b[1;31m# Python 2.6 and older\u001b[0m\u001b[1;33m\u001b[0m\u001b[0m\n",
      "\u001b[1;31mTypeError\u001b[0m: getresponse() got an unexpected keyword argument 'buffering'",
      "\nDuring handling of the above exception, another exception occurred:\n",
      "\u001b[1;31mKeyboardInterrupt\u001b[0m                         Traceback (most recent call last)",
      "\u001b[1;32m<ipython-input-79-94b6fbf719ba>\u001b[0m in \u001b[0;36m<module>\u001b[1;34m()\u001b[0m\n\u001b[0;32m      5\u001b[0m     \u001b[0mheaders\u001b[0m \u001b[1;33m=\u001b[0m \u001b[1;33m{\u001b[0m\u001b[1;34m'X-Xapp-Token'\u001b[0m\u001b[1;33m:\u001b[0m \u001b[0mtoken\u001b[0m\u001b[1;33m}\u001b[0m\u001b[1;33m\u001b[0m\u001b[0m\n\u001b[0;32m      6\u001b[0m     \u001b[0mpayload\u001b[0m \u001b[1;33m=\u001b[0m \u001b[1;33m{\u001b[0m\u001b[1;33m}\u001b[0m\u001b[1;33m\u001b[0m\u001b[0m\n\u001b[1;32m----> 7\u001b[1;33m     \u001b[0mresponse\u001b[0m \u001b[1;33m=\u001b[0m \u001b[0mrequests\u001b[0m\u001b[1;33m.\u001b[0m\u001b[0mget\u001b[0m\u001b[1;33m(\u001b[0m\u001b[0murl\u001b[0m\u001b[1;33m,\u001b[0m \u001b[0mparams\u001b[0m\u001b[1;33m=\u001b[0m\u001b[0mpayload\u001b[0m\u001b[1;33m,\u001b[0m \u001b[0mheaders\u001b[0m\u001b[1;33m=\u001b[0m\u001b[0mheaders\u001b[0m\u001b[1;33m)\u001b[0m\u001b[1;33m\u001b[0m\u001b[0m\n\u001b[0m\u001b[0;32m      8\u001b[0m     \u001b[0mdata\u001b[0m \u001b[1;33m=\u001b[0m \u001b[0mresponse\u001b[0m\u001b[1;33m.\u001b[0m\u001b[0mjson\u001b[0m\u001b[1;33m(\u001b[0m\u001b[1;33m)\u001b[0m\u001b[1;33m[\u001b[0m\u001b[1;34m'_embedded'\u001b[0m\u001b[1;33m]\u001b[0m\u001b[1;33m[\u001b[0m\u001b[1;34m'artists'\u001b[0m\u001b[1;33m]\u001b[0m\u001b[1;33m\u001b[0m\u001b[0m\n\u001b[0;32m      9\u001b[0m     \u001b[0mids\u001b[0m \u001b[1;33m=\u001b[0m \u001b[1;33m[\u001b[0m\u001b[0md\u001b[0m\u001b[1;33m[\u001b[0m\u001b[1;34m'id'\u001b[0m\u001b[1;33m]\u001b[0m \u001b[1;32mfor\u001b[0m \u001b[0md\u001b[0m \u001b[1;32min\u001b[0m \u001b[0mdata\u001b[0m\u001b[1;33m]\u001b[0m\u001b[1;33m\u001b[0m\u001b[0m\n",
      "\u001b[1;32m/home/antonio/virtualenvs/art/lib/python3.4/site-packages/requests/api.py\u001b[0m in \u001b[0;36mget\u001b[1;34m(url, params, **kwargs)\u001b[0m\n\u001b[0;32m     65\u001b[0m \u001b[1;33m\u001b[0m\u001b[0m\n\u001b[0;32m     66\u001b[0m     \u001b[0mkwargs\u001b[0m\u001b[1;33m.\u001b[0m\u001b[0msetdefault\u001b[0m\u001b[1;33m(\u001b[0m\u001b[1;34m'allow_redirects'\u001b[0m\u001b[1;33m,\u001b[0m \u001b[1;32mTrue\u001b[0m\u001b[1;33m)\u001b[0m\u001b[1;33m\u001b[0m\u001b[0m\n\u001b[1;32m---> 67\u001b[1;33m     \u001b[1;32mreturn\u001b[0m \u001b[0mrequest\u001b[0m\u001b[1;33m(\u001b[0m\u001b[1;34m'get'\u001b[0m\u001b[1;33m,\u001b[0m \u001b[0murl\u001b[0m\u001b[1;33m,\u001b[0m \u001b[0mparams\u001b[0m\u001b[1;33m=\u001b[0m\u001b[0mparams\u001b[0m\u001b[1;33m,\u001b[0m \u001b[1;33m**\u001b[0m\u001b[0mkwargs\u001b[0m\u001b[1;33m)\u001b[0m\u001b[1;33m\u001b[0m\u001b[0m\n\u001b[0m\u001b[0;32m     68\u001b[0m \u001b[1;33m\u001b[0m\u001b[0m\n\u001b[0;32m     69\u001b[0m \u001b[1;33m\u001b[0m\u001b[0m\n",
      "\u001b[1;32m/home/antonio/virtualenvs/art/lib/python3.4/site-packages/requests/api.py\u001b[0m in \u001b[0;36mrequest\u001b[1;34m(method, url, **kwargs)\u001b[0m\n\u001b[0;32m     51\u001b[0m     \u001b[1;31m# cases, and look like a memory leak in others.\u001b[0m\u001b[1;33m\u001b[0m\u001b[1;33m\u001b[0m\u001b[0m\n\u001b[0;32m     52\u001b[0m     \u001b[1;32mwith\u001b[0m \u001b[0msessions\u001b[0m\u001b[1;33m.\u001b[0m\u001b[0mSession\u001b[0m\u001b[1;33m(\u001b[0m\u001b[1;33m)\u001b[0m \u001b[1;32mas\u001b[0m \u001b[0msession\u001b[0m\u001b[1;33m:\u001b[0m\u001b[1;33m\u001b[0m\u001b[0m\n\u001b[1;32m---> 53\u001b[1;33m         \u001b[1;32mreturn\u001b[0m \u001b[0msession\u001b[0m\u001b[1;33m.\u001b[0m\u001b[0mrequest\u001b[0m\u001b[1;33m(\u001b[0m\u001b[0mmethod\u001b[0m\u001b[1;33m=\u001b[0m\u001b[0mmethod\u001b[0m\u001b[1;33m,\u001b[0m \u001b[0murl\u001b[0m\u001b[1;33m=\u001b[0m\u001b[0murl\u001b[0m\u001b[1;33m,\u001b[0m \u001b[1;33m**\u001b[0m\u001b[0mkwargs\u001b[0m\u001b[1;33m)\u001b[0m\u001b[1;33m\u001b[0m\u001b[0m\n\u001b[0m\u001b[0;32m     54\u001b[0m \u001b[1;33m\u001b[0m\u001b[0m\n\u001b[0;32m     55\u001b[0m \u001b[1;33m\u001b[0m\u001b[0m\n",
      "\u001b[1;32m/home/antonio/virtualenvs/art/lib/python3.4/site-packages/requests/sessions.py\u001b[0m in \u001b[0;36mrequest\u001b[1;34m(self, method, url, params, data, headers, cookies, files, auth, timeout, allow_redirects, proxies, hooks, stream, verify, cert, json)\u001b[0m\n\u001b[0;32m    466\u001b[0m         }\n\u001b[0;32m    467\u001b[0m         \u001b[0msend_kwargs\u001b[0m\u001b[1;33m.\u001b[0m\u001b[0mupdate\u001b[0m\u001b[1;33m(\u001b[0m\u001b[0msettings\u001b[0m\u001b[1;33m)\u001b[0m\u001b[1;33m\u001b[0m\u001b[0m\n\u001b[1;32m--> 468\u001b[1;33m         \u001b[0mresp\u001b[0m \u001b[1;33m=\u001b[0m \u001b[0mself\u001b[0m\u001b[1;33m.\u001b[0m\u001b[0msend\u001b[0m\u001b[1;33m(\u001b[0m\u001b[0mprep\u001b[0m\u001b[1;33m,\u001b[0m \u001b[1;33m**\u001b[0m\u001b[0msend_kwargs\u001b[0m\u001b[1;33m)\u001b[0m\u001b[1;33m\u001b[0m\u001b[0m\n\u001b[0m\u001b[0;32m    469\u001b[0m \u001b[1;33m\u001b[0m\u001b[0m\n\u001b[0;32m    470\u001b[0m         \u001b[1;32mreturn\u001b[0m \u001b[0mresp\u001b[0m\u001b[1;33m\u001b[0m\u001b[0m\n",
      "\u001b[1;32m/home/antonio/virtualenvs/art/lib/python3.4/site-packages/requests/sessions.py\u001b[0m in \u001b[0;36msend\u001b[1;34m(self, request, **kwargs)\u001b[0m\n\u001b[0;32m    574\u001b[0m \u001b[1;33m\u001b[0m\u001b[0m\n\u001b[0;32m    575\u001b[0m         \u001b[1;31m# Send the request\u001b[0m\u001b[1;33m\u001b[0m\u001b[1;33m\u001b[0m\u001b[0m\n\u001b[1;32m--> 576\u001b[1;33m         \u001b[0mr\u001b[0m \u001b[1;33m=\u001b[0m \u001b[0madapter\u001b[0m\u001b[1;33m.\u001b[0m\u001b[0msend\u001b[0m\u001b[1;33m(\u001b[0m\u001b[0mrequest\u001b[0m\u001b[1;33m,\u001b[0m \u001b[1;33m**\u001b[0m\u001b[0mkwargs\u001b[0m\u001b[1;33m)\u001b[0m\u001b[1;33m\u001b[0m\u001b[0m\n\u001b[0m\u001b[0;32m    577\u001b[0m \u001b[1;33m\u001b[0m\u001b[0m\n\u001b[0;32m    578\u001b[0m         \u001b[1;31m# Total elapsed time of the request (approximately)\u001b[0m\u001b[1;33m\u001b[0m\u001b[1;33m\u001b[0m\u001b[0m\n",
      "\u001b[1;32m/home/antonio/virtualenvs/art/lib/python3.4/site-packages/requests/adapters.py\u001b[0m in \u001b[0;36msend\u001b[1;34m(self, request, stream, timeout, verify, cert, proxies)\u001b[0m\n\u001b[0;32m    374\u001b[0m                     \u001b[0mdecode_content\u001b[0m\u001b[1;33m=\u001b[0m\u001b[1;32mFalse\u001b[0m\u001b[1;33m,\u001b[0m\u001b[1;33m\u001b[0m\u001b[0m\n\u001b[0;32m    375\u001b[0m                     \u001b[0mretries\u001b[0m\u001b[1;33m=\u001b[0m\u001b[0mself\u001b[0m\u001b[1;33m.\u001b[0m\u001b[0mmax_retries\u001b[0m\u001b[1;33m,\u001b[0m\u001b[1;33m\u001b[0m\u001b[0m\n\u001b[1;32m--> 376\u001b[1;33m                     \u001b[0mtimeout\u001b[0m\u001b[1;33m=\u001b[0m\u001b[0mtimeout\u001b[0m\u001b[1;33m\u001b[0m\u001b[0m\n\u001b[0m\u001b[0;32m    377\u001b[0m                 )\n\u001b[0;32m    378\u001b[0m \u001b[1;33m\u001b[0m\u001b[0m\n",
      "\u001b[1;32m/home/antonio/virtualenvs/art/lib/python3.4/site-packages/requests/packages/urllib3/connectionpool.py\u001b[0m in \u001b[0;36murlopen\u001b[1;34m(self, method, url, body, headers, retries, redirect, assert_same_host, timeout, pool_timeout, release_conn, **response_kw)\u001b[0m\n\u001b[0;32m    557\u001b[0m             httplib_response = self._make_request(conn, method, url,\n\u001b[0;32m    558\u001b[0m                                                   \u001b[0mtimeout\u001b[0m\u001b[1;33m=\u001b[0m\u001b[0mtimeout_obj\u001b[0m\u001b[1;33m,\u001b[0m\u001b[1;33m\u001b[0m\u001b[0m\n\u001b[1;32m--> 559\u001b[1;33m                                                   body=body, headers=headers)\n\u001b[0m\u001b[0;32m    560\u001b[0m \u001b[1;33m\u001b[0m\u001b[0m\n\u001b[0;32m    561\u001b[0m             \u001b[1;31m# If we're going to release the connection in ``finally:``, then\u001b[0m\u001b[1;33m\u001b[0m\u001b[1;33m\u001b[0m\u001b[0m\n",
      "\u001b[1;32m/home/antonio/virtualenvs/art/lib/python3.4/site-packages/requests/packages/urllib3/connectionpool.py\u001b[0m in \u001b[0;36m_make_request\u001b[1;34m(self, conn, method, url, timeout, **httplib_request_kw)\u001b[0m\n\u001b[0;32m    376\u001b[0m                 \u001b[0mhttplib_response\u001b[0m \u001b[1;33m=\u001b[0m \u001b[0mconn\u001b[0m\u001b[1;33m.\u001b[0m\u001b[0mgetresponse\u001b[0m\u001b[1;33m(\u001b[0m\u001b[0mbuffering\u001b[0m\u001b[1;33m=\u001b[0m\u001b[1;32mTrue\u001b[0m\u001b[1;33m)\u001b[0m\u001b[1;33m\u001b[0m\u001b[0m\n\u001b[0;32m    377\u001b[0m             \u001b[1;32mexcept\u001b[0m \u001b[0mTypeError\u001b[0m\u001b[1;33m:\u001b[0m  \u001b[1;31m# Python 2.6 and older\u001b[0m\u001b[1;33m\u001b[0m\u001b[0m\n\u001b[1;32m--> 378\u001b[1;33m                 \u001b[0mhttplib_response\u001b[0m \u001b[1;33m=\u001b[0m \u001b[0mconn\u001b[0m\u001b[1;33m.\u001b[0m\u001b[0mgetresponse\u001b[0m\u001b[1;33m(\u001b[0m\u001b[1;33m)\u001b[0m\u001b[1;33m\u001b[0m\u001b[0m\n\u001b[0m\u001b[0;32m    379\u001b[0m         \u001b[1;32mexcept\u001b[0m \u001b[1;33m(\u001b[0m\u001b[0mSocketTimeout\u001b[0m\u001b[1;33m,\u001b[0m \u001b[0mBaseSSLError\u001b[0m\u001b[1;33m,\u001b[0m \u001b[0mSocketError\u001b[0m\u001b[1;33m)\u001b[0m \u001b[1;32mas\u001b[0m \u001b[0me\u001b[0m\u001b[1;33m:\u001b[0m\u001b[1;33m\u001b[0m\u001b[0m\n\u001b[0;32m    380\u001b[0m             \u001b[0mself\u001b[0m\u001b[1;33m.\u001b[0m\u001b[0m_raise_timeout\u001b[0m\u001b[1;33m(\u001b[0m\u001b[0merr\u001b[0m\u001b[1;33m=\u001b[0m\u001b[0me\u001b[0m\u001b[1;33m,\u001b[0m \u001b[0murl\u001b[0m\u001b[1;33m=\u001b[0m\u001b[0murl\u001b[0m\u001b[1;33m,\u001b[0m \u001b[0mtimeout_value\u001b[0m\u001b[1;33m=\u001b[0m\u001b[0mread_timeout\u001b[0m\u001b[1;33m)\u001b[0m\u001b[1;33m\u001b[0m\u001b[0m\n",
      "\u001b[1;32m/usr/lib/python3.4/http/client.py\u001b[0m in \u001b[0;36mgetresponse\u001b[1;34m(self)\u001b[0m\n\u001b[0;32m   1169\u001b[0m \u001b[1;33m\u001b[0m\u001b[0m\n\u001b[0;32m   1170\u001b[0m         \u001b[1;32mtry\u001b[0m\u001b[1;33m:\u001b[0m\u001b[1;33m\u001b[0m\u001b[0m\n\u001b[1;32m-> 1171\u001b[1;33m             \u001b[0mresponse\u001b[0m\u001b[1;33m.\u001b[0m\u001b[0mbegin\u001b[0m\u001b[1;33m(\u001b[0m\u001b[1;33m)\u001b[0m\u001b[1;33m\u001b[0m\u001b[0m\n\u001b[0m\u001b[0;32m   1172\u001b[0m             \u001b[1;32massert\u001b[0m \u001b[0mresponse\u001b[0m\u001b[1;33m.\u001b[0m\u001b[0mwill_close\u001b[0m \u001b[1;33m!=\u001b[0m \u001b[0m_UNKNOWN\u001b[0m\u001b[1;33m\u001b[0m\u001b[0m\n\u001b[0;32m   1173\u001b[0m             \u001b[0mself\u001b[0m\u001b[1;33m.\u001b[0m\u001b[0m__state\u001b[0m \u001b[1;33m=\u001b[0m \u001b[0m_CS_IDLE\u001b[0m\u001b[1;33m\u001b[0m\u001b[0m\n",
      "\u001b[1;32m/usr/lib/python3.4/http/client.py\u001b[0m in \u001b[0;36mbegin\u001b[1;34m(self)\u001b[0m\n\u001b[0;32m    349\u001b[0m         \u001b[1;31m# read until we get a non-100 response\u001b[0m\u001b[1;33m\u001b[0m\u001b[1;33m\u001b[0m\u001b[0m\n\u001b[0;32m    350\u001b[0m         \u001b[1;32mwhile\u001b[0m \u001b[1;32mTrue\u001b[0m\u001b[1;33m:\u001b[0m\u001b[1;33m\u001b[0m\u001b[0m\n\u001b[1;32m--> 351\u001b[1;33m             \u001b[0mversion\u001b[0m\u001b[1;33m,\u001b[0m \u001b[0mstatus\u001b[0m\u001b[1;33m,\u001b[0m \u001b[0mreason\u001b[0m \u001b[1;33m=\u001b[0m \u001b[0mself\u001b[0m\u001b[1;33m.\u001b[0m\u001b[0m_read_status\u001b[0m\u001b[1;33m(\u001b[0m\u001b[1;33m)\u001b[0m\u001b[1;33m\u001b[0m\u001b[0m\n\u001b[0m\u001b[0;32m    352\u001b[0m             \u001b[1;32mif\u001b[0m \u001b[0mstatus\u001b[0m \u001b[1;33m!=\u001b[0m \u001b[0mCONTINUE\u001b[0m\u001b[1;33m:\u001b[0m\u001b[1;33m\u001b[0m\u001b[0m\n\u001b[0;32m    353\u001b[0m                 \u001b[1;32mbreak\u001b[0m\u001b[1;33m\u001b[0m\u001b[0m\n",
      "\u001b[1;32m/usr/lib/python3.4/http/client.py\u001b[0m in \u001b[0;36m_read_status\u001b[1;34m(self)\u001b[0m\n\u001b[0;32m    311\u001b[0m \u001b[1;33m\u001b[0m\u001b[0m\n\u001b[0;32m    312\u001b[0m     \u001b[1;32mdef\u001b[0m \u001b[0m_read_status\u001b[0m\u001b[1;33m(\u001b[0m\u001b[0mself\u001b[0m\u001b[1;33m)\u001b[0m\u001b[1;33m:\u001b[0m\u001b[1;33m\u001b[0m\u001b[0m\n\u001b[1;32m--> 313\u001b[1;33m         \u001b[0mline\u001b[0m \u001b[1;33m=\u001b[0m \u001b[0mstr\u001b[0m\u001b[1;33m(\u001b[0m\u001b[0mself\u001b[0m\u001b[1;33m.\u001b[0m\u001b[0mfp\u001b[0m\u001b[1;33m.\u001b[0m\u001b[0mreadline\u001b[0m\u001b[1;33m(\u001b[0m\u001b[0m_MAXLINE\u001b[0m \u001b[1;33m+\u001b[0m \u001b[1;36m1\u001b[0m\u001b[1;33m)\u001b[0m\u001b[1;33m,\u001b[0m \u001b[1;34m\"iso-8859-1\"\u001b[0m\u001b[1;33m)\u001b[0m\u001b[1;33m\u001b[0m\u001b[0m\n\u001b[0m\u001b[0;32m    314\u001b[0m         \u001b[1;32mif\u001b[0m \u001b[0mlen\u001b[0m\u001b[1;33m(\u001b[0m\u001b[0mline\u001b[0m\u001b[1;33m)\u001b[0m \u001b[1;33m>\u001b[0m \u001b[0m_MAXLINE\u001b[0m\u001b[1;33m:\u001b[0m\u001b[1;33m\u001b[0m\u001b[0m\n\u001b[0;32m    315\u001b[0m             \u001b[1;32mraise\u001b[0m \u001b[0mLineTooLong\u001b[0m\u001b[1;33m(\u001b[0m\u001b[1;34m\"status line\"\u001b[0m\u001b[1;33m)\u001b[0m\u001b[1;33m\u001b[0m\u001b[0m\n",
      "\u001b[1;32m/usr/lib/python3.4/socket.py\u001b[0m in \u001b[0;36mreadinto\u001b[1;34m(self, b)\u001b[0m\n\u001b[0;32m    372\u001b[0m         \u001b[1;32mwhile\u001b[0m \u001b[1;32mTrue\u001b[0m\u001b[1;33m:\u001b[0m\u001b[1;33m\u001b[0m\u001b[0m\n\u001b[0;32m    373\u001b[0m             \u001b[1;32mtry\u001b[0m\u001b[1;33m:\u001b[0m\u001b[1;33m\u001b[0m\u001b[0m\n\u001b[1;32m--> 374\u001b[1;33m                 \u001b[1;32mreturn\u001b[0m \u001b[0mself\u001b[0m\u001b[1;33m.\u001b[0m\u001b[0m_sock\u001b[0m\u001b[1;33m.\u001b[0m\u001b[0mrecv_into\u001b[0m\u001b[1;33m(\u001b[0m\u001b[0mb\u001b[0m\u001b[1;33m)\u001b[0m\u001b[1;33m\u001b[0m\u001b[0m\n\u001b[0m\u001b[0;32m    375\u001b[0m             \u001b[1;32mexcept\u001b[0m \u001b[0mtimeout\u001b[0m\u001b[1;33m:\u001b[0m\u001b[1;33m\u001b[0m\u001b[0m\n\u001b[0;32m    376\u001b[0m                 \u001b[0mself\u001b[0m\u001b[1;33m.\u001b[0m\u001b[0m_timeout_occurred\u001b[0m \u001b[1;33m=\u001b[0m \u001b[1;32mTrue\u001b[0m\u001b[1;33m\u001b[0m\u001b[0m\n",
      "\u001b[1;32m/usr/lib/python3.4/ssl.py\u001b[0m in \u001b[0;36mrecv_into\u001b[1;34m(self, buffer, nbytes, flags)\u001b[0m\n\u001b[0;32m    767\u001b[0m                   \u001b[1;34m\"non-zero flags not allowed in calls to recv_into() on %s\"\u001b[0m \u001b[1;33m%\u001b[0m\u001b[1;33m\u001b[0m\u001b[0m\n\u001b[0;32m    768\u001b[0m                   self.__class__)\n\u001b[1;32m--> 769\u001b[1;33m             \u001b[1;32mreturn\u001b[0m \u001b[0mself\u001b[0m\u001b[1;33m.\u001b[0m\u001b[0mread\u001b[0m\u001b[1;33m(\u001b[0m\u001b[0mnbytes\u001b[0m\u001b[1;33m,\u001b[0m \u001b[0mbuffer\u001b[0m\u001b[1;33m)\u001b[0m\u001b[1;33m\u001b[0m\u001b[0m\n\u001b[0m\u001b[0;32m    770\u001b[0m         \u001b[1;32melse\u001b[0m\u001b[1;33m:\u001b[0m\u001b[1;33m\u001b[0m\u001b[0m\n\u001b[0;32m    771\u001b[0m             \u001b[1;32mreturn\u001b[0m \u001b[0msocket\u001b[0m\u001b[1;33m.\u001b[0m\u001b[0mrecv_into\u001b[0m\u001b[1;33m(\u001b[0m\u001b[0mself\u001b[0m\u001b[1;33m,\u001b[0m \u001b[0mbuffer\u001b[0m\u001b[1;33m,\u001b[0m \u001b[0mnbytes\u001b[0m\u001b[1;33m,\u001b[0m \u001b[0mflags\u001b[0m\u001b[1;33m)\u001b[0m\u001b[1;33m\u001b[0m\u001b[0m\n",
      "\u001b[1;32m/usr/lib/python3.4/ssl.py\u001b[0m in \u001b[0;36mread\u001b[1;34m(self, len, buffer)\u001b[0m\n\u001b[0;32m    639\u001b[0m         \u001b[1;32mtry\u001b[0m\u001b[1;33m:\u001b[0m\u001b[1;33m\u001b[0m\u001b[0m\n\u001b[0;32m    640\u001b[0m             \u001b[1;32mif\u001b[0m \u001b[0mbuffer\u001b[0m \u001b[1;32mis\u001b[0m \u001b[1;32mnot\u001b[0m \u001b[1;32mNone\u001b[0m\u001b[1;33m:\u001b[0m\u001b[1;33m\u001b[0m\u001b[0m\n\u001b[1;32m--> 641\u001b[1;33m                 \u001b[0mv\u001b[0m \u001b[1;33m=\u001b[0m \u001b[0mself\u001b[0m\u001b[1;33m.\u001b[0m\u001b[0m_sslobj\u001b[0m\u001b[1;33m.\u001b[0m\u001b[0mread\u001b[0m\u001b[1;33m(\u001b[0m\u001b[0mlen\u001b[0m\u001b[1;33m,\u001b[0m \u001b[0mbuffer\u001b[0m\u001b[1;33m)\u001b[0m\u001b[1;33m\u001b[0m\u001b[0m\n\u001b[0m\u001b[0;32m    642\u001b[0m             \u001b[1;32melse\u001b[0m\u001b[1;33m:\u001b[0m\u001b[1;33m\u001b[0m\u001b[0m\n\u001b[0;32m    643\u001b[0m                 \u001b[0mv\u001b[0m \u001b[1;33m=\u001b[0m \u001b[0mself\u001b[0m\u001b[1;33m.\u001b[0m\u001b[0m_sslobj\u001b[0m\u001b[1;33m.\u001b[0m\u001b[0mread\u001b[0m\u001b[1;33m(\u001b[0m\u001b[0mlen\u001b[0m \u001b[1;32mor\u001b[0m \u001b[1;36m1024\u001b[0m\u001b[1;33m)\u001b[0m\u001b[1;33m\u001b[0m\u001b[0m\n",
      "\u001b[1;31mKeyboardInterrupt\u001b[0m: "
     ]
    }
   ],
   "source": [
    "total_count = db.artists.count()\n",
    "count = 0\n",
    "try:\n",
    "    for artist in db.artists.find():\n",
    "        url = artist['_links']['similar_artists']['href']\n",
    "        headers = {'X-Xapp-Token': token}\n",
    "        payload = {}\n",
    "        response = requests.get(url, params=payload, headers=headers)\n",
    "        data = response.json()['_embedded']['artists']\n",
    "        ids = [d['id'] for d in data]\n",
    "        db['similar_artists'].insert_one({'_id': artist['_id'], 'data': data})\n",
    "        count += 1\n",
    "        if count % (total_count / 10) < len(data):\n",
    "            print('%d %s processed.' % (count, 'artists'))\n",
    "    "
   ]
  },
  {
   "cell_type": "code",
   "execution_count": 9,
   "metadata": {
    "collapsed": false,
    "scrolled": false
   },
   "outputs": [
    {
     "name": "stdout",
     "output_type": "stream",
     "text": [
      "Processing artists...\n",
      "Total artists: 49934\n",
      "4995 artists processed.\n",
      "9990 artists processed.\n",
      "14985 artists processed.\n",
      "19975 artists processed.\n",
      "24970 artists processed.\n",
      "29965 artists processed.\n",
      "34955 artists processed.\n",
      "39950 artists processed.\n",
      "44945 artists processed.\n",
      "49934 artists processed.\n",
      "Processing artworks...\n",
      "Total artworks: 26074\n",
      "2610 artworks processed.\n",
      "5215 artworks processed.\n",
      "7825 artworks processed.\n",
      "10430 artworks processed.\n",
      "13040 artworks processed.\n",
      "15645 artworks processed.\n",
      "18255 artworks processed.\n",
      "20860 artworks processed.\n",
      "23470 artworks processed.\n",
      "Processing genes...\n",
      "Total genes: 921\n",
      "95 genes processed.\n",
      "185 genes processed.\n",
      "280 genes processed.\n",
      "370 genes processed.\n",
      "465 genes processed.\n",
      "555 genes processed.\n",
      "645 genes processed.\n",
      "740 genes processed.\n",
      "830 genes processed.\n",
      "921 genes processed.\n",
      "Processing profiles...\n",
      "Total profiles: 2466\n",
      "250 profiles processed.\n",
      "495 profiles processed.\n",
      "740 profiles processed.\n",
      "990 profiles processed.\n",
      "1235 profiles processed.\n",
      "1480 profiles processed.\n",
      "1730 profiles processed.\n",
      "1975 profiles processed.\n",
      "2220 profiles processed.\n",
      "2466 profiles processed.\n",
      "Processing partners...\n",
      "Total partners: 1461\n",
      "150 partners processed.\n",
      "295 partners processed.\n",
      "440 partners processed.\n",
      "585 partners processed.\n",
      "735 partners processed.\n",
      "880 partners processed.\n",
      "1025 partners processed.\n",
      "1170 partners processed.\n",
      "1315 partners processed.\n",
      "1461 partners processed.\n",
      "Processing shows...\n",
      "Total shows: 7902\n",
      "795 shows processed.\n",
      "1585 shows processed.\n",
      "2375 shows processed.\n",
      "3165 shows processed.\n",
      "3955 shows processed.\n",
      "4745 shows processed.\n",
      "5535 shows processed.\n",
      "6325 shows processed.\n",
      "7115 shows processed.\n",
      "Processing fairs...\n",
      "Total fairs: 443\n",
      "45 fairs processed.\n",
      "90 fairs processed.\n",
      "135 fairs processed.\n",
      "180 fairs processed.\n",
      "225 fairs processed.\n",
      "270 fairs processed.\n",
      "315 fairs processed.\n",
      "355 fairs processed.\n",
      "400 fairs processed.\n",
      "443 fairs processed.\n"
     ]
    }
   ],
   "source": [
    "resources = ['artists', 'artworks', 'genes', 'profiles', 'partners', 'shows', 'fairs']\n",
    "for resource in resources:\n",
    "    print('Processing %s...' % resource)\n",
    "    url = BASE_URL + '/' + resource\n",
    "    headers = {'X-Xapp-Token': token}\n",
    "    \n",
    "    # total count\n",
    "    payload = {'total_count': 1}\n",
    "    response = requests.get(url, params=payload, headers=headers)\n",
    "    total_count = response.json()['total_count']\n",
    "    print('Total %s: %d' % (resource, total_count))\n",
    "    \n",
    "    # data\n",
    "    payload = {}\n",
    "    count = 0\n",
    "    try:\n",
    "        while True:\n",
    "            response = requests.get(url, params=payload, headers=headers)\n",
    "            data = response.json()['_embedded'][resource]\n",
    "            if not data:\n",
    "                break\n",
    "            [change_id_field(d) for d in data]\n",
    "            db[resource].insert_many(data)\n",
    "            url = response.json()['_links']['next']['href']\n",
    "            if not url:\n",
    "                break\n",
    "            count += len(data)\n",
    "            if count % (total_count / 10) < len(data):\n",
    "                print('%d %s processed.' % (count, resource))\n",
    "    except Exception as e:\n",
    "        print(e)\n",
    "        print(url)\n",
    "        print(response)\n",
    "        print(count)"
   ]
  },
  {
   "cell_type": "markdown",
   "metadata": {},
   "source": [
    "## search"
   ]
  },
  {
   "cell_type": "code",
   "execution_count": 10,
   "metadata": {
    "collapsed": true
   },
   "outputs": [],
   "source": [
    "search_term = 'Andy Warhol'"
   ]
  },
  {
   "cell_type": "code",
   "execution_count": 11,
   "metadata": {
    "collapsed": false
   },
   "outputs": [],
   "source": [
    "search_url = BASE_URL + '/search'\n",
    "headers = {'X-Xapp-Token': token}\n",
    "payload = {'q': search_term}\n",
    "response = requests.get(search_url, params=payload, headers=headers)"
   ]
  },
  {
   "cell_type": "code",
   "execution_count": 12,
   "metadata": {
    "collapsed": false
   },
   "outputs": [
    {
     "data": {
      "text/plain": [
       "<Response [200]>"
      ]
     },
     "execution_count": 12,
     "metadata": {},
     "output_type": "execute_result"
    }
   ],
   "source": [
    "response"
   ]
  },
  {
   "cell_type": "code",
   "execution_count": 13,
   "metadata": {
    "collapsed": false
   },
   "outputs": [
    {
     "data": {
      "text/plain": [
       "{'_embedded': {'results': [{'_links': {'permalink': {'href': 'https://www.artsy.net/artist/andy-warhol'},\n",
       "     'self': {'href': 'https://api.artsy.net/api/artists/andy-warhol'},\n",
       "     'thumbnail': {'href': 'https://d32dm0rphc51dk.cloudfront.net/PFufT6nMKNwLOpPEezf4Ww/large.jpg'}},\n",
       "    'description': 'Dec 5, 2015 ... Browse the best of Andy Warhol art, including paintings and artwork for sale (with \\nprices), upcoming shows, and exclusive Andy Warhol articles\\xa0...',\n",
       "    'og_type': 'artsyinc:artist',\n",
       "    'title': 'Andy Warhol Art - 1161 Artworks, Biography & Shows on Artsy',\n",
       "    'type': 'Artist'},\n",
       "   {'_links': {'permalink': {'href': 'https://www.artsy.net/artist/andy-warhol/works'},\n",
       "     'self': {'href': 'https://api.artsy.net/api/artists/andy-warhol'},\n",
       "     'thumbnail': {'href': 'https://i.embed.ly/1/display/resize?height=300&quality=95&grow=false&url=https%3A%2F%2Fd32dm0rphc51dk.cloudfront.net%2FVFelegc1J0GFxkS2LSJdRg%2Flarger.jpg&key=a1f82558d8134f6cbebceb9e67d04980'}},\n",
       "    'description': 'Browse the best of Andy Warhol art, including paintings and artwork for sale (with \\nprices), upcoming shows, and exclusive Andy Warhol articles on Artsy.',\n",
       "    'og_type': 'artsyinc:artist',\n",
       "    'title': 'Andy Warhol Art - 1161 Artworks, Biography & Shows on Artsy',\n",
       "    'type': 'Artist'},\n",
       "   {'_links': {'permalink': {'href': 'https://www.artsy.net/artwork/andy-warhol-marilyn-33'},\n",
       "     'self': {'href': 'https://api.artsy.net/api/artworks/andy-warhol-marilyn-33'},\n",
       "     'thumbnail': {'href': 'https://encrypted-tbn1.gstatic.com/images?q=tbn:ANd9GcS9bfiVHgpVD3EiBWRAxsGucQj-yFbHDHtYNP57nntCGxrn3QgUEvVhOnLS'}},\n",
       "    'description': 'From Seattle Art Museum, Andy Warhol, Marilyn (1967), Screenprint on paper, 36 \\n× 36 in.',\n",
       "    'og_type': 'artsyinc:artwork',\n",
       "    'title': 'Andy Warhol, Marilyn (1967)',\n",
       "    'type': 'Artwork'},\n",
       "   {'_links': {'permalink': {'href': 'https://www.artsy.net/show/frye-art-museum-andy-warhol-little-red-book-number-178'},\n",
       "     'self': {'href': 'https://api.artsy.net/api/shows/frye-art-museum-andy-warhol-little-red-book-number-178'},\n",
       "     'thumbnail': {'href': 'https://encrypted-tbn0.gstatic.com/images?q=tbn:ANd9GcRelUnGqenWtQP1PLKE44_b2tMkEhRYBEOaZKWSOjFnpx4rlC9kDiZezPM'}},\n",
       "    'description': 'Past show featuring works by Andy Warhol at Frye Art Museum Seattle, 704 Terry \\nAvenue Seattle May 16th – Sep. 13th.',\n",
       "    'og_type': 'artsyinc:exhibition',\n",
       "    'title': 'Andy Warhol: Little Red Book #178',\n",
       "    'type': 'Show'},\n",
       "   {'_links': {'permalink': {'href': 'https://www.artsy.net/gene/pop-art'},\n",
       "     'self': {'href': 'https://api.artsy.net/api/genes/pop-art'},\n",
       "     'thumbnail': {'href': 'https://encrypted-tbn2.gstatic.com/images?q=tbn:ANd9GcQA-k4-pliSmYX4BRe48DYbQ9tCDJE0yOLo0nlLlwSOxuHW69a3YbaMS_k'}},\n",
       "    'description': '–Andy Warhol Pop Art was the dominant movement in early-1960s American art. \\nShort for “popular art,” it featured common household objects and consumer\\xa0...',\n",
       "    'og_type': 'artsyinc:gene',\n",
       "    'title': 'Pop Art',\n",
       "    'type': 'Gene'},\n",
       "   {'_links': {'permalink': {'href': 'https://www.artsy.net/artwork/andy-warhol-campbells-soup-series'},\n",
       "     'self': {'href': 'https://api.artsy.net/api/artworks/andy-warhol-campbells-soup-series'},\n",
       "     'thumbnail': {'href': 'https://d32dm0rphc51dk.cloudfront.net/vMMZip2LZdwqRH-To5dUXg/large.jpg'}},\n",
       "    'description': \"Available for sale from Guy Hepner, Andy Warhol, Campbell's Soup Series (1968\\n), 35 × 23 in.\",\n",
       "    'og_type': 'artsyinc:artwork',\n",
       "    'title': \"Andy Warhol, Campbell's Soup Series (1968), Available for Sale ...\",\n",
       "    'type': 'Artwork'},\n",
       "   {'_links': {'permalink': {'href': 'https://www.artsy.net/artwork/andy-warhol-flowers-1968'},\n",
       "     'self': {'href': 'https://api.artsy.net/api/artworks/andy-warhol-flowers-1968'},\n",
       "     'thumbnail': {'href': 'https://encrypted-tbn0.gstatic.com/images?q=tbn:ANd9GcRDgNkfP9P8GhuscIM2g6IO6_-EzQrJ-pKJBaAnPcNNJg9FWcCnRs1Lpn0'}},\n",
       "    'description': 'From Yale University Art Gallery, Andy Warhol, Flowers (1964), Silkscreen on \\ncanvas, 119.7 × 117.2 × 2.5 cm.',\n",
       "    'og_type': 'artsyinc:artwork',\n",
       "    'title': 'Andy Warhol, Flowers (1964)',\n",
       "    'type': 'Artwork'},\n",
       "   {'_links': {'permalink': {'href': 'https://www.artsy.net/artist/andy-warhol/auction-results'},\n",
       "     'self': {'href': 'https://api.artsy.net/api/artists/andy-warhol'},\n",
       "     'thumbnail': {'href': 'https://encrypted-tbn1.gstatic.com/images?q=tbn:ANd9GcQQkNEqiPuBFXfh7bPustLW-EnXCFjk9jfCnb3p9XxlX1Iw-ZaaRGo6FVY'}},\n",
       "    'description': 'See details of Andy Warhol auction results from recent, past, and upcoming sales\\n. Let Artsy be your price guide to Andy Warhol.',\n",
       "    'og_type': 'artsyinc:artist',\n",
       "    'title': 'Auction Results for Andy Warhol on Artsy',\n",
       "    'type': 'Artist'},\n",
       "   {'_links': {'permalink': {'href': 'https://www.artsy.net/article/editorial-andy-warhols-greatest-love-cats'},\n",
       "     'thumbnail': {'href': 'https://encrypted-tbn0.gstatic.com/images?q=tbn:ANd9GcRg_mw-uRPIFBwoai6ASSflAnZaASKzAHyAamDKXJUBg8JJRq1uoT5Zv2y0'}},\n",
       "    'description': 'Jun 22, 2013 ... To call Andy Warhol a “cat person” would be an understatement. The ever-\\nquotable Pop artist openly proclaimed his love for money, fame, and\\xa0...',\n",
       "    'og_type': 'article',\n",
       "    'title': \"Andy Warhol's Greatest Love: Cats\",\n",
       "    'type': None},\n",
       "   {'_links': {'permalink': {'href': 'https://www.artsy.net/artwork/andy-warhol-soup-can-vegetarian-vegetable'},\n",
       "     'self': {'href': 'https://api.artsy.net/api/artworks/andy-warhol-soup-can-vegetarian-vegetable'},\n",
       "     'thumbnail': {'href': 'https://encrypted-tbn2.gstatic.com/images?q=tbn:ANd9GcRMXcMBRG8ob7_S0uDWoO8sn3HJX9aL79pqxCD8Iuz53QcBR75yjVBWGDU'}},\n",
       "    'description': 'From Harn Museum of Art, Andy Warhol, Soup Can, Vegetarian Vegetable (1964)\\n, Silkscreen, 32 × 18 3/4 in.',\n",
       "    'og_type': 'artsyinc:artwork',\n",
       "    'title': 'Andy Warhol, Soup Can, Vegetarian Vegetable (1964)',\n",
       "    'type': 'Artwork'}]},\n",
       " '_links': {'next': {'href': 'https://api.artsy.net/api/search?offset=10&q=Andy+Warhol'},\n",
       "  'self': {'href': 'https://api.artsy.net/api/search?q=Andy+Warhol'}},\n",
       " 'offset': None,\n",
       " 'q': 'Andy Warhol',\n",
       " 'total_count': 17100}"
      ]
     },
     "execution_count": 13,
     "metadata": {},
     "output_type": "execute_result"
    }
   ],
   "source": [
    "response.json()"
   ]
  },
  {
   "cell_type": "code",
   "execution_count": null,
   "metadata": {
    "collapsed": true
   },
   "outputs": [],
   "source": []
  }
 ],
 "metadata": {
  "kernelspec": {
   "display_name": "Python 3",
   "language": "python",
   "name": "python3"
  },
  "language_info": {
   "codemirror_mode": {
    "name": "ipython",
    "version": 3
   },
   "file_extension": ".py",
   "mimetype": "text/x-python",
   "name": "python",
   "nbconvert_exporter": "python",
   "pygments_lexer": "ipython3",
   "version": "3.4.3"
  }
 },
 "nbformat": 4,
 "nbformat_minor": 0
}
