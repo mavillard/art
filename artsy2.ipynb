{
 "cells": [
  {
   "cell_type": "markdown",
   "metadata": {
    "collapsed": true
   },
   "source": [
    "# artsy"
   ]
  },
  {
   "cell_type": "code",
   "execution_count": 1,
   "metadata": {
    "collapsed": true
   },
   "outputs": [],
   "source": [
    "from pymongo import MongoClient\n",
    "import requests\n",
    "\n",
    "import credentials"
   ]
  },
  {
   "cell_type": "markdown",
   "metadata": {},
   "source": [
    "## setup"
   ]
  },
  {
   "cell_type": "markdown",
   "metadata": {},
   "source": [
    "### database"
   ]
  },
  {
   "cell_type": "code",
   "execution_count": 2,
   "metadata": {
    "collapsed": false
   },
   "outputs": [],
   "source": [
    "client = MongoClient()\n",
    "# client.drop_database('artsy')\n",
    "db = client.artsy"
   ]
  },
  {
   "cell_type": "markdown",
   "metadata": {},
   "source": [
    "### base url"
   ]
  },
  {
   "cell_type": "code",
   "execution_count": 3,
   "metadata": {
    "collapsed": true
   },
   "outputs": [],
   "source": [
    "BASE_URL = 'https://api.artsy.net/api'"
   ]
  },
  {
   "cell_type": "markdown",
   "metadata": {},
   "source": [
    "### app"
   ]
  },
  {
   "cell_type": "code",
   "execution_count": 4,
   "metadata": {
    "collapsed": true
   },
   "outputs": [],
   "source": [
    "app_name = credentials.artsy_app_name\n",
    "client_id = credentials.artsy_client_id\n",
    "client_secret = credentials.artsy_client_secret"
   ]
  },
  {
   "cell_type": "markdown",
   "metadata": {},
   "source": [
    "### token"
   ]
  },
  {
   "cell_type": "code",
   "execution_count": 5,
   "metadata": {
    "collapsed": false
   },
   "outputs": [],
   "source": [
    "headers = {}\n",
    "payload = {'client_id': client_id, 'client_secret': client_secret}\n",
    "url = BASE_URL + '/tokens/xapp_token'\n",
    "response = requests.post(url, params=payload, headers=headers)\n",
    "token = response.json()['token']"
   ]
  },
  {
   "cell_type": "markdown",
   "metadata": {},
   "source": [
    "### auxiliar"
   ]
  },
  {
   "cell_type": "code",
   "execution_count": 6,
   "metadata": {
    "collapsed": false
   },
   "outputs": [],
   "source": [
    "def change_id_field(d):\n",
    "    d['_id'] = d.pop('id')"
   ]
  },
  {
   "cell_type": "code",
   "execution_count": 7,
   "metadata": {
    "collapsed": false
   },
   "outputs": [],
   "source": [
    "def get_info(subject, relationship, obj, collection):\n",
    "    print('Processing %s\\' %s...' % (subject, obj))\n",
    "    headers = {'X-Xapp-Token': token}\n",
    "    payload = {}\n",
    "#     db[collection].drop()\n",
    "    total_count = db[subject].count()\n",
    "    count = 0\n",
    "    size = 1000\n",
    "    chunks = [db[subject].find()[x:x+size] for x in range(0, total_count, size)]\n",
    "    for chunk in chunks:\n",
    "        ds1 = []\n",
    "        for r in chunk:\n",
    "            ds2 = []\n",
    "            url = r['_links'][relationship]['href']\n",
    "            while True:\n",
    "                response = requests.get(url, params=payload, headers=headers)\n",
    "                if not response.ok:\n",
    "                    break\n",
    "                js = response.json()\n",
    "                data = js['_embedded'][obj]\n",
    "                if not data:\n",
    "                    break\n",
    "                ids = [d['id'] for d in data]\n",
    "                ds2.extend(ids)\n",
    "                if '_links' in js and 'next' in js['_links']:\n",
    "                    url = js['_links']['next']['href']\n",
    "                else:\n",
    "                    url = None\n",
    "                if not url:\n",
    "                    break\n",
    "            ds1.append({'_id': r['_id'], 'data': ds2})\n",
    "            count += 1\n",
    "            if count % (total_count // 10) == 0:\n",
    "                print('%d %s processed.' % (count, subject))\n",
    "        db[collection].insert_many(ds1)"
   ]
  },
  {
   "cell_type": "markdown",
   "metadata": {},
   "source": [
    "## artsy resources\n",
    "- **Status**\n",
    "- **Artists**\n",
    "  - **Artworks**\n",
    "  - **Similar artists**\n",
    "- **Artworks**\n",
    "  - **Genes**\n",
    "  - **Similar artworks**\n",
    "- Editions\n",
    "- **Genes**\n",
    "- Profiles\n",
    "- **Partners**\n",
    "  - **Artworks**\n",
    "  - **Shows**\n",
    "- **Shows**\n",
    "  - **Artworks**\n",
    "- Fairs\n",
    "- Applications\n",
    "- Users\n",
    "- User Details\n",
    "- Collections\n",
    "- Collection Items\n",
    "- Images\n",
    "- Search"
   ]
  },
  {
   "cell_type": "markdown",
   "metadata": {},
   "source": [
    "## status"
   ]
  },
  {
   "cell_type": "code",
   "execution_count": 8,
   "metadata": {
    "collapsed": false,
    "scrolled": false
   },
   "outputs": [
    {
     "name": "stdout",
     "output_type": "stream",
     "text": [
      "Status: good\n"
     ]
    }
   ],
   "source": [
    "headers = {}\n",
    "payload = {}\n",
    "url = BASE_URL + '/status'\n",
    "response = requests.get(url, params=payload, headers=headers)\n",
    "status = response.json()['status']\n",
    "print('Status: %s' % status)"
   ]
  },
  {
   "cell_type": "markdown",
   "metadata": {},
   "source": [
    "## other resources"
   ]
  },
  {
   "cell_type": "markdown",
   "metadata": {},
   "source": [
    "### artists"
   ]
  },
  {
   "cell_type": "markdown",
   "metadata": {},
   "source": [
    "#### artworks"
   ]
  },
  {
   "cell_type": "code",
   "execution_count": 9,
   "metadata": {
    "collapsed": false
   },
   "outputs": [
    {
     "name": "stdout",
     "output_type": "stream",
     "text": [
      "Processing artists' artworks...\n",
      "4993 artists processed.\n",
      "9986 artists processed.\n",
      "14979 artists processed.\n",
      "19972 artists processed.\n",
      "24965 artists processed.\n",
      "29958 artists processed.\n",
      "34951 artists processed.\n",
      "39944 artists processed.\n",
      "44937 artists processed.\n",
      "49930 artists processed.\n"
     ]
    }
   ],
   "source": [
    "# creates\n",
    "get_info('artists', 'artworks', 'artworks', 'artists_artworks') # subject, relationship, obj, collection"
   ]
  },
  {
   "cell_type": "markdown",
   "metadata": {},
   "source": [
    "#### similar artists"
   ]
  },
  {
   "cell_type": "code",
   "execution_count": 10,
   "metadata": {
    "collapsed": false,
    "scrolled": false
   },
   "outputs": [
    {
     "name": "stdout",
     "output_type": "stream",
     "text": [
      "Processing artists' artists...\n",
      "4993 artists processed.\n",
      "9986 artists processed.\n",
      "14979 artists processed.\n",
      "19972 artists processed.\n",
      "24965 artists processed.\n",
      "29958 artists processed.\n",
      "34951 artists processed.\n",
      "39944 artists processed.\n",
      "44937 artists processed.\n",
      "49930 artists processed.\n"
     ]
    }
   ],
   "source": [
    "# is_similar_to\n",
    "get_info('artists', 'similar_artists', 'artists', 'similar_artists') # subject, relationship, obj, collection"
   ]
  },
  {
   "cell_type": "markdown",
   "metadata": {},
   "source": [
    "### artworks"
   ]
  },
  {
   "cell_type": "markdown",
   "metadata": {},
   "source": [
    "#### genes"
   ]
  },
  {
   "cell_type": "code",
   "execution_count": 11,
   "metadata": {
    "collapsed": false,
    "scrolled": false
   },
   "outputs": [
    {
     "name": "stdout",
     "output_type": "stream",
     "text": [
      "Processing artworks' genes...\n",
      "2607 artworks processed.\n",
      "5214 artworks processed.\n",
      "7821 artworks processed.\n",
      "10428 artworks processed.\n",
      "13035 artworks processed.\n",
      "15642 artworks processed.\n",
      "18249 artworks processed.\n",
      "20856 artworks processed.\n",
      "23463 artworks processed.\n",
      "26070 artworks processed.\n"
     ]
    }
   ],
   "source": [
    "# is_described_by\n",
    "get_info('artworks', 'genes', 'genes', 'artworks_genes') # subject, relationship, obj, collection"
   ]
  },
  {
   "cell_type": "markdown",
   "metadata": {},
   "source": [
    "#### similar artworks"
   ]
  },
  {
   "cell_type": "code",
   "execution_count": 12,
   "metadata": {
    "collapsed": false,
    "scrolled": false
   },
   "outputs": [
    {
     "name": "stdout",
     "output_type": "stream",
     "text": [
      "Processing artworks' artworks...\n",
      "2607 artworks processed.\n",
      "5214 artworks processed.\n",
      "7821 artworks processed.\n",
      "10428 artworks processed.\n",
      "13035 artworks processed.\n",
      "15642 artworks processed.\n",
      "18249 artworks processed.\n",
      "20856 artworks processed.\n",
      "23463 artworks processed.\n",
      "26070 artworks processed.\n"
     ]
    }
   ],
   "source": [
    "# is_similar_to\n",
    "get_info('artworks', 'similar_artworks', 'artworks', 'similar_artworks') # subject, relationship, obj, collection"
   ]
  },
  {
   "cell_type": "markdown",
   "metadata": {},
   "source": [
    "### partners"
   ]
  },
  {
   "cell_type": "markdown",
   "metadata": {},
   "source": [
    "#### artworks"
   ]
  },
  {
   "cell_type": "code",
   "execution_count": 13,
   "metadata": {
    "collapsed": false,
    "scrolled": false
   },
   "outputs": [
    {
     "name": "stdout",
     "output_type": "stream",
     "text": [
      "Processing partners' artworks...\n",
      "146 partners processed.\n",
      "292 partners processed.\n",
      "438 partners processed.\n",
      "584 partners processed.\n",
      "730 partners processed.\n",
      "876 partners processed.\n",
      "1022 partners processed.\n",
      "1168 partners processed.\n",
      "1314 partners processed.\n",
      "1460 partners processed.\n"
     ]
    }
   ],
   "source": [
    "# owns\n",
    "get_info('partners', 'artworks', 'artworks', 'partners_artworks') # subject, relationship, obj, collection"
   ]
  },
  {
   "cell_type": "markdown",
   "metadata": {},
   "source": [
    "#### shows"
   ]
  },
  {
   "cell_type": "code",
   "execution_count": 14,
   "metadata": {
    "collapsed": false,
    "scrolled": false
   },
   "outputs": [
    {
     "name": "stdout",
     "output_type": "stream",
     "text": [
      "Processing partners' shows...\n",
      "146 partners processed.\n",
      "292 partners processed.\n",
      "438 partners processed.\n",
      "584 partners processed.\n",
      "730 partners processed.\n",
      "876 partners processed.\n",
      "1022 partners processed.\n",
      "1168 partners processed.\n",
      "1314 partners processed.\n",
      "1460 partners processed.\n"
     ]
    }
   ],
   "source": [
    "# organizes\n",
    "get_info('partners', 'shows', 'shows', 'partners_shows') # subject, relationship, obj, collection"
   ]
  },
  {
   "cell_type": "markdown",
   "metadata": {},
   "source": [
    "### shows"
   ]
  },
  {
   "cell_type": "markdown",
   "metadata": {},
   "source": [
    "#### artworks"
   ]
  },
  {
   "cell_type": "code",
   "execution_count": 15,
   "metadata": {
    "collapsed": false,
    "scrolled": false
   },
   "outputs": [
    {
     "name": "stdout",
     "output_type": "stream",
     "text": [
      "Processing shows' artworks...\n",
      "790 shows processed.\n",
      "1580 shows processed.\n",
      "2370 shows processed.\n",
      "3160 shows processed.\n",
      "3950 shows processed.\n",
      "4740 shows processed.\n",
      "5530 shows processed.\n",
      "6320 shows processed.\n",
      "7110 shows processed.\n",
      "7900 shows processed.\n"
     ]
    }
   ],
   "source": [
    "# exhibits\n",
    "get_info('shows', 'artworks', 'artworks', 'shows_artworks') # subject, relationship, obj, collection"
   ]
  },
  {
   "cell_type": "code",
   "execution_count": null,
   "metadata": {
    "collapsed": true
   },
   "outputs": [],
   "source": []
  }
 ],
 "metadata": {
  "kernelspec": {
   "display_name": "Python 3",
   "language": "python",
   "name": "python3"
  },
  "language_info": {
   "codemirror_mode": {
    "name": "ipython",
    "version": 3
   },
   "file_extension": ".py",
   "mimetype": "text/x-python",
   "name": "python",
   "nbconvert_exporter": "python",
   "pygments_lexer": "ipython3",
   "version": "3.4.3"
  }
 },
 "nbformat": 4,
 "nbformat_minor": 0
}
