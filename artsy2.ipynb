{
 "cells": [
  {
   "cell_type": "markdown",
   "metadata": {},
   "source": [
    "# artsy"
   ]
  },
  {
   "cell_type": "code",
   "execution_count": 1,
   "metadata": {
    "collapsed": true
   },
   "outputs": [],
   "source": [
    "from pymongo import MongoClient\n",
    "import requests\n",
    "\n",
    "import credentials"
   ]
  },
  {
   "cell_type": "markdown",
   "metadata": {},
   "source": [
    "## setup"
   ]
  },
  {
   "cell_type": "markdown",
   "metadata": {},
   "source": [
    "### database"
   ]
  },
  {
   "cell_type": "code",
   "execution_count": 2,
   "metadata": {
    "collapsed": false
   },
   "outputs": [],
   "source": [
    "client = MongoClient()\n",
    "# client.drop_database('artsy')\n",
    "db = client.artsy"
   ]
  },
  {
   "cell_type": "markdown",
   "metadata": {},
   "source": [
    "### base url"
   ]
  },
  {
   "cell_type": "code",
   "execution_count": 3,
   "metadata": {
    "collapsed": true
   },
   "outputs": [],
   "source": [
    "BASE_URL = 'https://api.artsy.net/api'"
   ]
  },
  {
   "cell_type": "markdown",
   "metadata": {},
   "source": [
    "### app"
   ]
  },
  {
   "cell_type": "code",
   "execution_count": 4,
   "metadata": {
    "collapsed": true
   },
   "outputs": [],
   "source": [
    "app_name = credentials.artsy_app_name\n",
    "client_id = credentials.artsy_client_id\n",
    "client_secret = credentials.artsy_client_secret"
   ]
  },
  {
   "cell_type": "markdown",
   "metadata": {},
   "source": [
    "### token"
   ]
  },
  {
   "cell_type": "code",
   "execution_count": 5,
   "metadata": {
    "collapsed": false
   },
   "outputs": [],
   "source": [
    "headers = {}\n",
    "payload = {'client_id': client_id, 'client_secret': client_secret}\n",
    "url = BASE_URL + '/tokens/xapp_token'\n",
    "response = requests.post(url, params=payload, headers=headers)\n",
    "token = response.json()['token']"
   ]
  },
  {
   "cell_type": "markdown",
   "metadata": {},
   "source": [
    "### auxiliar"
   ]
  },
  {
   "cell_type": "code",
   "execution_count": 6,
   "metadata": {
    "collapsed": false
   },
   "outputs": [],
   "source": [
    "def change_id_field(d):\n",
    "    d['_id'] = d.pop('id')"
   ]
  },
  {
   "cell_type": "markdown",
   "metadata": {},
   "source": [
    "### test"
   ]
  },
  {
   "cell_type": "code",
   "execution_count": 7,
   "metadata": {
    "collapsed": false,
    "scrolled": false
   },
   "outputs": [],
   "source": [
    "# headers = {'X-Xapp-Token': token}\n",
    "# payload = {'total_count': 1}\n",
    "# url = 'https://api.artsy.net/api/artists?similar_to_artist_id=4d8b92b34eb68a1b2c0003f4'\n",
    "# response = requests.get(url, params=payload, headers=headers)\n",
    "# # total_count = response.json()['total_count']\n",
    "# d=response.json()['_embedded']['artists']\n",
    "# print(d)"
   ]
  },
  {
   "cell_type": "markdown",
   "metadata": {},
   "source": [
    "## artsy resources\n",
    "* Status\n",
    "* Artists\n",
    "* Artworks\n",
    "* Editions\n",
    "* Genes\n",
    "* Profiles\n",
    "* Partners\n",
    "* Shows\n",
    "* Fairs\n",
    "* Applications\n",
    "* Users\n",
    "* User Details\n",
    "* Collections\n",
    "* Collection Items\n",
    "* Images\n",
    "* Search"
   ]
  },
  {
   "cell_type": "markdown",
   "metadata": {},
   "source": [
    "## status"
   ]
  },
  {
   "cell_type": "code",
   "execution_count": 8,
   "metadata": {
    "collapsed": false,
    "scrolled": false
   },
   "outputs": [
    {
     "name": "stdout",
     "output_type": "stream",
     "text": [
      "Status: good\n"
     ]
    }
   ],
   "source": [
    "headers = {}\n",
    "payload = {'total_count': 1}\n",
    "url = BASE_URL + '/status'\n",
    "response = requests.get(url, params=payload, headers=headers)\n",
    "status = response.json()['status']\n",
    "print('Status: %s' % status)"
   ]
  },
  {
   "cell_type": "markdown",
   "metadata": {},
   "source": [
    "## resources\n",
    "Status, Artists, Artworks, Editions, Genes, Profiles, Partners, Shows, Fairs, Applications, Users, User Details, Collections, Collection Items, Images, Search\n",
    "        artists, artworks,           genes, profiles, partners, shows, fairs"
   ]
  },
  {
   "cell_type": "markdown",
   "metadata": {},
   "source": [
    "### similar_artists"
   ]
  },
  {
   "cell_type": "code",
   "execution_count": 12,
   "metadata": {
    "collapsed": false,
    "scrolled": false
   },
   "outputs": [
    {
     "ename": "SyntaxError",
     "evalue": "invalid syntax (<ipython-input-12-4ced32a4c507>, line 1)",
     "output_type": "error",
     "traceback": [
      "\u001b[1;36m  File \u001b[1;32m\"<ipython-input-12-4ced32a4c507>\"\u001b[1;36m, line \u001b[1;32m1\u001b[0m\n\u001b[1;33m    db.similar_artists.drop()x\u001b[0m\n\u001b[1;37m                             ^\u001b[0m\n\u001b[1;31mSyntaxError\u001b[0m\u001b[1;31m:\u001b[0m invalid syntax\n"
     ]
    }
   ],
   "source": [
    "headers = {'X-Xapp-Token': token}\n",
    "payload = {}\n",
    "db.similar_artists.drop()\n",
    "total_count = db.artists.count()\n",
    "count = 0\n",
    "# try:\n",
    "    size = 1000\n",
    "    chunks = [db.artists.find()[x:x+size] for x in range(0, total_count, size)]\n",
    "    for chunk in chunks:\n",
    "        ds = []\n",
    "        for artist in chunk:\n",
    "            url = artist['_links']['similar_artists']['href']\n",
    "            response = requests.get(url, params=payload, headers=headers)\n",
    "            data = response.json()['_embedded']['artists']\n",
    "            ids = [d['id'] for d in data]\n",
    "            ds.append({'_id': artist['_id'], 'data': ids})\n",
    "            count += 1\n",
    "            if count % (total_count / 10) < len(data):\n",
    "                print('%d %s processed.' % (count, 'artists'))\n",
    "        db.similar_artists.insert_many(ds)\n",
    "# except Exception as e:\n",
    "#     print(e)\n",
    "#     print(url)\n",
    "#     print(response)\n",
    "#     print(count)"
   ]
  },
  {
   "cell_type": "markdown",
   "metadata": {},
   "source": [
    "### users"
   ]
  },
  {
   "cell_type": "code",
   "execution_count": 32,
   "metadata": {
    "collapsed": false
   },
   "outputs": [
    {
     "name": "stdout",
     "output_type": "stream",
     "text": [
      "247 artists processed.\n",
      "494 artists processed.\n",
      "740 artists processed.\n",
      "987 artists processed.\n",
      "1233 artists processed.\n",
      "1480 artists processed.\n",
      "1727 artists processed.\n",
      "1973 artists processed.\n",
      "2220 artists processed.\n",
      "2466 artists processed.\n"
     ]
    }
   ],
   "source": [
    "headers = {'X-Xapp-Token': token}\n",
    "payload = {}\n",
    "db.users.drop()\n",
    "total_count = db.profiles.count()\n",
    "count = 0\n",
    "# try:\n",
    "size = 1000\n",
    "chunks = [db.profiles.find()[x:x+size] for x in range(0, total_count, size)]\n",
    "for chunk in chunks:\n",
    "    ds = []\n",
    "    for profile in chunk:\n",
    "        if 'owner' in profile['_links']:\n",
    "            url = profile['_links']['owner']['href']\n",
    "            url_parts = url.split('/')\n",
    "            if url_parts[-2] == 'users':\n",
    "                response = requests.get(url, params=payload, headers=headers)\n",
    "                d = response.json()\n",
    "                data = [d]\n",
    "                [change_id_field(d) for d in data]\n",
    "                ds.append(d)\n",
    "        count += 1\n",
    "        if count % (total_count / 10) < len(data):\n",
    "            print('%d %s processed.' % (count, 'artists'))\n",
    "    db.users.insert_many(ds)\n",
    "# except Exception as e:\n",
    "#     print(e)\n",
    "#     print(url)\n",
    "#     print(response)\n",
    "#     print(count)"
   ]
  },
  {
   "cell_type": "code",
   "execution_count": 41,
   "metadata": {
    "collapsed": false
   },
   "outputs": [
    {
     "data": {
      "text/plain": [
       "(701, 1648, 107, 0, 10, 2466)"
      ]
     },
     "execution_count": 41,
     "metadata": {},
     "output_type": "execute_result"
    }
   ],
   "source": [
    "headers = {'X-Xapp-Token': token}\n",
    "payload = {}\n",
    "db.users.drop()\n",
    "total_count = db.profiles.count()\n",
    "c1,c2,c3,c4,c5 = 0,0,0,0,0\n",
    "# try:\n",
    "size = 1000\n",
    "chunks = [db.profiles.find()[x:x+size] for x in range(0, total_count, size)]\n",
    "for chunk in chunks:\n",
    "    ds = []\n",
    "    for profile in chunk:\n",
    "        if 'owner' in profile['_links']:\n",
    "            url = profile['_links']['owner']['href']\n",
    "            url_parts = url.split('/')\n",
    "            if url_parts[-2] == 'users':\n",
    "                c1+=1\n",
    "            elif url_parts[-2] == 'partners':\n",
    "                c2+=1\n",
    "            elif url_parts[-2] == 'fairs':\n",
    "                c3+=1\n",
    "            else:\n",
    "                c4+=1\n",
    "        else:\n",
    "            c5 += 1\n",
    "#         if count % (total_count / 10) < len(data):\n",
    "#             print('%d %s processed.' % (count, 'artists'))\n",
    "#     db.users.insert_many(ds)\n",
    "# except Exception as e:\n",
    "#     print(e)\n",
    "#     print(url)\n",
    "#     print(response)\n",
    "#     print(count)\n",
    "(c1,c2,c3,c4,c5, total_count)"
   ]
  },
  {
   "cell_type": "code",
   "execution_count": 31,
   "metadata": {
    "collapsed": false
   },
   "outputs": [
    {
     "data": {
      "text/plain": [
       "{'_id': '54903ebb776f7215340a0000',\n",
       " '_links': {'permalink': {'href': 'http://www.artsy.net/chart-1'},\n",
       "  'self': {'href': 'https://api.artsy.net/api/profiles/54903ebb776f7215340a0000'},\n",
       "  'website': {'href': ''}},\n",
       " 'created_at': '2014-12-16T14:16:27+00:00',\n",
       " 'description': '',\n",
       " 'handle': 'chart-1',\n",
       " 'location': '',\n",
       " 'updated_at': '2014-12-16T14:18:46+00:00'}"
      ]
     },
     "execution_count": 31,
     "metadata": {},
     "output_type": "execute_result"
    }
   ],
   "source": [
    "profile"
   ]
  },
  {
   "cell_type": "code",
   "execution_count": 37,
   "metadata": {
    "collapsed": false
   },
   "outputs": [
    {
     "ename": "TypeError",
     "evalue": "'int' object is not iterable",
     "output_type": "error",
     "traceback": [
      "\u001b[1;31m---------------------------------------------------------------------------\u001b[0m",
      "\u001b[1;31mTypeError\u001b[0m                                 Traceback (most recent call last)",
      "\u001b[1;32m<ipython-input-37-02d165e20f76>\u001b[0m in \u001b[0;36m<module>\u001b[1;34m()\u001b[0m\n\u001b[1;32m----> 1\u001b[1;33m \u001b[0ma1\u001b[0m\u001b[1;33m,\u001b[0m\u001b[0ma2\u001b[0m\u001b[1;33m=\u001b[0m\u001b[1;36m0\u001b[0m\u001b[1;33m\u001b[0m\u001b[0m\n\u001b[0m",
      "\u001b[1;31mTypeError\u001b[0m: 'int' object is not iterable"
     ]
    }
   ],
   "source": [
    "a1,a2=0"
   ]
  },
  {
   "cell_type": "code",
   "execution_count": 9,
   "metadata": {
    "collapsed": false
   },
   "outputs": [
    {
     "name": "stdout",
     "output_type": "stream",
     "text": [
      "Cursor not found, cursor id: 207244522241\n",
      "https://api.artsy.net/api/artists?similar_to_artist_id=515ce3415eeb1c524c001105\n",
      "<Response [200]>\n",
      "3329\n"
     ]
    }
   ],
   "source": [
    "db.similar_artists.drop()\n",
    "total_count = db.artists.count()\n",
    "count = 0\n",
    "try:\n",
    "    for artist in db.artists.find():\n",
    "        url = artist['_links']['similar_artists']['href']\n",
    "        headers = {'X-Xapp-Token': token}\n",
    "        payload = {}\n",
    "        response = requests.get(url, params=payload, headers=headers)\n",
    "        data = response.json()['_embedded']['artists']\n",
    "        ids = [d['id'] for d in data]\n",
    "        db['similar_artists'].insert_one({'_id': artist['_id'], 'data': data})\n",
    "        count += 1\n",
    "        if count % (total_count / 10) < len(data):\n",
    "            print('%d %s processed.' % (count, 'artists'))\n",
    "except Exception as e:\n",
    "    print(e)\n",
    "    print(url)\n",
    "    print(response)\n",
    "    print(count)"
   ]
  },
  {
   "cell_type": "markdown",
   "metadata": {},
   "source": [
    "## search"
   ]
  },
  {
   "cell_type": "code",
   "execution_count": 10,
   "metadata": {
    "collapsed": true
   },
   "outputs": [],
   "source": [
    "search_term = 'Andy Warhol'"
   ]
  },
  {
   "cell_type": "code",
   "execution_count": 11,
   "metadata": {
    "collapsed": false
   },
   "outputs": [],
   "source": [
    "search_url = BASE_URL + '/search'\n",
    "headers = {'X-Xapp-Token': token}\n",
    "payload = {'q': search_term}\n",
    "response = requests.get(search_url, params=payload, headers=headers)"
   ]
  },
  {
   "cell_type": "code",
   "execution_count": 12,
   "metadata": {
    "collapsed": false
   },
   "outputs": [
    {
     "data": {
      "text/plain": [
       "<Response [200]>"
      ]
     },
     "execution_count": 12,
     "metadata": {},
     "output_type": "execute_result"
    }
   ],
   "source": [
    "response"
   ]
  },
  {
   "cell_type": "code",
   "execution_count": 13,
   "metadata": {
    "collapsed": false
   },
   "outputs": [
    {
     "data": {
      "text/plain": [
       "{'_embedded': {'results': [{'_links': {'permalink': {'href': 'https://www.artsy.net/artist/andy-warhol'},\n",
       "     'self': {'href': 'https://api.artsy.net/api/artists/andy-warhol'},\n",
       "     'thumbnail': {'href': 'https://d32dm0rphc51dk.cloudfront.net/PFufT6nMKNwLOpPEezf4Ww/large.jpg'}},\n",
       "    'description': 'Dec 5, 2015 ... Browse the best of Andy Warhol art, including paintings and artwork for sale (with \\nprices), upcoming shows, and exclusive Andy Warhol articles\\xa0...',\n",
       "    'og_type': 'artsyinc:artist',\n",
       "    'title': 'Andy Warhol Art - 1161 Artworks, Biography & Shows on Artsy',\n",
       "    'type': 'Artist'},\n",
       "   {'_links': {'permalink': {'href': 'https://www.artsy.net/artist/andy-warhol/works'},\n",
       "     'self': {'href': 'https://api.artsy.net/api/artists/andy-warhol'},\n",
       "     'thumbnail': {'href': 'https://i.embed.ly/1/display/resize?height=300&quality=95&grow=false&url=https%3A%2F%2Fd32dm0rphc51dk.cloudfront.net%2FVFelegc1J0GFxkS2LSJdRg%2Flarger.jpg&key=a1f82558d8134f6cbebceb9e67d04980'}},\n",
       "    'description': 'Browse the best of Andy Warhol art, including paintings and artwork for sale (with \\nprices), upcoming shows, and exclusive Andy Warhol articles on Artsy.',\n",
       "    'og_type': 'artsyinc:artist',\n",
       "    'title': 'Andy Warhol Art - 1161 Artworks, Biography & Shows on Artsy',\n",
       "    'type': 'Artist'},\n",
       "   {'_links': {'permalink': {'href': 'https://www.artsy.net/artwork/andy-warhol-marilyn-33'},\n",
       "     'self': {'href': 'https://api.artsy.net/api/artworks/andy-warhol-marilyn-33'},\n",
       "     'thumbnail': {'href': 'https://encrypted-tbn1.gstatic.com/images?q=tbn:ANd9GcS9bfiVHgpVD3EiBWRAxsGucQj-yFbHDHtYNP57nntCGxrn3QgUEvVhOnLS'}},\n",
       "    'description': 'From Seattle Art Museum, Andy Warhol, Marilyn (1967), Screenprint on paper, 36 \\n× 36 in.',\n",
       "    'og_type': 'artsyinc:artwork',\n",
       "    'title': 'Andy Warhol, Marilyn (1967)',\n",
       "    'type': 'Artwork'},\n",
       "   {'_links': {'permalink': {'href': 'https://www.artsy.net/show/frye-art-museum-andy-warhol-little-red-book-number-178'},\n",
       "     'self': {'href': 'https://api.artsy.net/api/shows/frye-art-museum-andy-warhol-little-red-book-number-178'},\n",
       "     'thumbnail': {'href': 'https://encrypted-tbn0.gstatic.com/images?q=tbn:ANd9GcRelUnGqenWtQP1PLKE44_b2tMkEhRYBEOaZKWSOjFnpx4rlC9kDiZezPM'}},\n",
       "    'description': 'Past show featuring works by Andy Warhol at Frye Art Museum Seattle, 704 Terry \\nAvenue Seattle May 16th – Sep. 13th.',\n",
       "    'og_type': 'artsyinc:exhibition',\n",
       "    'title': 'Andy Warhol: Little Red Book #178',\n",
       "    'type': 'Show'},\n",
       "   {'_links': {'permalink': {'href': 'https://www.artsy.net/gene/pop-art'},\n",
       "     'self': {'href': 'https://api.artsy.net/api/genes/pop-art'},\n",
       "     'thumbnail': {'href': 'https://encrypted-tbn2.gstatic.com/images?q=tbn:ANd9GcQA-k4-pliSmYX4BRe48DYbQ9tCDJE0yOLo0nlLlwSOxuHW69a3YbaMS_k'}},\n",
       "    'description': '–Andy Warhol Pop Art was the dominant movement in early-1960s American art. \\nShort for “popular art,” it featured common household objects and consumer\\xa0...',\n",
       "    'og_type': 'artsyinc:gene',\n",
       "    'title': 'Pop Art',\n",
       "    'type': 'Gene'},\n",
       "   {'_links': {'permalink': {'href': 'https://www.artsy.net/artwork/andy-warhol-campbells-soup-series'},\n",
       "     'self': {'href': 'https://api.artsy.net/api/artworks/andy-warhol-campbells-soup-series'},\n",
       "     'thumbnail': {'href': 'https://d32dm0rphc51dk.cloudfront.net/vMMZip2LZdwqRH-To5dUXg/large.jpg'}},\n",
       "    'description': \"Available for sale from Guy Hepner, Andy Warhol, Campbell's Soup Series (1968\\n), 35 × 23 in.\",\n",
       "    'og_type': 'artsyinc:artwork',\n",
       "    'title': \"Andy Warhol, Campbell's Soup Series (1968), Available for Sale ...\",\n",
       "    'type': 'Artwork'},\n",
       "   {'_links': {'permalink': {'href': 'https://www.artsy.net/artwork/andy-warhol-flowers-1968'},\n",
       "     'self': {'href': 'https://api.artsy.net/api/artworks/andy-warhol-flowers-1968'},\n",
       "     'thumbnail': {'href': 'https://encrypted-tbn0.gstatic.com/images?q=tbn:ANd9GcRDgNkfP9P8GhuscIM2g6IO6_-EzQrJ-pKJBaAnPcNNJg9FWcCnRs1Lpn0'}},\n",
       "    'description': 'From Yale University Art Gallery, Andy Warhol, Flowers (1964), Silkscreen on \\ncanvas, 119.7 × 117.2 × 2.5 cm.',\n",
       "    'og_type': 'artsyinc:artwork',\n",
       "    'title': 'Andy Warhol, Flowers (1964)',\n",
       "    'type': 'Artwork'},\n",
       "   {'_links': {'permalink': {'href': 'https://www.artsy.net/artist/andy-warhol/auction-results'},\n",
       "     'self': {'href': 'https://api.artsy.net/api/artists/andy-warhol'},\n",
       "     'thumbnail': {'href': 'https://encrypted-tbn1.gstatic.com/images?q=tbn:ANd9GcQQkNEqiPuBFXfh7bPustLW-EnXCFjk9jfCnb3p9XxlX1Iw-ZaaRGo6FVY'}},\n",
       "    'description': 'See details of Andy Warhol auction results from recent, past, and upcoming sales\\n. Let Artsy be your price guide to Andy Warhol.',\n",
       "    'og_type': 'artsyinc:artist',\n",
       "    'title': 'Auction Results for Andy Warhol on Artsy',\n",
       "    'type': 'Artist'},\n",
       "   {'_links': {'permalink': {'href': 'https://www.artsy.net/article/editorial-andy-warhols-greatest-love-cats'},\n",
       "     'thumbnail': {'href': 'https://encrypted-tbn0.gstatic.com/images?q=tbn:ANd9GcRg_mw-uRPIFBwoai6ASSflAnZaASKzAHyAamDKXJUBg8JJRq1uoT5Zv2y0'}},\n",
       "    'description': 'Jun 22, 2013 ... To call Andy Warhol a “cat person” would be an understatement. The ever-\\nquotable Pop artist openly proclaimed his love for money, fame, and\\xa0...',\n",
       "    'og_type': 'article',\n",
       "    'title': \"Andy Warhol's Greatest Love: Cats\",\n",
       "    'type': None},\n",
       "   {'_links': {'permalink': {'href': 'https://www.artsy.net/artwork/andy-warhol-soup-can-vegetarian-vegetable'},\n",
       "     'self': {'href': 'https://api.artsy.net/api/artworks/andy-warhol-soup-can-vegetarian-vegetable'},\n",
       "     'thumbnail': {'href': 'https://encrypted-tbn2.gstatic.com/images?q=tbn:ANd9GcRMXcMBRG8ob7_S0uDWoO8sn3HJX9aL79pqxCD8Iuz53QcBR75yjVBWGDU'}},\n",
       "    'description': 'From Harn Museum of Art, Andy Warhol, Soup Can, Vegetarian Vegetable (1964)\\n, Silkscreen, 32 × 18 3/4 in.',\n",
       "    'og_type': 'artsyinc:artwork',\n",
       "    'title': 'Andy Warhol, Soup Can, Vegetarian Vegetable (1964)',\n",
       "    'type': 'Artwork'}]},\n",
       " '_links': {'next': {'href': 'https://api.artsy.net/api/search?offset=10&q=Andy+Warhol'},\n",
       "  'self': {'href': 'https://api.artsy.net/api/search?q=Andy+Warhol'}},\n",
       " 'offset': None,\n",
       " 'q': 'Andy Warhol',\n",
       " 'total_count': 14400}"
      ]
     },
     "execution_count": 13,
     "metadata": {},
     "output_type": "execute_result"
    }
   ],
   "source": [
    "response.json()"
   ]
  },
  {
   "cell_type": "code",
   "execution_count": null,
   "metadata": {
    "collapsed": true
   },
   "outputs": [],
   "source": []
  }
 ],
 "metadata": {
  "kernelspec": {
   "display_name": "Python 3",
   "language": "python",
   "name": "python3"
  },
  "language_info": {
   "codemirror_mode": {
    "name": "ipython",
    "version": 3
   },
   "file_extension": ".py",
   "mimetype": "text/x-python",
   "name": "python",
   "nbconvert_exporter": "python",
   "pygments_lexer": "ipython3",
   "version": "3.4.3"
  }
 },
 "nbformat": 4,
 "nbformat_minor": 0
}
