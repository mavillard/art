{
 "cells": [
  {
   "cell_type": "markdown",
   "metadata": {
    "collapsed": true
   },
   "source": [
    "# artsy"
   ]
  },
  {
   "cell_type": "code",
   "execution_count": 1,
   "metadata": {
    "collapsed": true
   },
   "outputs": [],
   "source": [
    "import json\n",
    "\n",
    "from geopy.geocoders import Nominatim\n",
    "from pymongo import MongoClient"
   ]
  },
  {
   "cell_type": "markdown",
   "metadata": {},
   "source": [
    "## setup"
   ]
  },
  {
   "cell_type": "markdown",
   "metadata": {},
   "source": [
    "### database"
   ]
  },
  {
   "cell_type": "code",
   "execution_count": 2,
   "metadata": {
    "collapsed": false
   },
   "outputs": [],
   "source": [
    "client = MongoClient()\n",
    "# client.drop_database('artsy')\n",
    "db = client.artsy"
   ]
  },
  {
   "cell_type": "code",
   "execution_count": 5,
   "metadata": {
    "collapsed": false
   },
   "outputs": [
    {
     "name": "stdout",
     "output_type": "stream",
     "text": [
      "{'updated_at': '2014-01-03T21:20:44+00:00', 'location': '', 'sortable_name': '03B Muren', 'birthday': '', 'hometown': '', '_links': {'artworks': {'href': 'https://api.artsy.net/api/artworks?artist_id=52c721e5b202a3edf1000072'}, 'genes': {'href': 'https://api.artsy.net/api/genes?artist_id=52c721e5b202a3edf1000072'}, 'permalink': {'href': 'http://www.artsy.net/artist/muren-03b'}, 'self': {'href': 'https://api.artsy.net/api/artists/52c721e5b202a3edf1000072'}, 'published_artworks': {'href': 'https://api.artsy.net/api/artworks?artist_id=52c721e5b202a3edf1000072&published=true'}, 'similar_artists': {'href': 'https://api.artsy.net/api/artists?similar_to_artist_id=52c721e5b202a3edf1000072'}, 'similar_contemporary_artists': {'href': 'https://api.artsy.net/api/artists?similar_to_artist_id=52c721e5b202a3edf1000072&similarity_type=contemporary'}}, 'nationality': '', 'gender': '', 'name': 'Muren 03B', '_id': '52c721e5b202a3edf1000072', 'created_at': '2014-01-03T20:47:33+00:00'}\n"
     ]
    }
   ],
   "source": [
    "for x in db.artists.find():\n",
    "    print(x)\n",
    "    break"
   ]
  },
  {
   "cell_type": "code",
   "execution_count": 7,
   "metadata": {
    "collapsed": false
   },
   "outputs": [
    {
     "ename": "AttributeError",
     "evalue": "'dict' object has no attribute '_id'",
     "output_type": "error",
     "traceback": [
      "\u001b[1;31m---------------------------------------------------------------------------\u001b[0m",
      "\u001b[1;31mAttributeError\u001b[0m                            Traceback (most recent call last)",
      "\u001b[1;32m<ipython-input-7-6d24abd404ac>\u001b[0m in \u001b[0;36m<module>\u001b[1;34m()\u001b[0m\n\u001b[1;32m----> 1\u001b[1;33m \u001b[0mx\u001b[0m\u001b[1;33m.\u001b[0m\u001b[0m_id\u001b[0m\u001b[1;33m\u001b[0m\u001b[0m\n\u001b[0m",
      "\u001b[1;31mAttributeError\u001b[0m: 'dict' object has no attribute '_id'"
     ]
    }
   ],
   "source": [
    "x._id"
   ]
  },
  {
   "cell_type": "markdown",
   "metadata": {},
   "source": [
    "### geolocator"
   ]
  },
  {
   "cell_type": "code",
   "execution_count": 26,
   "metadata": {
    "collapsed": true
   },
   "outputs": [],
   "source": [
    "geolocator = Nominatim()"
   ]
  },
  {
   "cell_type": "code",
   "execution_count": 32,
   "metadata": {
    "collapsed": false
   },
   "outputs": [
    {
     "data": {
      "text/plain": [
       "37.3886303"
      ]
     },
     "execution_count": 32,
     "metadata": {},
     "output_type": "execute_result"
    }
   ],
   "source": [
    "geolocator.geocode('Seville').latitude"
   ]
  },
  {
   "cell_type": "markdown",
   "metadata": {
    "collapsed": true
   },
   "source": [
    "## Data"
   ]
  },
  {
   "cell_type": "code",
   "execution_count": 40,
   "metadata": {
    "collapsed": false
   },
   "outputs": [
    {
     "data": {
      "text/plain": [
       "9497"
      ]
     },
     "execution_count": 40,
     "metadata": {},
     "output_type": "execute_result"
    }
   ],
   "source": [
    "data = []\n",
    "count = 0\n",
    "for artist in db.artists.find():\n",
    "    location = artist['location'] or artist['hometown']\n",
    "    if location:\n",
    "                artist_id = artist['_id']\n",
    "                artists_artworks = db.artists_artworks.find_one({'_id': artist_id})\n",
    "                if artists_artworks:\n",
    "                    artwork_ids = artists_artworks['data']\n",
    "                    for artwork_id in artwork_ids:\n",
    "                        artworks_genes = db.artworks_genes.find_one({'_id': artwork_id})\n",
    "                        count += 1\n",
    "count"
   ]
  },
  {
   "cell_type": "code",
   "execution_count": null,
   "metadata": {
    "collapsed": true
   },
   "outputs": [],
   "source": []
  },
  {
   "cell_type": "code",
   "execution_count": null,
   "metadata": {
    "collapsed": false
   },
   "outputs": [],
   "source": [
    "%%time\n",
    "db.geolocation.drop()\n",
    "total_count = db.artists.count()\n",
    "size = 1000\n",
    "chunks = [db.artists.find()[x:x+size] for x in range(0, total_count, size)]\n",
    "for chunk in chunks:\n",
    "    data = []\n",
    "    for artist in chunk:\n",
    "        location = artist['location'] or artist['hometown']\n",
    "        if location:\n",
    "            geo = geolocator.geocode(location)\n",
    "            if geo:\n",
    "                artist_id = artist['_id']\n",
    "                artists_artworks = db.artists_artworks.find_one({'_id': artist_id})\n",
    "                if artists_artworks:\n",
    "                    artwork_ids = artists_artworks['data']\n",
    "                    for artwork_id in artwork_ids:\n",
    "                        artworks_genes = db.artworks_genes.find_one({'_id': artwork_id})\n",
    "                        genes = []\n",
    "                        if artworks_genes:\n",
    "                            gene_ids = artworks_genes['data']\n",
    "                            for gene_id in gene_ids:\n",
    "                                gene = db.genes.find_one({'_id': gene_id})\n",
    "                                if gene:\n",
    "                                    genes.append(gene['name'])\n",
    "                        info = {\n",
    "                            '_id': artwork_id,\n",
    "                            'latitude': geo.latitude,\n",
    "                            'longitude': geo.longitude,\n",
    "                            'genes': genes,\n",
    "                        }\n",
    "                        data.append(info)\n",
    "    db.geolocation.insert_many(data)"
   ]
  },
  {
   "cell_type": "code",
   "execution_count": null,
   "metadata": {
    "collapsed": true
   },
   "outputs": [],
   "source": [
    "artworks = set()\n",
    "genes = set()\n",
    "relationships = set()\n",
    "for geo in db.geolocation.find():\n",
    "    artwork_node = "
   ]
  },
  {
   "cell_type": "code",
   "execution_count": null,
   "metadata": {
    "collapsed": true
   },
   "outputs": [],
   "source": []
  },
  {
   "cell_type": "code",
   "execution_count": null,
   "metadata": {
    "collapsed": true
   },
   "outputs": [],
   "source": []
  },
  {
   "cell_type": "code",
   "execution_count": null,
   "metadata": {
    "collapsed": true
   },
   "outputs": [],
   "source": []
  },
  {
   "cell_type": "code",
   "execution_count": null,
   "metadata": {
    "collapsed": true
   },
   "outputs": [],
   "source": []
  },
  {
   "cell_type": "code",
   "execution_count": null,
   "metadata": {
    "collapsed": true
   },
   "outputs": [],
   "source": []
  },
  {
   "cell_type": "code",
   "execution_count": null,
   "metadata": {
    "collapsed": true
   },
   "outputs": [],
   "source": []
  },
  {
   "cell_type": "code",
   "execution_count": null,
   "metadata": {
    "collapsed": true
   },
   "outputs": [],
   "source": []
  }
 ],
 "metadata": {
  "kernelspec": {
   "display_name": "Python 3",
   "language": "python",
   "name": "python3"
  },
  "language_info": {
   "codemirror_mode": {
    "name": "ipython",
    "version": 3
   },
   "file_extension": ".py",
   "mimetype": "text/x-python",
   "name": "python",
   "nbconvert_exporter": "python",
   "pygments_lexer": "ipython3",
   "version": "3.4.3"
  }
 },
 "nbformat": 4,
 "nbformat_minor": 0
}
