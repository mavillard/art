{
 "cells": [
  {
   "cell_type": "markdown",
   "metadata": {
    "collapsed": true
   },
   "source": [
    "# artsy"
   ]
  },
  {
   "cell_type": "code",
   "execution_count": 25,
   "metadata": {
    "collapsed": true
   },
   "outputs": [],
   "source": [
    "from geopy.geocoders import Nominatim\n",
    "from pymongo import MongoClient"
   ]
  },
  {
   "cell_type": "markdown",
   "metadata": {},
   "source": [
    "## setup"
   ]
  },
  {
   "cell_type": "markdown",
   "metadata": {},
   "source": [
    "### database"
   ]
  },
  {
   "cell_type": "code",
   "execution_count": 2,
   "metadata": {
    "collapsed": false
   },
   "outputs": [],
   "source": [
    "client = MongoClient()\n",
    "# client.drop_database('artsy')\n",
    "db = client.artsy"
   ]
  },
  {
   "cell_type": "markdown",
   "metadata": {},
   "source": [
    "### geolocator"
   ]
  },
  {
   "cell_type": "code",
   "execution_count": 26,
   "metadata": {
    "collapsed": true
   },
   "outputs": [],
   "source": [
    "geolocator = Nominatim()"
   ]
  },
  {
   "cell_type": "code",
   "execution_count": 32,
   "metadata": {
    "collapsed": false
   },
   "outputs": [
    {
     "data": {
      "text/plain": [
       "37.3886303"
      ]
     },
     "execution_count": 32,
     "metadata": {},
     "output_type": "execute_result"
    }
   ],
   "source": [
    "geolocator.geocode('Seville').latitude"
   ]
  },
  {
   "cell_type": "markdown",
   "metadata": {
    "collapsed": true
   },
   "source": [
    "## Data"
   ]
  },
  {
   "cell_type": "code",
   "execution_count": 34,
   "metadata": {
    "collapsed": false
   },
   "outputs": [
    {
     "ename": "GeocoderTimedOut",
     "evalue": "Service timed out",
     "output_type": "error",
     "traceback": [
      "\u001b[1;31m---------------------------------------------------------------------------\u001b[0m",
      "\u001b[1;31mtimeout\u001b[0m                                   Traceback (most recent call last)",
      "\u001b[1;32m/usr/lib/python3.4/urllib/request.py\u001b[0m in \u001b[0;36mdo_open\u001b[1;34m(self, http_class, req, **http_conn_args)\u001b[0m\n\u001b[0;32m   1181\u001b[0m             \u001b[1;32mtry\u001b[0m\u001b[1;33m:\u001b[0m\u001b[1;33m\u001b[0m\u001b[0m\n\u001b[1;32m-> 1182\u001b[1;33m                 \u001b[0mh\u001b[0m\u001b[1;33m.\u001b[0m\u001b[0mrequest\u001b[0m\u001b[1;33m(\u001b[0m\u001b[0mreq\u001b[0m\u001b[1;33m.\u001b[0m\u001b[0mget_method\u001b[0m\u001b[1;33m(\u001b[0m\u001b[1;33m)\u001b[0m\u001b[1;33m,\u001b[0m \u001b[0mreq\u001b[0m\u001b[1;33m.\u001b[0m\u001b[0mselector\u001b[0m\u001b[1;33m,\u001b[0m \u001b[0mreq\u001b[0m\u001b[1;33m.\u001b[0m\u001b[0mdata\u001b[0m\u001b[1;33m,\u001b[0m \u001b[0mheaders\u001b[0m\u001b[1;33m)\u001b[0m\u001b[1;33m\u001b[0m\u001b[0m\n\u001b[0m\u001b[0;32m   1183\u001b[0m             \u001b[1;32mexcept\u001b[0m \u001b[0mOSError\u001b[0m \u001b[1;32mas\u001b[0m \u001b[0merr\u001b[0m\u001b[1;33m:\u001b[0m \u001b[1;31m# timeout error\u001b[0m\u001b[1;33m\u001b[0m\u001b[0m\n",
      "\u001b[1;32m/usr/lib/python3.4/http/client.py\u001b[0m in \u001b[0;36mrequest\u001b[1;34m(self, method, url, body, headers)\u001b[0m\n\u001b[0;32m   1087\u001b[0m         \u001b[1;34m\"\"\"Send a complete request to the server.\"\"\"\u001b[0m\u001b[1;33m\u001b[0m\u001b[0m\n\u001b[1;32m-> 1088\u001b[1;33m         \u001b[0mself\u001b[0m\u001b[1;33m.\u001b[0m\u001b[0m_send_request\u001b[0m\u001b[1;33m(\u001b[0m\u001b[0mmethod\u001b[0m\u001b[1;33m,\u001b[0m \u001b[0murl\u001b[0m\u001b[1;33m,\u001b[0m \u001b[0mbody\u001b[0m\u001b[1;33m,\u001b[0m \u001b[0mheaders\u001b[0m\u001b[1;33m)\u001b[0m\u001b[1;33m\u001b[0m\u001b[0m\n\u001b[0m\u001b[0;32m   1089\u001b[0m \u001b[1;33m\u001b[0m\u001b[0m\n",
      "\u001b[1;32m/usr/lib/python3.4/http/client.py\u001b[0m in \u001b[0;36m_send_request\u001b[1;34m(self, method, url, body, headers)\u001b[0m\n\u001b[0;32m   1125\u001b[0m             \u001b[0mbody\u001b[0m \u001b[1;33m=\u001b[0m \u001b[0mbody\u001b[0m\u001b[1;33m.\u001b[0m\u001b[0mencode\u001b[0m\u001b[1;33m(\u001b[0m\u001b[1;34m'iso-8859-1'\u001b[0m\u001b[1;33m)\u001b[0m\u001b[1;33m\u001b[0m\u001b[0m\n\u001b[1;32m-> 1126\u001b[1;33m         \u001b[0mself\u001b[0m\u001b[1;33m.\u001b[0m\u001b[0mendheaders\u001b[0m\u001b[1;33m(\u001b[0m\u001b[0mbody\u001b[0m\u001b[1;33m)\u001b[0m\u001b[1;33m\u001b[0m\u001b[0m\n\u001b[0m\u001b[0;32m   1127\u001b[0m \u001b[1;33m\u001b[0m\u001b[0m\n",
      "\u001b[1;32m/usr/lib/python3.4/http/client.py\u001b[0m in \u001b[0;36mendheaders\u001b[1;34m(self, message_body)\u001b[0m\n\u001b[0;32m   1083\u001b[0m             \u001b[1;32mraise\u001b[0m \u001b[0mCannotSendHeader\u001b[0m\u001b[1;33m(\u001b[0m\u001b[1;33m)\u001b[0m\u001b[1;33m\u001b[0m\u001b[0m\n\u001b[1;32m-> 1084\u001b[1;33m         \u001b[0mself\u001b[0m\u001b[1;33m.\u001b[0m\u001b[0m_send_output\u001b[0m\u001b[1;33m(\u001b[0m\u001b[0mmessage_body\u001b[0m\u001b[1;33m)\u001b[0m\u001b[1;33m\u001b[0m\u001b[0m\n\u001b[0m\u001b[0;32m   1085\u001b[0m \u001b[1;33m\u001b[0m\u001b[0m\n",
      "\u001b[1;32m/usr/lib/python3.4/http/client.py\u001b[0m in \u001b[0;36m_send_output\u001b[1;34m(self, message_body)\u001b[0m\n\u001b[0;32m    921\u001b[0m             \u001b[0mmessage_body\u001b[0m \u001b[1;33m=\u001b[0m \u001b[1;32mNone\u001b[0m\u001b[1;33m\u001b[0m\u001b[0m\n\u001b[1;32m--> 922\u001b[1;33m         \u001b[0mself\u001b[0m\u001b[1;33m.\u001b[0m\u001b[0msend\u001b[0m\u001b[1;33m(\u001b[0m\u001b[0mmsg\u001b[0m\u001b[1;33m)\u001b[0m\u001b[1;33m\u001b[0m\u001b[0m\n\u001b[0m\u001b[0;32m    923\u001b[0m         \u001b[1;32mif\u001b[0m \u001b[0mmessage_body\u001b[0m \u001b[1;32mis\u001b[0m \u001b[1;32mnot\u001b[0m \u001b[1;32mNone\u001b[0m\u001b[1;33m:\u001b[0m\u001b[1;33m\u001b[0m\u001b[0m\n",
      "\u001b[1;32m/usr/lib/python3.4/http/client.py\u001b[0m in \u001b[0;36msend\u001b[1;34m(self, data)\u001b[0m\n\u001b[0;32m    856\u001b[0m             \u001b[1;32mif\u001b[0m \u001b[0mself\u001b[0m\u001b[1;33m.\u001b[0m\u001b[0mauto_open\u001b[0m\u001b[1;33m:\u001b[0m\u001b[1;33m\u001b[0m\u001b[0m\n\u001b[1;32m--> 857\u001b[1;33m                 \u001b[0mself\u001b[0m\u001b[1;33m.\u001b[0m\u001b[0mconnect\u001b[0m\u001b[1;33m(\u001b[0m\u001b[1;33m)\u001b[0m\u001b[1;33m\u001b[0m\u001b[0m\n\u001b[0m\u001b[0;32m    858\u001b[0m             \u001b[1;32melse\u001b[0m\u001b[1;33m:\u001b[0m\u001b[1;33m\u001b[0m\u001b[0m\n",
      "\u001b[1;32m/usr/lib/python3.4/http/client.py\u001b[0m in \u001b[0;36mconnect\u001b[1;34m(self)\u001b[0m\n\u001b[0;32m   1222\u001b[0m \u001b[1;33m\u001b[0m\u001b[0m\n\u001b[1;32m-> 1223\u001b[1;33m             \u001b[0msuper\u001b[0m\u001b[1;33m(\u001b[0m\u001b[1;33m)\u001b[0m\u001b[1;33m.\u001b[0m\u001b[0mconnect\u001b[0m\u001b[1;33m(\u001b[0m\u001b[1;33m)\u001b[0m\u001b[1;33m\u001b[0m\u001b[0m\n\u001b[0m\u001b[0;32m   1224\u001b[0m \u001b[1;33m\u001b[0m\u001b[0m\n",
      "\u001b[1;32m/usr/lib/python3.4/http/client.py\u001b[0m in \u001b[0;36mconnect\u001b[1;34m(self)\u001b[0m\n\u001b[0;32m    833\u001b[0m         self.sock = self._create_connection((self.host,self.port),\n\u001b[1;32m--> 834\u001b[1;33m                                             self.timeout, self.source_address)\n\u001b[0m\u001b[0;32m    835\u001b[0m \u001b[1;33m\u001b[0m\u001b[0m\n",
      "\u001b[1;32m/usr/lib/python3.4/socket.py\u001b[0m in \u001b[0;36mcreate_connection\u001b[1;34m(address, timeout, source_address)\u001b[0m\n\u001b[0;32m    511\u001b[0m     \u001b[1;32mif\u001b[0m \u001b[0merr\u001b[0m \u001b[1;32mis\u001b[0m \u001b[1;32mnot\u001b[0m \u001b[1;32mNone\u001b[0m\u001b[1;33m:\u001b[0m\u001b[1;33m\u001b[0m\u001b[0m\n\u001b[1;32m--> 512\u001b[1;33m         \u001b[1;32mraise\u001b[0m \u001b[0merr\u001b[0m\u001b[1;33m\u001b[0m\u001b[0m\n\u001b[0m\u001b[0;32m    513\u001b[0m     \u001b[1;32melse\u001b[0m\u001b[1;33m:\u001b[0m\u001b[1;33m\u001b[0m\u001b[0m\n",
      "\u001b[1;32m/usr/lib/python3.4/socket.py\u001b[0m in \u001b[0;36mcreate_connection\u001b[1;34m(address, timeout, source_address)\u001b[0m\n\u001b[0;32m    502\u001b[0m                 \u001b[0msock\u001b[0m\u001b[1;33m.\u001b[0m\u001b[0mbind\u001b[0m\u001b[1;33m(\u001b[0m\u001b[0msource_address\u001b[0m\u001b[1;33m)\u001b[0m\u001b[1;33m\u001b[0m\u001b[0m\n\u001b[1;32m--> 503\u001b[1;33m             \u001b[0msock\u001b[0m\u001b[1;33m.\u001b[0m\u001b[0mconnect\u001b[0m\u001b[1;33m(\u001b[0m\u001b[0msa\u001b[0m\u001b[1;33m)\u001b[0m\u001b[1;33m\u001b[0m\u001b[0m\n\u001b[0m\u001b[0;32m    504\u001b[0m             \u001b[1;32mreturn\u001b[0m \u001b[0msock\u001b[0m\u001b[1;33m\u001b[0m\u001b[0m\n",
      "\u001b[1;31mtimeout\u001b[0m: timed out",
      "\nDuring handling of the above exception, another exception occurred:\n",
      "\u001b[1;31mURLError\u001b[0m                                  Traceback (most recent call last)",
      "\u001b[1;32m/home/antonio/virtualenvs/art/lib/python3.4/site-packages/geopy/geocoders/base.py\u001b[0m in \u001b[0;36m_call_geocoder\u001b[1;34m(self, url, timeout, raw, requester, deserializer, **kwargs)\u001b[0m\n\u001b[0;32m    142\u001b[0m         \u001b[1;32mtry\u001b[0m\u001b[1;33m:\u001b[0m\u001b[1;33m\u001b[0m\u001b[0m\n\u001b[1;32m--> 143\u001b[1;33m             \u001b[0mpage\u001b[0m \u001b[1;33m=\u001b[0m \u001b[0mrequester\u001b[0m\u001b[1;33m(\u001b[0m\u001b[0mreq\u001b[0m\u001b[1;33m,\u001b[0m \u001b[0mtimeout\u001b[0m\u001b[1;33m=\u001b[0m\u001b[1;33m(\u001b[0m\u001b[0mtimeout\u001b[0m \u001b[1;32mor\u001b[0m \u001b[0mself\u001b[0m\u001b[1;33m.\u001b[0m\u001b[0mtimeout\u001b[0m\u001b[1;33m)\u001b[0m\u001b[1;33m,\u001b[0m \u001b[1;33m**\u001b[0m\u001b[0mkwargs\u001b[0m\u001b[1;33m)\u001b[0m\u001b[1;33m\u001b[0m\u001b[0m\n\u001b[0m\u001b[0;32m    144\u001b[0m         \u001b[1;32mexcept\u001b[0m \u001b[0mException\u001b[0m \u001b[1;32mas\u001b[0m \u001b[0merror\u001b[0m\u001b[1;33m:\u001b[0m \u001b[1;31m# pylint: disable=W0703\u001b[0m\u001b[1;33m\u001b[0m\u001b[0m\n",
      "\u001b[1;32m/usr/lib/python3.4/urllib/request.py\u001b[0m in \u001b[0;36murlopen\u001b[1;34m(url, data, timeout, cafile, capath, cadefault, context)\u001b[0m\n\u001b[0;32m    160\u001b[0m         \u001b[0mopener\u001b[0m \u001b[1;33m=\u001b[0m \u001b[0m_opener\u001b[0m\u001b[1;33m\u001b[0m\u001b[0m\n\u001b[1;32m--> 161\u001b[1;33m     \u001b[1;32mreturn\u001b[0m \u001b[0mopener\u001b[0m\u001b[1;33m.\u001b[0m\u001b[0mopen\u001b[0m\u001b[1;33m(\u001b[0m\u001b[0murl\u001b[0m\u001b[1;33m,\u001b[0m \u001b[0mdata\u001b[0m\u001b[1;33m,\u001b[0m \u001b[0mtimeout\u001b[0m\u001b[1;33m)\u001b[0m\u001b[1;33m\u001b[0m\u001b[0m\n\u001b[0m\u001b[0;32m    162\u001b[0m \u001b[1;33m\u001b[0m\u001b[0m\n",
      "\u001b[1;32m/usr/lib/python3.4/urllib/request.py\u001b[0m in \u001b[0;36mopen\u001b[1;34m(self, fullurl, data, timeout)\u001b[0m\n\u001b[0;32m    462\u001b[0m \u001b[1;33m\u001b[0m\u001b[0m\n\u001b[1;32m--> 463\u001b[1;33m         \u001b[0mresponse\u001b[0m \u001b[1;33m=\u001b[0m \u001b[0mself\u001b[0m\u001b[1;33m.\u001b[0m\u001b[0m_open\u001b[0m\u001b[1;33m(\u001b[0m\u001b[0mreq\u001b[0m\u001b[1;33m,\u001b[0m \u001b[0mdata\u001b[0m\u001b[1;33m)\u001b[0m\u001b[1;33m\u001b[0m\u001b[0m\n\u001b[0m\u001b[0;32m    464\u001b[0m \u001b[1;33m\u001b[0m\u001b[0m\n",
      "\u001b[1;32m/usr/lib/python3.4/urllib/request.py\u001b[0m in \u001b[0;36m_open\u001b[1;34m(self, req, data)\u001b[0m\n\u001b[0;32m    480\u001b[0m         result = self._call_chain(self.handle_open, protocol, protocol +\n\u001b[1;32m--> 481\u001b[1;33m                                   '_open', req)\n\u001b[0m\u001b[0;32m    482\u001b[0m         \u001b[1;32mif\u001b[0m \u001b[0mresult\u001b[0m\u001b[1;33m:\u001b[0m\u001b[1;33m\u001b[0m\u001b[0m\n",
      "\u001b[1;32m/usr/lib/python3.4/urllib/request.py\u001b[0m in \u001b[0;36m_call_chain\u001b[1;34m(self, chain, kind, meth_name, *args)\u001b[0m\n\u001b[0;32m    440\u001b[0m             \u001b[0mfunc\u001b[0m \u001b[1;33m=\u001b[0m \u001b[0mgetattr\u001b[0m\u001b[1;33m(\u001b[0m\u001b[0mhandler\u001b[0m\u001b[1;33m,\u001b[0m \u001b[0mmeth_name\u001b[0m\u001b[1;33m)\u001b[0m\u001b[1;33m\u001b[0m\u001b[0m\n\u001b[1;32m--> 441\u001b[1;33m             \u001b[0mresult\u001b[0m \u001b[1;33m=\u001b[0m \u001b[0mfunc\u001b[0m\u001b[1;33m(\u001b[0m\u001b[1;33m*\u001b[0m\u001b[0margs\u001b[0m\u001b[1;33m)\u001b[0m\u001b[1;33m\u001b[0m\u001b[0m\n\u001b[0m\u001b[0;32m    442\u001b[0m             \u001b[1;32mif\u001b[0m \u001b[0mresult\u001b[0m \u001b[1;32mis\u001b[0m \u001b[1;32mnot\u001b[0m \u001b[1;32mNone\u001b[0m\u001b[1;33m:\u001b[0m\u001b[1;33m\u001b[0m\u001b[0m\n",
      "\u001b[1;32m/usr/lib/python3.4/urllib/request.py\u001b[0m in \u001b[0;36mhttps_open\u001b[1;34m(self, req)\u001b[0m\n\u001b[0;32m   1224\u001b[0m             return self.do_open(http.client.HTTPSConnection, req,\n\u001b[1;32m-> 1225\u001b[1;33m                 context=self._context, check_hostname=self._check_hostname)\n\u001b[0m\u001b[0;32m   1226\u001b[0m \u001b[1;33m\u001b[0m\u001b[0m\n",
      "\u001b[1;32m/usr/lib/python3.4/urllib/request.py\u001b[0m in \u001b[0;36mdo_open\u001b[1;34m(self, http_class, req, **http_conn_args)\u001b[0m\n\u001b[0;32m   1183\u001b[0m             \u001b[1;32mexcept\u001b[0m \u001b[0mOSError\u001b[0m \u001b[1;32mas\u001b[0m \u001b[0merr\u001b[0m\u001b[1;33m:\u001b[0m \u001b[1;31m# timeout error\u001b[0m\u001b[1;33m\u001b[0m\u001b[0m\n\u001b[1;32m-> 1184\u001b[1;33m                 \u001b[1;32mraise\u001b[0m \u001b[0mURLError\u001b[0m\u001b[1;33m(\u001b[0m\u001b[0merr\u001b[0m\u001b[1;33m)\u001b[0m\u001b[1;33m\u001b[0m\u001b[0m\n\u001b[0m\u001b[0;32m   1185\u001b[0m             \u001b[0mr\u001b[0m \u001b[1;33m=\u001b[0m \u001b[0mh\u001b[0m\u001b[1;33m.\u001b[0m\u001b[0mgetresponse\u001b[0m\u001b[1;33m(\u001b[0m\u001b[1;33m)\u001b[0m\u001b[1;33m\u001b[0m\u001b[0m\n",
      "\u001b[1;31mURLError\u001b[0m: <urlopen error timed out>",
      "\nDuring handling of the above exception, another exception occurred:\n",
      "\u001b[1;31mGeocoderTimedOut\u001b[0m                          Traceback (most recent call last)",
      "\u001b[1;32m<ipython-input-34-2001e580bf6b>\u001b[0m in \u001b[0;36m<module>\u001b[1;34m()\u001b[0m\n\u001b[1;32m----> 1\u001b[1;33m \u001b[0mget_ipython\u001b[0m\u001b[1;33m(\u001b[0m\u001b[1;33m)\u001b[0m\u001b[1;33m.\u001b[0m\u001b[0mrun_cell_magic\u001b[0m\u001b[1;33m(\u001b[0m\u001b[1;34m'time'\u001b[0m\u001b[1;33m,\u001b[0m \u001b[1;34m''\u001b[0m\u001b[1;33m,\u001b[0m \u001b[1;34m\"db.geolocation.drop()\\ndata = []\\nfor artist in db.artists.find():\\n    location = artist['location'] or artist['hometown']\\n    if location:\\n        geo = geolocator.geocode(location)\\n        if geo:\\n            artist_id = artist['_id']\\n            artists_artworks = db.artists_artworks.find_one({'_id': artist_id})\\n            if artists_artworks:\\n                artwork_ids = artists_artworks['data']\\n                for artwork_id in artwork_ids:\\n                    artworks_genes = db.artworks_genes.find_one({'_id': artwork_id})\\n                    genes = []\\n                    if artworks_genes:\\n                        gene_ids = artworks_genes['data']\\n                        for gene_id in gene_ids:\\n                            gene = db.genes.find_one({'_id': gene_id})\\n                            if gene:\\n                                genes.append(gene['name'])\\n                    info = {\\n                        '_id': artwork_id,\\n                        'latitude': geo.latitude,\\n                        'longitude': geo.longitude,\\n                        'genes': genes,\\n                    }\\n                    data.append(info)\\ndb.geolocation.insert_many(data)\"\u001b[0m\u001b[1;33m)\u001b[0m\u001b[1;33m\u001b[0m\u001b[0m\n\u001b[0m",
      "\u001b[1;32m/home/antonio/virtualenvs/art/lib/python3.4/site-packages/IPython/core/interactiveshell.py\u001b[0m in \u001b[0;36mrun_cell_magic\u001b[1;34m(self, magic_name, line, cell)\u001b[0m\n\u001b[0;32m   2291\u001b[0m             \u001b[0mmagic_arg_s\u001b[0m \u001b[1;33m=\u001b[0m \u001b[0mself\u001b[0m\u001b[1;33m.\u001b[0m\u001b[0mvar_expand\u001b[0m\u001b[1;33m(\u001b[0m\u001b[0mline\u001b[0m\u001b[1;33m,\u001b[0m \u001b[0mstack_depth\u001b[0m\u001b[1;33m)\u001b[0m\u001b[1;33m\u001b[0m\u001b[0m\n\u001b[0;32m   2292\u001b[0m             \u001b[1;32mwith\u001b[0m \u001b[0mself\u001b[0m\u001b[1;33m.\u001b[0m\u001b[0mbuiltin_trap\u001b[0m\u001b[1;33m:\u001b[0m\u001b[1;33m\u001b[0m\u001b[0m\n\u001b[1;32m-> 2293\u001b[1;33m                 \u001b[0mresult\u001b[0m \u001b[1;33m=\u001b[0m \u001b[0mfn\u001b[0m\u001b[1;33m(\u001b[0m\u001b[0mmagic_arg_s\u001b[0m\u001b[1;33m,\u001b[0m \u001b[0mcell\u001b[0m\u001b[1;33m)\u001b[0m\u001b[1;33m\u001b[0m\u001b[0m\n\u001b[0m\u001b[0;32m   2294\u001b[0m             \u001b[1;32mreturn\u001b[0m \u001b[0mresult\u001b[0m\u001b[1;33m\u001b[0m\u001b[0m\n\u001b[0;32m   2295\u001b[0m \u001b[1;33m\u001b[0m\u001b[0m\n",
      "\u001b[1;32m<decorator-gen-60>\u001b[0m in \u001b[0;36mtime\u001b[1;34m(self, line, cell, local_ns)\u001b[0m\n",
      "\u001b[1;32m/home/antonio/virtualenvs/art/lib/python3.4/site-packages/IPython/core/magic.py\u001b[0m in \u001b[0;36m<lambda>\u001b[1;34m(f, *a, **k)\u001b[0m\n\u001b[0;32m    191\u001b[0m     \u001b[1;31m# but it's overkill for just that one bit of state.\u001b[0m\u001b[1;33m\u001b[0m\u001b[1;33m\u001b[0m\u001b[0m\n\u001b[0;32m    192\u001b[0m     \u001b[1;32mdef\u001b[0m \u001b[0mmagic_deco\u001b[0m\u001b[1;33m(\u001b[0m\u001b[0marg\u001b[0m\u001b[1;33m)\u001b[0m\u001b[1;33m:\u001b[0m\u001b[1;33m\u001b[0m\u001b[0m\n\u001b[1;32m--> 193\u001b[1;33m         \u001b[0mcall\u001b[0m \u001b[1;33m=\u001b[0m \u001b[1;32mlambda\u001b[0m \u001b[0mf\u001b[0m\u001b[1;33m,\u001b[0m \u001b[1;33m*\u001b[0m\u001b[0ma\u001b[0m\u001b[1;33m,\u001b[0m \u001b[1;33m**\u001b[0m\u001b[0mk\u001b[0m\u001b[1;33m:\u001b[0m \u001b[0mf\u001b[0m\u001b[1;33m(\u001b[0m\u001b[1;33m*\u001b[0m\u001b[0ma\u001b[0m\u001b[1;33m,\u001b[0m \u001b[1;33m**\u001b[0m\u001b[0mk\u001b[0m\u001b[1;33m)\u001b[0m\u001b[1;33m\u001b[0m\u001b[0m\n\u001b[0m\u001b[0;32m    194\u001b[0m \u001b[1;33m\u001b[0m\u001b[0m\n\u001b[0;32m    195\u001b[0m         \u001b[1;32mif\u001b[0m \u001b[0mcallable\u001b[0m\u001b[1;33m(\u001b[0m\u001b[0marg\u001b[0m\u001b[1;33m)\u001b[0m\u001b[1;33m:\u001b[0m\u001b[1;33m\u001b[0m\u001b[0m\n",
      "\u001b[1;32m/home/antonio/virtualenvs/art/lib/python3.4/site-packages/IPython/core/magics/execution.py\u001b[0m in \u001b[0;36mtime\u001b[1;34m(self, line, cell, local_ns)\u001b[0m\n\u001b[0;32m   1165\u001b[0m         \u001b[1;32melse\u001b[0m\u001b[1;33m:\u001b[0m\u001b[1;33m\u001b[0m\u001b[0m\n\u001b[0;32m   1166\u001b[0m             \u001b[0mst\u001b[0m \u001b[1;33m=\u001b[0m \u001b[0mclock2\u001b[0m\u001b[1;33m(\u001b[0m\u001b[1;33m)\u001b[0m\u001b[1;33m\u001b[0m\u001b[0m\n\u001b[1;32m-> 1167\u001b[1;33m             \u001b[0mexec\u001b[0m\u001b[1;33m(\u001b[0m\u001b[0mcode\u001b[0m\u001b[1;33m,\u001b[0m \u001b[0mglob\u001b[0m\u001b[1;33m,\u001b[0m \u001b[0mlocal_ns\u001b[0m\u001b[1;33m)\u001b[0m\u001b[1;33m\u001b[0m\u001b[0m\n\u001b[0m\u001b[0;32m   1168\u001b[0m             \u001b[0mend\u001b[0m \u001b[1;33m=\u001b[0m \u001b[0mclock2\u001b[0m\u001b[1;33m(\u001b[0m\u001b[1;33m)\u001b[0m\u001b[1;33m\u001b[0m\u001b[0m\n\u001b[0;32m   1169\u001b[0m             \u001b[0mout\u001b[0m \u001b[1;33m=\u001b[0m \u001b[1;32mNone\u001b[0m\u001b[1;33m\u001b[0m\u001b[0m\n",
      "\u001b[1;32m<timed exec>\u001b[0m in \u001b[0;36m<module>\u001b[1;34m()\u001b[0m\n",
      "\u001b[1;32m/home/antonio/virtualenvs/art/lib/python3.4/site-packages/geopy/geocoders/osm.py\u001b[0m in \u001b[0;36mgeocode\u001b[1;34m(self, query, exactly_one, timeout, addressdetails, language, geometry)\u001b[0m\n\u001b[0;32m    191\u001b[0m         \u001b[0mlogger\u001b[0m\u001b[1;33m.\u001b[0m\u001b[0mdebug\u001b[0m\u001b[1;33m(\u001b[0m\u001b[1;34m\"%s.geocode: %s\"\u001b[0m\u001b[1;33m,\u001b[0m \u001b[0mself\u001b[0m\u001b[1;33m.\u001b[0m\u001b[0m__class__\u001b[0m\u001b[1;33m.\u001b[0m\u001b[0m__name__\u001b[0m\u001b[1;33m,\u001b[0m \u001b[0murl\u001b[0m\u001b[1;33m)\u001b[0m\u001b[1;33m\u001b[0m\u001b[0m\n\u001b[0;32m    192\u001b[0m         return self._parse_json(\n\u001b[1;32m--> 193\u001b[1;33m             \u001b[0mself\u001b[0m\u001b[1;33m.\u001b[0m\u001b[0m_call_geocoder\u001b[0m\u001b[1;33m(\u001b[0m\u001b[0murl\u001b[0m\u001b[1;33m,\u001b[0m \u001b[0mtimeout\u001b[0m\u001b[1;33m=\u001b[0m\u001b[0mtimeout\u001b[0m\u001b[1;33m)\u001b[0m\u001b[1;33m,\u001b[0m \u001b[0mexactly_one\u001b[0m\u001b[1;33m\u001b[0m\u001b[0m\n\u001b[0m\u001b[0;32m    194\u001b[0m         )\n\u001b[0;32m    195\u001b[0m \u001b[1;33m\u001b[0m\u001b[0m\n",
      "\u001b[1;32m/home/antonio/virtualenvs/art/lib/python3.4/site-packages/geopy/geocoders/base.py\u001b[0m in \u001b[0;36m_call_geocoder\u001b[1;34m(self, url, timeout, raw, requester, deserializer, **kwargs)\u001b[0m\n\u001b[0;32m    161\u001b[0m             \u001b[1;32melif\u001b[0m \u001b[0misinstance\u001b[0m\u001b[1;33m(\u001b[0m\u001b[0merror\u001b[0m\u001b[1;33m,\u001b[0m \u001b[0mURLError\u001b[0m\u001b[1;33m)\u001b[0m\u001b[1;33m:\u001b[0m\u001b[1;33m\u001b[0m\u001b[0m\n\u001b[0;32m    162\u001b[0m                 \u001b[1;32mif\u001b[0m \u001b[1;34m\"timed out\"\u001b[0m \u001b[1;32min\u001b[0m \u001b[0mmessage\u001b[0m\u001b[1;33m:\u001b[0m\u001b[1;33m\u001b[0m\u001b[0m\n\u001b[1;32m--> 163\u001b[1;33m                     \u001b[1;32mraise\u001b[0m \u001b[0mGeocoderTimedOut\u001b[0m\u001b[1;33m(\u001b[0m\u001b[1;34m'Service timed out'\u001b[0m\u001b[1;33m)\u001b[0m\u001b[1;33m\u001b[0m\u001b[0m\n\u001b[0m\u001b[0;32m    164\u001b[0m                 \u001b[1;32melif\u001b[0m \u001b[1;34m\"unreachable\"\u001b[0m \u001b[1;32min\u001b[0m \u001b[0mmessage\u001b[0m\u001b[1;33m:\u001b[0m\u001b[1;33m\u001b[0m\u001b[0m\n\u001b[0;32m    165\u001b[0m                     \u001b[1;32mraise\u001b[0m \u001b[0mGeocoderUnavailable\u001b[0m\u001b[1;33m(\u001b[0m\u001b[1;34m'Service not available'\u001b[0m\u001b[1;33m)\u001b[0m\u001b[1;33m\u001b[0m\u001b[0m\n",
      "\u001b[1;31mGeocoderTimedOut\u001b[0m: Service timed out"
     ]
    }
   ],
   "source": [
    "%%time\n",
    "db.geolocation.drop()\n",
    "data = []\n",
    "for artist in db.artists.find():\n",
    "    location = artist['location'] or artist['hometown']\n",
    "    if location:\n",
    "        try:\n",
    "            geo = geolocator.geocode(location)\n",
    "            if geo:\n",
    "                artist_id = artist['_id']\n",
    "                artists_artworks = db.artists_artworks.find_one({'_id': artist_id})\n",
    "                if artists_artworks:\n",
    "                    artwork_ids = artists_artworks['data']\n",
    "                    for artwork_id in artwork_ids:\n",
    "                        artworks_genes = db.artworks_genes.find_one({'_id': artwork_id})\n",
    "                        genes = []\n",
    "                        if artworks_genes:\n",
    "                            gene_ids = artworks_genes['data']\n",
    "                            for gene_id in gene_ids:\n",
    "                                gene = db.genes.find_one({'_id': gene_id})\n",
    "                                if gene:\n",
    "                                    genes.append(gene['name'])\n",
    "                        info = {\n",
    "                            '_id': artwork_id,\n",
    "                            'latitude': geo.latitude,\n",
    "                            'longitude': geo.longitude,\n",
    "                            'genes': genes,\n",
    "                        }\n",
    "                        data.append(info)\n",
    "        except Exception as e:\n",
    "            print(e)\n",
    "            print(location)\n",
    "            print()\n",
    "db.geolocation.insert_many(data)"
   ]
  },
  {
   "cell_type": "code",
   "execution_count": 5,
   "metadata": {
    "collapsed": false
   },
   "outputs": [
    {
     "data": {
      "text/plain": [
       "{'_id': '52c721e5b202a3edf1000072',\n",
       " '_links': {'artworks': {'href': 'https://api.artsy.net/api/artworks?artist_id=52c721e5b202a3edf1000072'},\n",
       "  'genes': {'href': 'https://api.artsy.net/api/genes?artist_id=52c721e5b202a3edf1000072'},\n",
       "  'permalink': {'href': 'http://www.artsy.net/artist/muren-03b'},\n",
       "  'published_artworks': {'href': 'https://api.artsy.net/api/artworks?artist_id=52c721e5b202a3edf1000072&published=true'},\n",
       "  'self': {'href': 'https://api.artsy.net/api/artists/52c721e5b202a3edf1000072'},\n",
       "  'similar_artists': {'href': 'https://api.artsy.net/api/artists?similar_to_artist_id=52c721e5b202a3edf1000072'},\n",
       "  'similar_contemporary_artists': {'href': 'https://api.artsy.net/api/artists?similar_to_artist_id=52c721e5b202a3edf1000072&similarity_type=contemporary'}},\n",
       " 'birthday': '',\n",
       " 'created_at': '2014-01-03T20:47:33+00:00',\n",
       " 'gender': '',\n",
       " 'hometown': '',\n",
       " 'location': '',\n",
       " 'name': 'Muren 03B',\n",
       " 'nationality': '',\n",
       " 'sortable_name': '03B Muren',\n",
       " 'updated_at': '2014-01-03T21:20:44+00:00'}"
      ]
     },
     "execution_count": 5,
     "metadata": {},
     "output_type": "execute_result"
    }
   ],
   "source": [
    "x"
   ]
  },
  {
   "cell_type": "markdown",
   "metadata": {},
   "source": [
    "### shows"
   ]
  },
  {
   "cell_type": "markdown",
   "metadata": {},
   "source": [
    "#### artworks"
   ]
  },
  {
   "cell_type": "code",
   "execution_count": 16,
   "metadata": {
    "collapsed": false,
    "scrolled": false
   },
   "outputs": [
    {
     "name": "stdout",
     "output_type": "stream",
     "text": [
      "Processing shows' artworks...\n",
      "790 shows processed.\n",
      "1580 shows processed.\n",
      "2370 shows processed.\n",
      "3160 shows processed.\n",
      "3950 shows processed.\n",
      "4740 shows processed.\n",
      "5530 shows processed.\n",
      "6320 shows processed.\n",
      "7110 shows processed.\n",
      "7900 shows processed.\n"
     ]
    }
   ],
   "source": [
    "# exhibits\n",
    "get_info2('shows', 'artworks', 'artworks', 'shows_artworks') # subject, relationship, obj, collection"
   ]
  },
  {
   "cell_type": "code",
   "execution_count": null,
   "metadata": {
    "collapsed": true
   },
   "outputs": [],
   "source": []
  },
  {
   "cell_type": "code",
   "execution_count": null,
   "metadata": {
    "collapsed": true
   },
   "outputs": [],
   "source": []
  },
  {
   "cell_type": "code",
   "execution_count": null,
   "metadata": {
    "collapsed": true
   },
   "outputs": [],
   "source": []
  },
  {
   "cell_type": "code",
   "execution_count": null,
   "metadata": {
    "collapsed": true
   },
   "outputs": [],
   "source": []
  },
  {
   "cell_type": "code",
   "execution_count": 3,
   "metadata": {
    "collapsed": false
   },
   "outputs": [],
   "source": [
    "qqq={\"total_count\":None,\"_links\":{\"self\":{\"href\":\"https://api.artsy.net/api/genes?artwork_id=516dfb9ab31e2b2270000c45\"},\"next\":{\"href\":\"https://api.artsy.net/api/genes?artwork_id=516dfb9ab31e2b2270000c45&cursor=Late+19th+Century%3A51b662538b3b8190570001e2\"}},\"_embedded\":{\"genes\":[{\"id\":\"51b662628b3b8149ed0002e8\",\"created_at\":\"2013-06-10T23:33:54+00:00\",\"updated_at\":\"2016-01-04T09:20:56+00:00\",\"name\":\"19th Century\",\"description\":\"In the West, the 19th century witnessed major social and technological upheavals, spurred in large part by the Industrial Revolution and correlating trends: urbanization, frequently poor working and living conditions, and territorial expansion by emerging global superpowers. In this period, artistic patronage shifted increasingly towards the capitalist bourgeoisie and national academies, with a rising profile for art dealers and critics. The hub of Western artistic activity was Paris, and the French Academy and Salon represented the establishment, favoring [Neoclassicism](/gene/neoclassicism) at the beginning of the century and later [Romanticism](/gene/romanticism). Social and political commentary appeared in the history paintings of [ThÃ©odore GÃ©ricault](/artist/theodore-gericault) and [Francisco Goya](/artist/francisco-jose-de-goya-y-lucientes-1) as well as the Social Realist works of [Gustave Courbet](/artist/gustave-courbet) and [HonorÃ© Daumier](/artist/honore-daumier). Broad defiance of the Salon system swelled in the second half of the century with provocative works by the likes of [Ã‰douard Manet](/artist/edouard-manet), the new styles of [Impressionism](/gene/impressionism) and [Post-Impressionism](/gene/post-impressionism), and the birth of the concepts of modernism and the avant-garde. Japan's opening to global trade and the subsequent arrival of Japanese objects in Europe were a significant influence. At the same time, photography emerged as a means of documenting social realities and an art form accessible to non-elites. Architecture was characterized by the use of new industrial materials and techniques, on the the one hand, and the revival of Classical and Gothic styles, on the other. In design and decorative arts, the [Arts and Crafts Movement](/gene/arts-and-crafts-movement) and [Art Nouveau](/gene/art-nouveau) both responded to industrialization and mass production through their emphasis on handmade craft and organic forms.\\n\",\"_links\":{\"curies\":[{\"name\":\"image\",\"href\":\"https://d32dm0rphc51dk.cloudfront.net/2uZKVsIf1Ajxlz7KXhIa4w/{rel}\",\"templated\":True}],\"thumbnail\":{\"href\":\"https://d32dm0rphc51dk.cloudfront.net/2uZKVsIf1Ajxlz7KXhIa4w/big_and_tall.jpg\"},\"image:self\":{\"href\":\"{?image_version}.jpg\",\"templated\":True},\"self\":{\"href\":\"https://api.artsy.net/api/genes/51b662628b3b8149ed0002e8\"},\"permalink\":{\"href\":\"http://www.artsy.net/gene/19th-century\"},\"artworks\":{\"href\":\"https://api.artsy.net/api/artworks?gene_id=51b662628b3b8149ed0002e8\"},\"published_artworks\":{\"href\":\"https://api.artsy.net/api/artworks?artist_id=51b662628b3b8149ed0002e8&published=True\"},\"artists\":{\"href\":\"https://api.artsy.net/api/artists?gene_id=51b662628b3b8149ed0002e8\"}},\"image_versions\":[\"big_and_tall\",\"square500\",\"tall\",\"thumb\"]},{\"id\":\"51b662538b3b8190570001e2\",\"created_at\":\"2013-06-10T23:33:39+00:00\",\"updated_at\":\"2016-01-04T09:21:03+00:00\",\"name\":\"Late 19th Century\",\"description\":\"A general category for works created between 1870 and 1900. In Western Art, particularly in France, this period witnessed an incredible amount of artistic activity. [Impressionism](/gene/impressionism)â€”one of the most important movements in the history of Modern Artâ€”was arguably the most influential movement of the era, as it sought to capture the transient aspects of visual reality, especially light and color. Also significant during this time were the [Post-Impressionist](/gene/post-impressionism) and [Symbolist](/gene/symbolism) movements.\",\"_links\":{\"curies\":[{\"name\":\"image\",\"href\":\"https://d32dm0rphc51dk.cloudfront.net/OKL_2L_oP18fcCd3cyEcBQ/{rel}\",\"templated\":True}],\"thumbnail\":{\"href\":\"https://d32dm0rphc51dk.cloudfront.net/OKL_2L_oP18fcCd3cyEcBQ/big_and_tall.jpg\"},\"image:self\":{\"href\":\"{?image_version}.jpg\",\"templated\":True},\"self\":{\"href\":\"https://api.artsy.net/api/genes/51b662538b3b8190570001e2\"},\"permalink\":{\"href\":\"http://www.artsy.net/gene/late-19th-century\"},\"artworks\":{\"href\":\"https://api.artsy.net/api/artworks?gene_id=51b662538b3b8190570001e2\"},\"published_artworks\":{\"href\":\"https://api.artsy.net/api/artworks?artist_id=51b662538b3b8190570001e2&published=True\"},\"artists\":{\"href\":\"https://api.artsy.net/api/artists?gene_id=51b662538b3b8190570001e2\"}},\"image_versions\":[\"big_and_tall\",\"square500\",\"tall\",\"thumb\"]}]}}"
   ]
  },
  {
   "cell_type": "code",
   "execution_count": 7,
   "metadata": {
    "collapsed": false
   },
   "outputs": [
    {
     "data": {
      "text/plain": [
       "2"
      ]
     },
     "execution_count": 7,
     "metadata": {},
     "output_type": "execute_result"
    }
   ],
   "source": [
    "len(qqq['_embedded']['genes'])"
   ]
  },
  {
   "cell_type": "code",
   "execution_count": null,
   "metadata": {
    "collapsed": true
   },
   "outputs": [],
   "source": []
  },
  {
   "cell_type": "code",
   "execution_count": null,
   "metadata": {
    "collapsed": true
   },
   "outputs": [],
   "source": []
  },
  {
   "cell_type": "code",
   "execution_count": null,
   "metadata": {
    "collapsed": true
   },
   "outputs": [],
   "source": []
  },
  {
   "cell_type": "markdown",
   "metadata": {},
   "source": [
    "### similar artworks"
   ]
  },
  {
   "cell_type": "code",
   "execution_count": 12,
   "metadata": {
    "collapsed": false,
    "scrolled": false
   },
   "outputs": [
    {
     "ename": "SyntaxError",
     "evalue": "invalid syntax (<ipython-input-12-4ced32a4c507>, line 1)",
     "output_type": "error",
     "traceback": [
      "\u001b[1;36m  File \u001b[1;32m\"<ipython-input-12-4ced32a4c507>\"\u001b[1;36m, line \u001b[1;32m1\u001b[0m\n\u001b[1;33m    db.similar_artists.drop()x\u001b[0m\n\u001b[1;37m                             ^\u001b[0m\n\u001b[1;31mSyntaxError\u001b[0m\u001b[1;31m:\u001b[0m invalid syntax\n"
     ]
    }
   ],
   "source": [
    "headers = {'X-Xapp-Token': token}\n",
    "payload = {}\n",
    "db.similar_artworks.drop()\n",
    "total_count = db.artworks.count()\n",
    "count = 0\n",
    "# try:\n",
    "    size = 1000\n",
    "    chunks = [db.artworks.find()[x:x+size] for x in range(0, total_count, size)]\n",
    "    for chunk in chunks:\n",
    "        ds = []\n",
    "        for artwork in chunk:\n",
    "            url = artworks['_links']['similar_artworks']['href']\n",
    "            response = requests.get(url, params=payload, headers=headers)\n",
    "            data = response.json()['_embedded']['artists']\n",
    "            ids = [d['id'] for d in data]\n",
    "            ds.append({'_id': artist['_id'], 'data': ids})\n",
    "            count += 1\n",
    "            if count % (total_count / 10) < len(data):\n",
    "                print('%d %s processed.' % (count, 'artists'))\n",
    "        db.similar_artists.insert_many(ds)\n",
    "# except Exception as e:\n",
    "#     print(e)\n",
    "#     print(url)\n",
    "#     print(response)\n",
    "#     print(count)"
   ]
  },
  {
   "cell_type": "markdown",
   "metadata": {},
   "source": [
    "### users"
   ]
  },
  {
   "cell_type": "code",
   "execution_count": 9,
   "metadata": {
    "collapsed": false
   },
   "outputs": [
    {
     "name": "stdout",
     "output_type": "stream",
     "text": [
      "247 artists processed.\n",
      "494 artists processed.\n",
      "740 artists processed.\n",
      "987 artists processed.\n",
      "1233 artists processed.\n",
      "1480 artists processed.\n",
      "1727 artists processed.\n",
      "1973 artists processed.\n",
      "2220 artists processed.\n",
      "2466 artists processed.\n"
     ]
    }
   ],
   "source": [
    "headers = {'X-Xapp-Token': token}\n",
    "payload = {}\n",
    "db.users.drop()\n",
    "total_count = db.profiles.count()\n",
    "count = 0\n",
    "# try:\n",
    "size = 1000\n",
    "chunks = [db.profiles.find()[x:x+size] for x in range(0, total_count, size)]\n",
    "for chunk in chunks:\n",
    "    ds = []\n",
    "    for profile in chunk:\n",
    "        if 'owner' in profile['_links']:\n",
    "            url = profile['_links']['owner']['href']\n",
    "            url_parts = url.split('/')\n",
    "            if url_parts[-2] == 'users':\n",
    "                response = requests.get(url, params=payload, headers=headers)\n",
    "                d = response.json()\n",
    "                data = [d]\n",
    "                [change_id_field(d) for d in data]\n",
    "                ds.append(d)\n",
    "        count += 1\n",
    "        if count % (total_count / 10) < len(data):\n",
    "            print('%d %s processed.' % (count, 'artists'))\n",
    "    db.users.insert_many(ds)\n",
    "# except Exception as e:\n",
    "#     print(e)\n",
    "#     print(url)\n",
    "#     print(response)\n",
    "#     print(count)"
   ]
  },
  {
   "cell_type": "markdown",
   "metadata": {},
   "source": [
    "### collections"
   ]
  },
  {
   "cell_type": "code",
   "execution_count": 12,
   "metadata": {
    "collapsed": false,
    "scrolled": false
   },
   "outputs": [
    {
     "ename": "SyntaxError",
     "evalue": "invalid syntax (<ipython-input-12-4ced32a4c507>, line 1)",
     "output_type": "error",
     "traceback": [
      "\u001b[1;36m  File \u001b[1;32m\"<ipython-input-12-4ced32a4c507>\"\u001b[1;36m, line \u001b[1;32m1\u001b[0m\n\u001b[1;33m    db.similar_artists.drop()x\u001b[0m\n\u001b[1;37m                             ^\u001b[0m\n\u001b[1;31mSyntaxError\u001b[0m\u001b[1;31m:\u001b[0m invalid syntax\n"
     ]
    }
   ],
   "source": [
    "headers = {'X-Xapp-Token': token}\n",
    "payload = {}\n",
    "db.collections.drop()\n",
    "total_count = db.users.count()\n",
    "count = 0\n",
    "try:\n",
    "    size = 1000\n",
    "    chunks = [db.artists.find()[x:x+size] for x in range(0, total_count, size)]\n",
    "    for chunk in chunks:\n",
    "        ds = []\n",
    "        for artist in chunk:\n",
    "            url = artist['_links']['similar_artists']['href']\n",
    "            response = requests.get(url, params=payload, headers=headers)\n",
    "            data = response.json()['_embedded']['artists']\n",
    "            ids = [d['id'] for d in data]\n",
    "            ds.append({'_id': artist['_id'], 'data': ids})\n",
    "            count += 1\n",
    "            if count % (total_count / 10) < len(data):\n",
    "                print('%d %s processed.' % (count, 'artists'))\n",
    "        db.similar_artists.insert_many(ds)\n",
    "except Exception as e:\n",
    "    print(e)\n",
    "    print(url)\n",
    "    print(response)\n",
    "    print(count)"
   ]
  },
  {
   "cell_type": "code",
   "execution_count": 10,
   "metadata": {
    "collapsed": false
   },
   "outputs": [
    {
     "name": "stdout",
     "output_type": "stream",
     "text": [
      "Alessandra Henderson\n",
      "Alexander Fabry\n",
      "Andreas Källbom\n",
      "Andreas Laszlo Konrath\n",
      "ART21\n",
      "ARTBOOK | D.A.P.\n",
      "BLOUIN ARTINFO\n",
      "Erina Ho\n",
      "Artsy Editorial\n",
      "BOMB\n",
      "Caroline Lau\n",
      "Carter Cleveland\n",
      "Cedar Pasori\n",
      "Craig Spaeth\n",
      "Elena Soboleva\n",
      "gib reimschüssel\n",
      "Huffington Post Arts&Culture\n",
      "Hyperallergic\n",
      "Ibiayi Briggs\n",
      "Jared Quinton\n",
      "Jared Schiller\n",
      "JiaJia Fei\n",
      "Joey Aghion\n",
      "John Elderfield\n",
      "Karen Kedmey\n",
      "Marc Azoulay\n",
      "Maria Brito\n",
      "Matthew Israel\n",
      "Molly Gottschalk\n",
      "orta@artsymail.com\n",
      "PBS Arts\n",
      "Robert Lenne\n",
      "Shamim M. Momin\n",
      "Simon de Pury\n",
      "Museum Nerd\n",
      "Daniel Doubrovkine\n",
      "Sebastian Cwilich\n",
      "evan patrick\n",
      "Legacy Russell\n",
      "Bill Powers\n",
      "Emil Olsson\n",
      "Nicholas Forrest\n",
      "Heather Corcoran\n",
      "Lori Zimmer\n",
      "Jessica Backus\n",
      "Alex Gilbert\n",
      "Liz Luna\n",
      "kim drew\n",
      "Christine Kuan\n",
      "Cristin Tierney\n",
      "Wendi Murdoch\n",
      "Annie Stancliffe\n",
      "Rebecca Bronfein Raphael\n",
      "Alana Chloe Esposito\n",
      "Max Marmor\n",
      "Erika Velazquez\n",
      "JR\n",
      "Andrea Lipps\n",
      "Christie's\n",
      "Suzana Diamond\n",
      "Lauren Kaplan\n",
      "Man Bartlett\n",
      "Serena Qiu\n",
      "Yi Zhou Studio\n",
      "Aithan Shapira\n",
      "Hank Willis Thomas\n",
      "AOL Artists\n",
      "The Art Genome Project\n",
      "Murray Moss\n",
      "Alley Kurgan\n",
      "Miriam Katz\n",
      "Tess Thackara\n",
      "Jonathan Shaughnessy\n",
      "Sky Dayton\n",
      "Beth Fiore\n",
      "Daniel Källbom\n",
      "Danielle Rago\n",
      "Megan Newcome\n",
      "Richard Phillips\n",
      "David Adams Cleveland\n",
      "Jordan Robin\n",
      "Mike Boyle\n",
      "Klaus Biesenbach\n",
      "Pearl Lam\n",
      "Prune Nourry\n",
      "Artsy Collecting\n",
      "Eric Shiner\n",
      "Bicephaly Pictures \n",
      "Patrick Hussey\n",
      "Andras Szanto\n",
      "Haley Rose Cohen\n",
      "Liz Neely\n",
      "Cecilia Alemani\n",
      "Kalup Linzy\n",
      "Dasha Zhukova\n",
      "Artsy Education\n",
      "Luis M. Castañeda\n",
      "Daniel Belasco\n",
      "Tim Nighswander/IMAGING4ART\n",
      "Tina Rivers Ryan\n",
      "Cahiers d'Art\n",
      "Olivia-Jene Fagon\n",
      "Bethina Liu\n",
      "Katherine Gregory\n",
      "Avant/Garde Diaries\n",
      "Julia Colavita\n",
      "Daniella Ohad\n",
      "Lucy Redoglia\n",
      "Zoë Salditch\n",
      "P H I L L I P S\n",
      "Russian American Cultural Center of New York\n",
      "Ubicouture\n",
      "Sasha Levine\n",
      "Spncr Schiml\n",
      "TheDoNotEnterDiaries\n",
      "Alberto Mugrabi\n",
      "Artsybot\n",
      "Sarah Montross\n",
      "Mihail Lari and Scott Murray\n",
      "Marisa Bartolucci\n",
      "Bettina Korek\n",
      "Natalia Kolodzei\n",
      "Edwynn Houk Gallery\n",
      "Jeff Davis\n",
      "Garren Gotthardt\n",
      "Anil Bawa-Cavia\n",
      "Tiffany Lambert\n",
      "Nora Burnett Abrams\n",
      "Shane Lavalette\n",
      "Andrea Carson Barker\n",
      "Laura Brown\n",
      "Alie Cline\n",
      "Hakan Topal\n",
      "Dennis Scholl\n",
      "Claudia Paetzold\n",
      "Willa Koerner\n",
      "Hannah Gregory\n",
      "Mehtap Öztürk\n",
      "Julie Baumgardner\n",
      "Kalina King\n",
      "Ileana Selejan\n",
      "Emily Rappaport\n",
      "Laura de Gunzburg\n",
      "Johannes Fricke Waldthausen\n",
      "Maker Magazine\n",
      "Ana Finel Honigman\n",
      "Kevin Lin\n",
      "Claressinka Anderson\n",
      "M.A. Wholey\n",
      "Denise Birkhofer\n",
      "Arsalan Mohammad\n",
      "Kianga Ellis\n",
      "Tanya Alejandra Paz\n",
      "maxwell williams\n",
      "Manor House\n",
      "harry j. weil\n",
      "Amanda Sarroff\n",
      "Kate Haveles\n",
      "Anna Furman\n",
      "Danielle Forest\n",
      "Churned/Closed Partners\n",
      "Qompendium\n",
      "Monopol-Magazin\n",
      "PIN-UP Magazine\n",
      "Snarkitecture\n",
      "Stas Chyzhykova\n",
      " Oksana Udovitska\n",
      "Jennifer Scanlan\n",
      "Matt Zikherman\n",
      "Gestalten\n",
      "Mark Ledbury\n",
      "Sotheby's\n",
      "Art Privee\n",
      "Rizzoli\n",
      "Whitehot Magazine\n",
      "Howard Rachofsky\n",
      "Peter Brant\n",
      "ARTtube\n",
      "Tucker Robbins\n",
      "Asia Week New York\n",
      "ArtAsiaPacific\n",
      "Jonathan Griffin\n",
      "Jennifer Field\n",
      "alexandra darraby\n",
      "Los Angeles Conservancy\n",
      "Institute of Fine Arts - NYU\n",
      "Grimanesa Amorós\n",
      "Karyn Lovegrove\n",
      "Ivan Shaw\n",
      "Saskia Wilson-Brown\n",
      "A+D Architecture and Design Museum, Los Angeles\n",
      "Evrim Altug\n",
      "Michelle Andrade\n",
      "Cory Jacobs\n",
      "Asia Art Archive\n",
      "ArtWorks ADL NY\n",
      "National Association of Women Artists, Inc.\n",
      "Initiatives in Art and Culture\n",
      "Ann Street Studio\n",
      "Kimberly Bradley\n",
      "IN THE STUDIO WITH JR\n",
      "NYCxDESIGN\n",
      "Stefano Tonchi\n",
      "Rosa de la Cruz\n",
      "Kim Heirston\n",
      "Neville Wakefield\n",
      "Dylan Fareed\n",
      "Rebecca McGivney\n",
      "French Pavilion at the 55th Venice Biennale\n",
      "German Pavilion at the 55th Venice Biennale\n",
      "Chilean Pavilion at the 55th Venice Biennale\n",
      "Bahamian Pavilion at the 55th Venice Biennale\n",
      "New Zealand Pavilion at the 55th Venice Biennale\n",
      "Lebanese Pavilion at the 55th Venice Biennale\n",
      "Larys Frogier\n",
      "Yana Peel\n",
      "Danish Pavilion at the 55th Venice Biennale\n",
      "Irish Pavilion at the 55th Venice Biennale\n",
      "Jeffrey Deitch\n",
      "Belgian Pavilion at the 55th Venice Biennale\n",
      "Portuguese Pavilion at the 55th Venice Biennale\n",
      "Austrian Pavilion at the 55th Venice Biennale\n",
      "Veronica Chou\n",
      "Finnish Pavilion At the 55th Venice Biennale\n",
      "Greek Pavilion At the 55th Venice Biennale\n",
      "Italian Pavilion at the 55th Venice Biennale\n",
      "British Pavilion at the 55th Venice Biennale\n",
      "Uruguayan Pavilion at the 55th Venice Biennale\n",
      "ArtReview\n",
      "Hungarian Pavilion at the 55th Venice Biennale\n",
      "Israeli Pavilion at the 55th Venice Biennale\n",
      "Turkish Pavilion at the 55th Venice Biennale\n",
      "Icelandic Pavilion at the 55th Venice Biennale\n",
      "Korean Pavilion at the 55th Venice Biennale\n",
      "Japanese Pavilion at the 55th Venice Biennale\n",
      "United States Pavilion at the 55th Venice Biennale\n",
      "Slovenian Pavilion at the 55th Venice Biennale\n",
      "Dutch Pavilion at the 55th Venice Biennale\n",
      "Bosnia & Herzegovina Pavilion at the 55th Venice Biennale\n",
      "Kosovo Pavilion at the 55th Venice Biennale\n",
      "Australian Pavilion at the 55th Venice Biennale\n",
      "Argentinian Pavilion at the 55th Venice Biennale\n",
      "Russian Pavilion at the 55th Venice Biennale\n",
      "Norwegian Pavilion at the 55th Venice Biennale\n",
      "Spanish Pavilion at the 55th Venice Biennale\n",
      "Serbian Pavilion at the 55th Venice Biennale\n",
      "Pavilion of the Holy See (Vatican) at the 55th Venice Biennale\n",
      "Cultured Magazine\n",
      "Latin American Pavilion at the 55th Venice Biennale\n",
      "Polish Pavilion at the 55TH Venice Biennale\n",
      "Brazilian Pavilion at the 55th Venice Biennale\n",
      "Chinese Pavilion at the 55th Venice Biennale\n",
      "Paraguayan Pavilion at the 55th Venice Biennale\n",
      "Maldives Pavilion at the 55th Venice Biennale\n",
      "Swiss Pavilion at the 55th Venice Biennale\n",
      "Latvian Pavilion at the 55th Venice Biennale\n",
      "Cuban Pavilion at the 55th Venice Biennale\n",
      "Canadian Pavilion at the 55th Venice Biennale\n",
      "John Maeda\n",
      "Michael Boyd\n",
      "Tony Chambers\n",
      "Angola Pavilion at the 55th Venice Biennale\n",
      "Dazed Digital \n",
      "Joni Sternbach\n",
      "la Biennale di Venezia\n",
      "DIS Magazine\n",
      "Artsy Design\n",
      "Nowness\n",
      "43 Salón (inter) Nacional de Artistas\n",
      "China Residencies\n",
      "Peter Hort\n",
      "Caroline Wolff\n",
      "W Magazine\n",
      "Olivia Jene-Fagon\n",
      "Design Miami/\n",
      "Art Rio 2013\n",
      "Latitude Platform for Brazilian Art Galleries Abroad\n",
      "Arts for India \n",
      "The Salon: Art + Design\n",
      "Jacopo Crivelli Visconti\n",
      "Fabio Szwarcwald\n",
      "NOO MAG\n",
      "Simon Watson\n",
      "Pablo Leon De La Barra\n",
      "Contemporary Istanbul\n",
      "Phaidon\n",
      "Casey Lesser\n",
      "Michelle Finocchi\n",
      "Ewa Partum\n",
      "TWO x TWO\n",
      "Null\n",
      "Canadian Art\n",
      "Tania Cavallo\n",
      "Ilya Kavalerov\n",
      "Annika Larsson\n",
      "Heta Kuchka\n",
      "Miia Rinne\n",
      "Cliff Evans\n",
      "Jonathan Monaghan\n",
      "Sheila Gallagher\n",
      "Jessica Faiss\n",
      "Noora Geagea\n",
      "Sara Ludy\n",
      "Simone Lueck\n",
      "Jasmina Cibic\n",
      "Alaa Edris\n",
      "Karim Al Husseini\n",
      "Nermine Hammam\n",
      "Maya Zack\n",
      "Josh Azzarella\n",
      "Aza Shade\n",
      "Sylvie Blocher\n",
      "luiz duVa\n",
      "Adam Putnam\n",
      "Heather Cassils\n",
      "Gil Yefman\n",
      "Lauren Kelley\n",
      "Zilla Leutenegger\n",
      "Rollin Leonard\n",
      "Eve Sussman & Simon Lee\n",
      "Janet Biggs\n",
      "Constant Dullaart\n",
      "Shen ChaoFang\n",
      "Milica Tomic\n",
      "Alex Banfich\n",
      "Madeleine Boucher\n",
      "Ellen Yoshi Tani\n",
      "Eve Sussman and Rufus Corporation\n",
      "Ann Fensterstock\n",
      "MAMAC de Nice\n",
      "Geoff Champion\n",
      "Art Stage Singapore 2014\n",
      "Timotheus Tomicek\n",
      "Julia Draganovic\n",
      "Joe Scotland\n",
      "Francesca Gavin\n",
      "Staffan Ahrenberg\n",
      "Nicoletta Fiorucci\n",
      "VISTAS\n",
      "Nick Cullinan\n",
      "Anita Zabludowicz\n",
      "Jeremy Laing\n",
      "Leah Sandals\n",
      "Denise Markonish\n",
      "Sharon Coplan Hurowitz\n",
      "Melanie Edmunds\n",
      "Joe Mimran\n",
      "Arie Amaya\n",
      "Jeffrey Spalding\n",
      "Damon Zucconi\n",
      "November Paynter\n",
      "Steven Gambrel\n",
      "Amy Lau\n",
      "Eric Cohler\n",
      "Julie Hillman\n",
      "Charles E. Pavarini III\n",
      "Gabriel Perez-Barreiro\n",
      "IFPDA Print Fair\n",
      "Alanur Ataç \n",
      "PINTA NY 2013\n",
      "Marysol Nieves\n",
      "Thomas Nozkowski\n",
      "NADA MIAMI BEACH\n",
      "InEnArt\n",
      "The Harvard Advocate\n",
      "Merve Unsal\n",
      "Tracey Riese\n",
      "Richard Wright\n",
      "Eleanor Cayre\n",
      "Glenn Adamson\n",
      "Dr. Al Eiber\n",
      "Garage Magazine\n",
      "Ibett Yanez\n",
      "Michelle Grabner\n",
      "Maja Spiess\n",
      "Max Schreier\n",
      "Chung-Yi Chi\n",
      "Young & Starving\n",
      "douglas durkin\n",
      "Amelia Abdullahsani\n",
      "Michael Valinsky\n",
      "Nick Simmons\n",
      "Daisuke Miyatsu\n",
      "Sylvain Levy\n",
      "Zineng Wang\n",
      "Jennifer Dunlop Fletcher\n",
      "Entang Wiharso\n",
      "Steven Volpe\n",
      "Sotheby's Institute of Art\n",
      "Alison Pincus\n",
      "Katarina Batina\n",
      "Art Los Angeles Contemporary\n",
      "MR PORTER\n",
      "Moby\n",
      "Cliff & Mandy Einstein\n",
      "Iris Marden\n",
      "Patrick Steffen\n",
      "Moises Micha\n",
      "Patricia Marshall\n",
      "Patricia Martin\n",
      "Abaseh Mirvali\n",
      "María de Corral\n",
      "Urban Arts Partnership\n",
      "Sally Tallant\n",
      "Jeremy Strick\n",
      "Ferran Barenblit\n",
      "Tobias Ostrander\n",
      "Wendy Navarro and Carlos Vallejo\n",
      "Canda Elgiz\n",
      "\n",
      "Heidi Fichtner\n",
      "Sherry Dobbin\n",
      "Brett Littman\n",
      "Ivanka Trump\n",
      "Susan Sollins\n",
      "Sandy Heller\n",
      "Melissa Chiu\n",
      "Richard Chang\n",
      "Sara VanDerBeek\n",
      "Marta Mestre\n",
      "Alain Servais\n",
      "Florence Derieux\n",
      "Valeria Napoleone\n",
      "Robert Tolmach\n",
      "Camilla Barella\n",
      "Ethan Wagner & Thea Westreich \n",
      "KM\n",
      "Sola Irene Agustsson\n",
      "Têra Queiroz\n",
      "Catherine Rose\n",
      "Jim Gold\n",
      "Rebecca Bruder\n",
      "Kenny Goss\n",
      "Sureyya Wille\n",
      "\n",
      "Haniya Rae\n",
      "Catherine Henry\n",
      "Tanguy Van Quickenborne\n",
      "Devrim Bayar\n",
      "Jean Paul Knott\n",
      "NADA New York 2014\n",
      "Delphine Krakoff\n",
      "Roman Alonso\n",
      "Derek Wilson\n",
      "Nicole Schoeni\n",
      "Jim Walrod\n",
      "Erik Parker\n",
      "Matthew Higgs\n",
      "Jon Rafman\n",
      "Stefan Kalmár\n",
      "Leon Amitai\n",
      "Nicolas Chow\n",
      "Neuehouse\n",
      "Dustin Yellin\n",
      "Rodrigo Alonso\n",
      "Eva Grinstein\n",
      "Katie Higgins\n",
      "Marlise Ilhesca Jozami\n",
      "Diego Costa Peuser\n",
      "Amy Raffel\n",
      "Margot Weller\n",
      "Paul Laster\n",
      "Gordon Austin\n",
      "Jack Laylin\n",
      "COOL HUNTING\n",
      "Felix Burrichter\n",
      "Leslie Williamson\n",
      "Dennis Freedman\n",
      "Sho-Joung Kim-Wechsler\n",
      "Jackie Hung\n",
      "Jürgen Mayer H.\n",
      "Lisa Schiff\n",
      "Simon Castets\n",
      "Mark Rosen\n",
      "Becca Starr\n",
      "Sophia Alexandrov\n",
      "Remy Ferber\n",
      "Mari Spirito\n",
      "Emily Leonardo\n",
      "Anna Barden\n",
      "Barbara Alfeo\n",
      "Daily Digest: Top Art News\n",
      "Payal Uttam\n",
      "Will Goldstein\n",
      "Anthony Lui\n",
      "Marianne Torp\n",
      "Jens-Peter Brask\n",
      "Marie Nipper\n",
      "Annie Kielgast\n",
      "Sarah Weir\n",
      "Jordan Hart\n",
      "Gray Holubar\n",
      "Jacob Fabricius\n",
      "Anna Arutiunova\n",
      "Julieta González\n",
      "Maria do Mar Guinle\n",
      "Marta Ramos\n",
      "Mônica Novaes Esmanhotto\n",
      "Vika Gazinskaya\n",
      "Ani Petrov\n",
      "Aidan Salakhova\n",
      "Antoine Arnault and Natalia\tVodianova\n",
      "Melissa Smith\n",
      "Alessandra Castillo\n",
      "monica novaes esmanhotto\n",
      "Sabine Brunckhorst\n",
      "Çelenk Bafra\n",
      "Fatma Çolakoğlu\n",
      "Mehmet Ali Bakanay \n",
      "Deniz Atac\n",
      "Elif Bayoglu\n",
      "Ugochukwu-Smooth C. Nzewi\n",
      "Jesse Williams and Aryn DrakeLee-Williams\n",
      "Morgan Ritter-Armour\n",
      "Brittni Zotos\n",
      "Michael Maharam\n",
      "Sarah Elson\n",
      "Contemporary Istanbul 2014\n",
      "IFPDA Print Fair\n",
      "Kara Q. Smith\n",
      "Victoria Pomery\n",
      "1:54 Contemporary African Art Fair \n",
      "James Trainor\n",
      "Halley Johnson\n",
      "Giles Peppiatt\n",
      "Robert Devereux\n",
      "Moctar Fall\n",
      "Simon Franks\n",
      "Simon Njami\n",
      "Christa Clarke\n",
      "David Adjaye\n",
      "Thomas Marks\n",
      "Ernst Vegelin van Claerbergen\n",
      "Anna Blessmann and Peter Saville\n",
      "Joelle Levinas\n",
      "David Balzer\n",
      "David Liss\n",
      "José Roca\n",
      "Ana Sokoloff\n",
      "Kimberley Newport-Mimran \n",
      "Paul E. Bain\n",
      "Marie Fraser\n",
      "Christie Lee\n",
      "Carlos Acevedo\n",
      "Janet Yoon\n",
      "Jesse Kedy\n",
      "Sam Gaskin\n",
      "Solita Mishaan\n",
      "Sandra Hegedus Mulliez\n",
      "Ann Shafer\n",
      "Shelley Langdale\n",
      "Mike Watson\n",
      "Jordan Schnitzer\n",
      "Wilfried Cooreman\n",
      "Victoria Elizabeth Miguel\n",
      "The Print Fair’s Designer Committee\n",
      "Elizabeth Berg\n",
      "Konstantina Karterouli\n",
      "Vicente Wolf\n",
      "Muriel Brandolini\n",
      "Robert Stilin\n",
      "Robert Couturier\n",
      "Alexander Gorlin\n",
      "John Eason\n",
      "Kristen McGinnis\n",
      "Alexandra Champalimaud\n",
      "David Scott\n",
      "Winka Dubbeldam\n",
      "Rafael de Cárdenas\n",
      "Sebastian Sanchez\n",
      "Huma Kabakcı\n",
      "Janet\n",
      "Oner Kocabeyoglu\n",
      "Oya Delahaye\n",
      "Artsy IT\n",
      "Derek and Christen Wilson\n",
      "Mel Nguyen\n",
      "Hans den Hartog Jager\n",
      "Jacqueline Grandjean\n",
      "Laurie Ziegler\n",
      "Nicolai Frahm\n",
      "Amy Phelan\n",
      "Svetlana Kuzmicheva-Uspenskaya\n",
      "Lindsay Howard\n",
      "Alfonso Medina\n",
      "Claire Breukel\n",
      "Paige West\n",
      "Theodoretus Breen\n",
      "Paul Judelson\n",
      "Ruba Katrib\n",
      "Niels and Cristina Kantor\n",
      "Stefan Simchowitz\n",
      "Joshua Roth\n",
      "Christy MacLear\n",
      "Jennifer Rubell\n",
      "Marco Velardi\n",
      "Peter Marino\n",
      "Cab Broskoski\n",
      "Rachel Egan\n",
      "Kinga Nowak\n",
      "Ryohei Ozaki\n",
      "Sean Oh\n",
      "Nicholas Sewitz\n",
      "Bridget Gleeson\n",
      "Hillary Shih\n",
      "Owen Dodd\n",
      "Rudy Tseng\n",
      "Sabrina Buell\n",
      "Stanlee Gatti\n",
      "Cathy Topham\n",
      "Jordana Zeldin\n",
      "Stephen Dillon\n",
      "Los Angeles Modern Auctions (LAMA)\n",
      "Melani Setiawan\n",
      "Will Kopelman\n",
      "Suzanne Deal Booth\n",
      "Frédéric de Goldschmidt\n",
      "Peter Yeung\n",
      "Soraya Haas\n",
      "Luis Felipe Ortega\n",
      "Rosalyn Dmello\n",
      "Chris Sharp\n",
      "Mario Garcia Torres\n",
      "Alexander Forbes\n",
      "Michael and Susan Hort\n",
      "Lester Marks\n",
      "Thomas and Nina Flohr\n",
      "Elena Soboleva\n",
      "Juan Alfaro\n",
      "William Lim\n",
      "Tiffany Wai-Ying Beres\n",
      "Doreen Remen\n",
      "Barry X Ball\n",
      "Alice Gray Stites\n",
      "Jay Gorney\n",
      "Alessandro Luongo\n",
      "Kelani Nichole\n",
      "Liz Parks\n",
      "Yulia Topchiy\n",
      "Lori Zippay\n",
      "Liliana Cavendish\n",
      "Alan Lau\n",
      "Alia Al-Senussi and Abdullah AlTurki\n",
      "Paulo Pong\n",
      "Alexxa Gotthardt\n",
      "Nicholas O'Brien\n",
      "Regina Pinho de Almeida\n",
      "Jacqueline Buckingham Anderson\n",
      "Cédric Liénart\n",
      "Amy Silver\n",
      "Yilmaz Dziewior\n",
      "Zoë Gray\n",
      "Jamie Lee Curtis\n",
      "Chiu-Ti Jansen \n",
      "Artsy Institutions\n",
      "Jake Brodsky\n",
      "Isaac Kaplan\n",
      "Kristina Parsons\n",
      "Jasmine Li\n",
      "Elena Corda\n",
      "Susan Yi\n",
      "Natalia Maldonado\n",
      "Name Name\n",
      "Kat Herriman\n",
      "Janelle Zara\n",
      "Frances Arnold\n",
      "Myrna Ayad\n",
      "Artsy\n",
      "Duygu Demir\n",
      "Brandon Brown\n",
      "Silas Marti\n",
      "Laura Gilbert\n",
      "Jennifer Baum Lagdameo\n",
      "Laura Purseglove\n",
      "Asia Chiao\n",
      "Emily Nathan\n",
      "Emily Torrey\n",
      "Alexandra Alexa\n",
      "Himali Singh Soin\n",
      "Anjulie Rao\n",
      "Katy Diamond Hamer\n",
      "Sean O'Toole\n",
      "Hande Oynar\n",
      "Honora Shea\n",
      "Jason Foumberg\n",
      "Ari Spool\n",
      "Barbara Moreira\n",
      "Blaire Dessent\n",
      "Alicia Eler\n",
      "Meredith Mendelsohn\n",
      "Grace-Yvette Gemmell\n",
      "Ali Gitlow\n",
      "Alicia Reuter\n",
      "Gemma Rolls-Bentley\n",
      "Elyse Mallouk\n",
      "Rachel Lebowitz\n",
      "Lara Day\n",
      "Ariela Gittlen\n",
      "Matt Stromberg\n",
      "Monica Uszerowicz\n",
      "Lucas Iberico Lozada\n"
     ]
    }
   ],
   "source": [
    "for user in db.users.find():\n",
    "    print(user['name'])"
   ]
  },
  {
   "cell_type": "code",
   "execution_count": 41,
   "metadata": {
    "collapsed": false
   },
   "outputs": [
    {
     "data": {
      "text/plain": [
       "(701, 1648, 107, 0, 10, 2466)"
      ]
     },
     "execution_count": 41,
     "metadata": {},
     "output_type": "execute_result"
    }
   ],
   "source": [
    "headers = {'X-Xapp-Token': token}\n",
    "payload = {}\n",
    "db.users.drop()\n",
    "total_count = db.profiles.count()\n",
    "c1,c2,c3,c4,c5 = 0,0,0,0,0\n",
    "# try:\n",
    "size = 1000\n",
    "chunks = [db.profiles.find()[x:x+size] for x in range(0, total_count, size)]\n",
    "for chunk in chunks:\n",
    "    ds = []\n",
    "    for profile in chunk:\n",
    "        if 'owner' in profile['_links']:\n",
    "            url = profile['_links']['owner']['href']\n",
    "            url_parts = url.split('/')\n",
    "            if url_parts[-2] == 'users':\n",
    "                c1+=1\n",
    "            elif url_parts[-2] == 'partners':\n",
    "                c2+=1\n",
    "            elif url_parts[-2] == 'fairs':\n",
    "                c3+=1\n",
    "            else:\n",
    "                c4+=1\n",
    "        else:\n",
    "            c5 += 1\n",
    "#         if count % (total_count / 10) < len(data):\n",
    "#             print('%d %s processed.' % (count, 'artists'))\n",
    "#     db.users.insert_many(ds)\n",
    "# except Exception as e:\n",
    "#     print(e)\n",
    "#     print(url)\n",
    "#     print(response)\n",
    "#     print(count)\n",
    "(c1,c2,c3,c4,c5, total_count)"
   ]
  },
  {
   "cell_type": "code",
   "execution_count": 31,
   "metadata": {
    "collapsed": false
   },
   "outputs": [
    {
     "data": {
      "text/plain": [
       "{'_id': '54903ebb776f7215340a0000',\n",
       " '_links': {'permalink': {'href': 'http://www.artsy.net/chart-1'},\n",
       "  'self': {'href': 'https://api.artsy.net/api/profiles/54903ebb776f7215340a0000'},\n",
       "  'website': {'href': ''}},\n",
       " 'created_at': '2014-12-16T14:16:27+00:00',\n",
       " 'description': '',\n",
       " 'handle': 'chart-1',\n",
       " 'location': '',\n",
       " 'updated_at': '2014-12-16T14:18:46+00:00'}"
      ]
     },
     "execution_count": 31,
     "metadata": {},
     "output_type": "execute_result"
    }
   ],
   "source": [
    "profile"
   ]
  },
  {
   "cell_type": "code",
   "execution_count": 37,
   "metadata": {
    "collapsed": false
   },
   "outputs": [
    {
     "ename": "TypeError",
     "evalue": "'int' object is not iterable",
     "output_type": "error",
     "traceback": [
      "\u001b[1;31m---------------------------------------------------------------------------\u001b[0m",
      "\u001b[1;31mTypeError\u001b[0m                                 Traceback (most recent call last)",
      "\u001b[1;32m<ipython-input-37-02d165e20f76>\u001b[0m in \u001b[0;36m<module>\u001b[1;34m()\u001b[0m\n\u001b[1;32m----> 1\u001b[1;33m \u001b[0ma1\u001b[0m\u001b[1;33m,\u001b[0m\u001b[0ma2\u001b[0m\u001b[1;33m=\u001b[0m\u001b[1;36m0\u001b[0m\u001b[1;33m\u001b[0m\u001b[0m\n\u001b[0m",
      "\u001b[1;31mTypeError\u001b[0m: 'int' object is not iterable"
     ]
    }
   ],
   "source": [
    "a1,a2=0"
   ]
  },
  {
   "cell_type": "code",
   "execution_count": 9,
   "metadata": {
    "collapsed": false
   },
   "outputs": [
    {
     "name": "stdout",
     "output_type": "stream",
     "text": [
      "Cursor not found, cursor id: 207244522241\n",
      "https://api.artsy.net/api/artists?similar_to_artist_id=515ce3415eeb1c524c001105\n",
      "<Response [200]>\n",
      "3329\n"
     ]
    }
   ],
   "source": [
    "db.similar_artists.drop()\n",
    "total_count = db.artists.count()\n",
    "count = 0\n",
    "try:\n",
    "    for artist in db.artists.find():\n",
    "        url = artist['_links']['similar_artists']['href']\n",
    "        headers = {'X-Xapp-Token': token}\n",
    "        payload = {}\n",
    "        response = requests.get(url, params=payload, headers=headers)\n",
    "        data = response.json()['_embedded']['artists']\n",
    "        ids = [d['id'] for d in data]\n",
    "        db['similar_artists'].insert_one({'_id': artist['_id'], 'data': data})\n",
    "        count += 1\n",
    "        if count % (total_count / 10) < len(data):\n",
    "            print('%d %s processed.' % (count, 'artists'))\n",
    "except Exception as e:\n",
    "    print(e)\n",
    "    print(url)\n",
    "    print(response)\n",
    "    print(count)"
   ]
  },
  {
   "cell_type": "markdown",
   "metadata": {},
   "source": [
    "## search"
   ]
  },
  {
   "cell_type": "code",
   "execution_count": 10,
   "metadata": {
    "collapsed": true
   },
   "outputs": [],
   "source": [
    "search_term = 'Andy Warhol'"
   ]
  },
  {
   "cell_type": "code",
   "execution_count": 11,
   "metadata": {
    "collapsed": false
   },
   "outputs": [],
   "source": [
    "search_url = BASE_URL + '/search'\n",
    "headers = {'X-Xapp-Token': token}\n",
    "payload = {'q': search_term}\n",
    "response = requests.get(search_url, params=payload, headers=headers)"
   ]
  },
  {
   "cell_type": "code",
   "execution_count": 12,
   "metadata": {
    "collapsed": false
   },
   "outputs": [
    {
     "data": {
      "text/plain": [
       "<Response [200]>"
      ]
     },
     "execution_count": 12,
     "metadata": {},
     "output_type": "execute_result"
    }
   ],
   "source": [
    "response"
   ]
  },
  {
   "cell_type": "code",
   "execution_count": 13,
   "metadata": {
    "collapsed": false
   },
   "outputs": [
    {
     "data": {
      "text/plain": [
       "{'_embedded': {'results': [{'_links': {'permalink': {'href': 'https://www.artsy.net/artist/andy-warhol'},\n",
       "     'self': {'href': 'https://api.artsy.net/api/artists/andy-warhol'},\n",
       "     'thumbnail': {'href': 'https://d32dm0rphc51dk.cloudfront.net/PFufT6nMKNwLOpPEezf4Ww/large.jpg'}},\n",
       "    'description': 'Dec 5, 2015 ... Browse the best of Andy Warhol art, including paintings and artwork for sale (with \\nprices), upcoming shows, and exclusive Andy Warhol articles\\xa0...',\n",
       "    'og_type': 'artsyinc:artist',\n",
       "    'title': 'Andy Warhol Art - 1161 Artworks, Biography & Shows on Artsy',\n",
       "    'type': 'Artist'},\n",
       "   {'_links': {'permalink': {'href': 'https://www.artsy.net/artist/andy-warhol/works'},\n",
       "     'self': {'href': 'https://api.artsy.net/api/artists/andy-warhol'},\n",
       "     'thumbnail': {'href': 'https://i.embed.ly/1/display/resize?height=300&quality=95&grow=false&url=https%3A%2F%2Fd32dm0rphc51dk.cloudfront.net%2FVFelegc1J0GFxkS2LSJdRg%2Flarger.jpg&key=a1f82558d8134f6cbebceb9e67d04980'}},\n",
       "    'description': 'Browse the best of Andy Warhol art, including paintings and artwork for sale (with \\nprices), upcoming shows, and exclusive Andy Warhol articles on Artsy.',\n",
       "    'og_type': 'artsyinc:artist',\n",
       "    'title': 'Andy Warhol Art - 1161 Artworks, Biography & Shows on Artsy',\n",
       "    'type': 'Artist'},\n",
       "   {'_links': {'permalink': {'href': 'https://www.artsy.net/artwork/andy-warhol-marilyn-33'},\n",
       "     'self': {'href': 'https://api.artsy.net/api/artworks/andy-warhol-marilyn-33'},\n",
       "     'thumbnail': {'href': 'https://encrypted-tbn1.gstatic.com/images?q=tbn:ANd9GcS9bfiVHgpVD3EiBWRAxsGucQj-yFbHDHtYNP57nntCGxrn3QgUEvVhOnLS'}},\n",
       "    'description': 'From Seattle Art Museum, Andy Warhol, Marilyn (1967), Screenprint on paper, 36 \\n× 36 in.',\n",
       "    'og_type': 'artsyinc:artwork',\n",
       "    'title': 'Andy Warhol, Marilyn (1967)',\n",
       "    'type': 'Artwork'},\n",
       "   {'_links': {'permalink': {'href': 'https://www.artsy.net/show/frye-art-museum-andy-warhol-little-red-book-number-178'},\n",
       "     'self': {'href': 'https://api.artsy.net/api/shows/frye-art-museum-andy-warhol-little-red-book-number-178'},\n",
       "     'thumbnail': {'href': 'https://encrypted-tbn0.gstatic.com/images?q=tbn:ANd9GcRelUnGqenWtQP1PLKE44_b2tMkEhRYBEOaZKWSOjFnpx4rlC9kDiZezPM'}},\n",
       "    'description': 'Past show featuring works by Andy Warhol at Frye Art Museum Seattle, 704 Terry \\nAvenue Seattle May 16th – Sep. 13th.',\n",
       "    'og_type': 'artsyinc:exhibition',\n",
       "    'title': 'Andy Warhol: Little Red Book #178',\n",
       "    'type': 'Show'},\n",
       "   {'_links': {'permalink': {'href': 'https://www.artsy.net/gene/pop-art'},\n",
       "     'self': {'href': 'https://api.artsy.net/api/genes/pop-art'},\n",
       "     'thumbnail': {'href': 'https://encrypted-tbn2.gstatic.com/images?q=tbn:ANd9GcQA-k4-pliSmYX4BRe48DYbQ9tCDJE0yOLo0nlLlwSOxuHW69a3YbaMS_k'}},\n",
       "    'description': '–Andy Warhol Pop Art was the dominant movement in early-1960s American art. \\nShort for “popular art,” it featured common household objects and consumer\\xa0...',\n",
       "    'og_type': 'artsyinc:gene',\n",
       "    'title': 'Pop Art',\n",
       "    'type': 'Gene'},\n",
       "   {'_links': {'permalink': {'href': 'https://www.artsy.net/artwork/andy-warhol-campbells-soup-series'},\n",
       "     'self': {'href': 'https://api.artsy.net/api/artworks/andy-warhol-campbells-soup-series'},\n",
       "     'thumbnail': {'href': 'https://d32dm0rphc51dk.cloudfront.net/vMMZip2LZdwqRH-To5dUXg/large.jpg'}},\n",
       "    'description': \"Available for sale from Guy Hepner, Andy Warhol, Campbell's Soup Series (1968\\n), 35 × 23 in.\",\n",
       "    'og_type': 'artsyinc:artwork',\n",
       "    'title': \"Andy Warhol, Campbell's Soup Series (1968), Available for Sale ...\",\n",
       "    'type': 'Artwork'},\n",
       "   {'_links': {'permalink': {'href': 'https://www.artsy.net/artwork/andy-warhol-flowers-1968'},\n",
       "     'self': {'href': 'https://api.artsy.net/api/artworks/andy-warhol-flowers-1968'},\n",
       "     'thumbnail': {'href': 'https://encrypted-tbn0.gstatic.com/images?q=tbn:ANd9GcRDgNkfP9P8GhuscIM2g6IO6_-EzQrJ-pKJBaAnPcNNJg9FWcCnRs1Lpn0'}},\n",
       "    'description': 'From Yale University Art Gallery, Andy Warhol, Flowers (1964), Silkscreen on \\ncanvas, 119.7 × 117.2 × 2.5 cm.',\n",
       "    'og_type': 'artsyinc:artwork',\n",
       "    'title': 'Andy Warhol, Flowers (1964)',\n",
       "    'type': 'Artwork'},\n",
       "   {'_links': {'permalink': {'href': 'https://www.artsy.net/artist/andy-warhol/auction-results'},\n",
       "     'self': {'href': 'https://api.artsy.net/api/artists/andy-warhol'},\n",
       "     'thumbnail': {'href': 'https://encrypted-tbn1.gstatic.com/images?q=tbn:ANd9GcQQkNEqiPuBFXfh7bPustLW-EnXCFjk9jfCnb3p9XxlX1Iw-ZaaRGo6FVY'}},\n",
       "    'description': 'See details of Andy Warhol auction results from recent, past, and upcoming sales\\n. Let Artsy be your price guide to Andy Warhol.',\n",
       "    'og_type': 'artsyinc:artist',\n",
       "    'title': 'Auction Results for Andy Warhol on Artsy',\n",
       "    'type': 'Artist'},\n",
       "   {'_links': {'permalink': {'href': 'https://www.artsy.net/article/editorial-andy-warhols-greatest-love-cats'},\n",
       "     'thumbnail': {'href': 'https://encrypted-tbn0.gstatic.com/images?q=tbn:ANd9GcRg_mw-uRPIFBwoai6ASSflAnZaASKzAHyAamDKXJUBg8JJRq1uoT5Zv2y0'}},\n",
       "    'description': 'Jun 22, 2013 ... To call Andy Warhol a “cat person” would be an understatement. The ever-\\nquotable Pop artist openly proclaimed his love for money, fame, and\\xa0...',\n",
       "    'og_type': 'article',\n",
       "    'title': \"Andy Warhol's Greatest Love: Cats\",\n",
       "    'type': None},\n",
       "   {'_links': {'permalink': {'href': 'https://www.artsy.net/artwork/andy-warhol-soup-can-vegetarian-vegetable'},\n",
       "     'self': {'href': 'https://api.artsy.net/api/artworks/andy-warhol-soup-can-vegetarian-vegetable'},\n",
       "     'thumbnail': {'href': 'https://encrypted-tbn2.gstatic.com/images?q=tbn:ANd9GcRMXcMBRG8ob7_S0uDWoO8sn3HJX9aL79pqxCD8Iuz53QcBR75yjVBWGDU'}},\n",
       "    'description': 'From Harn Museum of Art, Andy Warhol, Soup Can, Vegetarian Vegetable (1964)\\n, Silkscreen, 32 × 18 3/4 in.',\n",
       "    'og_type': 'artsyinc:artwork',\n",
       "    'title': 'Andy Warhol, Soup Can, Vegetarian Vegetable (1964)',\n",
       "    'type': 'Artwork'}]},\n",
       " '_links': {'next': {'href': 'https://api.artsy.net/api/search?offset=10&q=Andy+Warhol'},\n",
       "  'self': {'href': 'https://api.artsy.net/api/search?q=Andy+Warhol'}},\n",
       " 'offset': None,\n",
       " 'q': 'Andy Warhol',\n",
       " 'total_count': 14400}"
      ]
     },
     "execution_count": 13,
     "metadata": {},
     "output_type": "execute_result"
    }
   ],
   "source": [
    "response.json()"
   ]
  },
  {
   "cell_type": "code",
   "execution_count": null,
   "metadata": {
    "collapsed": true
   },
   "outputs": [],
   "source": []
  }
 ],
 "metadata": {
  "kernelspec": {
   "display_name": "Python 3",
   "language": "python",
   "name": "python3"
  },
  "language_info": {
   "codemirror_mode": {
    "name": "ipython",
    "version": 3
   },
   "file_extension": ".py",
   "mimetype": "text/x-python",
   "name": "python",
   "nbconvert_exporter": "python",
   "pygments_lexer": "ipython3",
   "version": "3.4.3"
  }
 },
 "nbformat": 4,
 "nbformat_minor": 0
}
